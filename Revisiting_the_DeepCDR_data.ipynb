{
 "cells": [
  {
   "cell_type": "code",
   "execution_count": 1,
   "id": "e1b58610-b8b4-4d73-a6c6-84abfdab4722",
   "metadata": {},
   "outputs": [
    {
     "name": "stderr",
     "output_type": "stream",
     "text": [
      "2025-02-19 19:38:14.841702: I tensorflow/core/platform/cpu_feature_guard.cc:193] This TensorFlow binary is optimized with oneAPI Deep Neural Network Library (oneDNN) to use the following CPU instructions in performance-critical operations:  SSE4.1 SSE4.2 AVX AVX2 AVX512F AVX512_VNNI FMA\n",
      "To enable them in other operations, rebuild TensorFlow with the appropriate compiler flags.\n",
      "2025-02-19 19:38:16.025759: I tensorflow/core/util/port.cc:104] oneDNN custom operations are on. You may see slightly different numerical results due to floating-point round-off errors from different computation orders. To turn them off, set the environment variable `TF_ENABLE_ONEDNN_OPTS=0`.\n"
     ]
    }
   ],
   "source": [
    "import pandas as pd\n",
    "import numpy as np\n",
    "import matplotlib.pyplot as plt\n",
    "import os\n",
    "import csv\n",
    "import tensorflow as tf\n",
    "import hickle as hkl\n",
    "import random\n",
    "import scipy.sparse as sp"
   ]
  },
  {
   "cell_type": "code",
   "execution_count": 2,
   "id": "62a10168-a288-4a34-ae75-0c179d10fec5",
   "metadata": {},
   "outputs": [],
   "source": [
    "# Need to just see how all the datafiles used in DeepCDR looks like"
   ]
  },
  {
   "cell_type": "code",
   "execution_count": 3,
   "id": "6bb13d2b-4d26-46e7-9e4e-a30920f6bedf",
   "metadata": {},
   "outputs": [],
   "source": [
    "# drug info file - This has the drug ID and the corresponding pubchem ID information\n",
    "Drug_info_file = pd.read_csv(\"data/GDSC/1.Drug_listMon Jun 24 09_00_55 2019.csv\")\n"
   ]
  },
  {
   "cell_type": "code",
   "execution_count": 4,
   "id": "815fcc4a-111b-4993-9bda-d9c25f31d307",
   "metadata": {},
   "outputs": [
    {
     "data": {
      "text/html": [
       "<div>\n",
       "<style scoped>\n",
       "    .dataframe tbody tr th:only-of-type {\n",
       "        vertical-align: middle;\n",
       "    }\n",
       "\n",
       "    .dataframe tbody tr th {\n",
       "        vertical-align: top;\n",
       "    }\n",
       "\n",
       "    .dataframe thead th {\n",
       "        text-align: right;\n",
       "    }\n",
       "</style>\n",
       "<table border=\"1\" class=\"dataframe\">\n",
       "  <thead>\n",
       "    <tr style=\"text-align: right;\">\n",
       "      <th></th>\n",
       "      <th>drug_id</th>\n",
       "      <th>Name</th>\n",
       "      <th>Synonyms</th>\n",
       "      <th>Targets</th>\n",
       "      <th>Target pathway</th>\n",
       "      <th>PubCHEM</th>\n",
       "      <th>Sample Size</th>\n",
       "      <th>Count</th>\n",
       "    </tr>\n",
       "  </thead>\n",
       "  <tbody>\n",
       "    <tr>\n",
       "      <th>0</th>\n",
       "      <td>1242</td>\n",
       "      <td>(5Z)-7-Oxozeaenol</td>\n",
       "      <td>5Z-7-Oxozeaenol, LL-Z1640-2</td>\n",
       "      <td>TAK1</td>\n",
       "      <td>Other, kinases</td>\n",
       "      <td>9863776</td>\n",
       "      <td>945</td>\n",
       "      <td>266</td>\n",
       "    </tr>\n",
       "    <tr>\n",
       "      <th>1</th>\n",
       "      <td>179</td>\n",
       "      <td>5-Fluorouracil</td>\n",
       "      <td>5-FU</td>\n",
       "      <td>Antimetabolite (DNA &amp; RNA)</td>\n",
       "      <td>Other</td>\n",
       "      <td>3385</td>\n",
       "      <td>968</td>\n",
       "      <td>266</td>\n",
       "    </tr>\n",
       "    <tr>\n",
       "      <th>2</th>\n",
       "      <td>86</td>\n",
       "      <td>A-443654</td>\n",
       "      <td>KIN001-139</td>\n",
       "      <td>AKT1, AKT2, AKT3</td>\n",
       "      <td>PI3K/MTOR signaling</td>\n",
       "      <td>10172943</td>\n",
       "      <td>425</td>\n",
       "      <td>266</td>\n",
       "    </tr>\n",
       "    <tr>\n",
       "      <th>3</th>\n",
       "      <td>55</td>\n",
       "      <td>A-770041</td>\n",
       "      <td>KIN001-111</td>\n",
       "      <td>LCK, FYN</td>\n",
       "      <td>Other, kinases</td>\n",
       "      <td>9549184</td>\n",
       "      <td>426</td>\n",
       "      <td>266</td>\n",
       "    </tr>\n",
       "    <tr>\n",
       "      <th>4</th>\n",
       "      <td>1001</td>\n",
       "      <td>AICA Ribonucleotide</td>\n",
       "      <td>AICAR, N1-(b-D-Ribofuranosyl)-5-aminoimidazole...</td>\n",
       "      <td>AMPK agonist</td>\n",
       "      <td>Metabolism</td>\n",
       "      <td>65110</td>\n",
       "      <td>872</td>\n",
       "      <td>266</td>\n",
       "    </tr>\n",
       "  </tbody>\n",
       "</table>\n",
       "</div>"
      ],
      "text/plain": [
       "   drug_id                 Name  \\\n",
       "0     1242    (5Z)-7-Oxozeaenol   \n",
       "1      179       5-Fluorouracil   \n",
       "2       86             A-443654   \n",
       "3       55             A-770041   \n",
       "4     1001  AICA Ribonucleotide   \n",
       "\n",
       "                                            Synonyms  \\\n",
       "0                        5Z-7-Oxozeaenol, LL-Z1640-2   \n",
       "1                                               5-FU   \n",
       "2                                         KIN001-139   \n",
       "3                                         KIN001-111   \n",
       "4  AICAR, N1-(b-D-Ribofuranosyl)-5-aminoimidazole...   \n",
       "\n",
       "                      Targets       Target pathway   PubCHEM  Sample Size  \\\n",
       "0                        TAK1       Other, kinases   9863776          945   \n",
       "1  Antimetabolite (DNA & RNA)                Other      3385          968   \n",
       "2            AKT1, AKT2, AKT3  PI3K/MTOR signaling  10172943          425   \n",
       "3                    LCK, FYN       Other, kinases   9549184          426   \n",
       "4                AMPK agonist           Metabolism     65110          872   \n",
       "\n",
       "   Count  \n",
       "0    266  \n",
       "1    266  \n",
       "2    266  \n",
       "3    266  \n",
       "4    266  "
      ]
     },
     "execution_count": 4,
     "metadata": {},
     "output_type": "execute_result"
    }
   ],
   "source": [
    "Drug_info_file.head()"
   ]
  },
  {
   "cell_type": "code",
   "execution_count": 5,
   "id": "1ebf604f-16cf-4d1a-984b-b649c9e4a796",
   "metadata": {},
   "outputs": [],
   "source": [
    "# Not yet sure why we need this - May be for TCGA labels? As they denote the cancer types of interest\n",
    "with open('data/CCLE/Cell_lines_annotations_20181226.txt', 'r') as file:\n",
    "    Cell_line_info_file = file.read()"
   ]
  },
  {
   "cell_type": "code",
   "execution_count": 6,
   "id": "d6ff5036-1ee9-49e4-88b8-a48a90b031d0",
   "metadata": {},
   "outputs": [],
   "source": [
    "# print(Cell_line_info_file)"
   ]
  },
  {
   "cell_type": "code",
   "execution_count": 7,
   "id": "0f7eaeee-7af7-43c7-83f7-afed10dc183e",
   "metadata": {},
   "outputs": [],
   "source": [
    "# Let's look at the graph features file? The contents are in drug_graph_feat folder: Notice their format is .hkl, and we need the package installed inorder to see how these looks like - For the moment, let's just print the contents of the folder."
   ]
  },
  {
   "cell_type": "code",
   "execution_count": 8,
   "id": "1d8c855e-2f33-469b-afa6-a605ee147a52",
   "metadata": {},
   "outputs": [],
   "source": [
    "drug_features_path = 'data/GDSC/drug_graph_feat'"
   ]
  },
  {
   "cell_type": "code",
   "execution_count": 9,
   "id": "456badc4-753c-41fc-9a8a-8761555e89eb",
   "metadata": {},
   "outputs": [],
   "source": [
    "drug_feature_file_list = os.listdir(drug_features_path)"
   ]
  },
  {
   "cell_type": "code",
   "execution_count": 10,
   "id": "2551f9fa-65e1-41b8-933f-2f31e833b0f2",
   "metadata": {},
   "outputs": [
    {
     "data": {
      "text/plain": [
       "223"
      ]
     },
     "execution_count": 10,
     "metadata": {},
     "output_type": "execute_result"
    }
   ],
   "source": [
    "# how many files here?\n",
    "len(drug_feature_file_list)"
   ]
  },
  {
   "cell_type": "code",
   "execution_count": 11,
   "id": "36fbadc1-06a7-42ac-803c-04d530841736",
   "metadata": {},
   "outputs": [
    {
     "data": {
      "text/plain": [
       "['11316960.hkl', '84691.hkl', '6914657.hkl']"
      ]
     },
     "execution_count": 11,
     "metadata": {},
     "output_type": "execute_result"
    }
   ],
   "source": [
    "# print few names of the hkl files\n",
    "drug_feature_file_list[:3]"
   ]
  },
  {
   "cell_type": "code",
   "execution_count": 12,
   "id": "b9aed590-986a-4464-bcd6-ae78969a14b0",
   "metadata": {},
   "outputs": [],
   "source": [
    "# look at the mutation features\n",
    "Genomic_mutation_features = pd.read_csv('data/CCLE/genomic_mutation_34673_demap_features.csv')"
   ]
  },
  {
   "cell_type": "code",
   "execution_count": 13,
   "id": "21c56e6b-994f-4998-8f2d-882dc35f321f",
   "metadata": {},
   "outputs": [
    {
     "data": {
      "text/plain": [
       "(961, 34674)"
      ]
     },
     "execution_count": 13,
     "metadata": {},
     "output_type": "execute_result"
    }
   ],
   "source": [
    "Genomic_mutation_features.shape"
   ]
  },
  {
   "cell_type": "code",
   "execution_count": 14,
   "id": "22cd0ee7-aad3-42ec-9fd6-ad86d47a977d",
   "metadata": {},
   "outputs": [
    {
     "data": {
      "text/html": [
       "<div>\n",
       "<style scoped>\n",
       "    .dataframe tbody tr th:only-of-type {\n",
       "        vertical-align: middle;\n",
       "    }\n",
       "\n",
       "    .dataframe tbody tr th {\n",
       "        vertical-align: top;\n",
       "    }\n",
       "\n",
       "    .dataframe thead th {\n",
       "        text-align: right;\n",
       "    }\n",
       "</style>\n",
       "<table border=\"1\" class=\"dataframe\">\n",
       "  <thead>\n",
       "    <tr style=\"text-align: right;\">\n",
       "      <th></th>\n",
       "      <th>Unnamed: 0</th>\n",
       "      <th>TNFRSF14.1:2488170</th>\n",
       "      <th>TNFRSF14.1:2489805</th>\n",
       "      <th>TNFRSF14.1:2489824</th>\n",
       "      <th>TNFRSF14.1:2489856</th>\n",
       "      <th>TNFRSF14.1:2489868</th>\n",
       "      <th>TNFRSF14.1:2491328</th>\n",
       "      <th>TNFRSF14.1:2491335</th>\n",
       "      <th>TNFRSF14.1:2491373</th>\n",
       "      <th>TNFRSF14.1:2491403</th>\n",
       "      <th>...</th>\n",
       "      <th>MTCP1.23:154293902</th>\n",
       "      <th>MTCP1.23:154293909</th>\n",
       "      <th>MTCP1.23:154293951</th>\n",
       "      <th>MTCP1.23:154293978</th>\n",
       "      <th>MTCP1.23:154294034</th>\n",
       "      <th>MTCP1.23:154294203</th>\n",
       "      <th>MTCP1.23:154294207</th>\n",
       "      <th>MTCP1.23:154294278</th>\n",
       "      <th>MTCP1.23:154294279</th>\n",
       "      <th>MTCP1.23:154298967</th>\n",
       "    </tr>\n",
       "  </thead>\n",
       "  <tbody>\n",
       "    <tr>\n",
       "      <th>0</th>\n",
       "      <td>ACH-001365</td>\n",
       "      <td>0</td>\n",
       "      <td>0</td>\n",
       "      <td>0</td>\n",
       "      <td>0</td>\n",
       "      <td>0</td>\n",
       "      <td>0</td>\n",
       "      <td>0</td>\n",
       "      <td>0</td>\n",
       "      <td>0</td>\n",
       "      <td>...</td>\n",
       "      <td>0</td>\n",
       "      <td>0</td>\n",
       "      <td>0</td>\n",
       "      <td>0</td>\n",
       "      <td>0</td>\n",
       "      <td>0</td>\n",
       "      <td>0</td>\n",
       "      <td>0</td>\n",
       "      <td>0</td>\n",
       "      <td>0</td>\n",
       "    </tr>\n",
       "    <tr>\n",
       "      <th>1</th>\n",
       "      <td>ACH-001364</td>\n",
       "      <td>0</td>\n",
       "      <td>0</td>\n",
       "      <td>0</td>\n",
       "      <td>0</td>\n",
       "      <td>0</td>\n",
       "      <td>0</td>\n",
       "      <td>0</td>\n",
       "      <td>0</td>\n",
       "      <td>0</td>\n",
       "      <td>...</td>\n",
       "      <td>0</td>\n",
       "      <td>0</td>\n",
       "      <td>0</td>\n",
       "      <td>0</td>\n",
       "      <td>0</td>\n",
       "      <td>0</td>\n",
       "      <td>0</td>\n",
       "      <td>0</td>\n",
       "      <td>0</td>\n",
       "      <td>0</td>\n",
       "    </tr>\n",
       "    <tr>\n",
       "      <th>2</th>\n",
       "      <td>ACH-001049</td>\n",
       "      <td>0</td>\n",
       "      <td>0</td>\n",
       "      <td>0</td>\n",
       "      <td>0</td>\n",
       "      <td>0</td>\n",
       "      <td>0</td>\n",
       "      <td>0</td>\n",
       "      <td>0</td>\n",
       "      <td>0</td>\n",
       "      <td>...</td>\n",
       "      <td>0</td>\n",
       "      <td>0</td>\n",
       "      <td>0</td>\n",
       "      <td>0</td>\n",
       "      <td>0</td>\n",
       "      <td>0</td>\n",
       "      <td>0</td>\n",
       "      <td>0</td>\n",
       "      <td>0</td>\n",
       "      <td>0</td>\n",
       "    </tr>\n",
       "    <tr>\n",
       "      <th>3</th>\n",
       "      <td>ACH-001363</td>\n",
       "      <td>0</td>\n",
       "      <td>0</td>\n",
       "      <td>0</td>\n",
       "      <td>0</td>\n",
       "      <td>0</td>\n",
       "      <td>0</td>\n",
       "      <td>0</td>\n",
       "      <td>0</td>\n",
       "      <td>0</td>\n",
       "      <td>...</td>\n",
       "      <td>0</td>\n",
       "      <td>0</td>\n",
       "      <td>0</td>\n",
       "      <td>0</td>\n",
       "      <td>0</td>\n",
       "      <td>0</td>\n",
       "      <td>0</td>\n",
       "      <td>0</td>\n",
       "      <td>0</td>\n",
       "      <td>0</td>\n",
       "    </tr>\n",
       "    <tr>\n",
       "      <th>4</th>\n",
       "      <td>ACH-001362</td>\n",
       "      <td>0</td>\n",
       "      <td>0</td>\n",
       "      <td>0</td>\n",
       "      <td>0</td>\n",
       "      <td>0</td>\n",
       "      <td>0</td>\n",
       "      <td>0</td>\n",
       "      <td>0</td>\n",
       "      <td>0</td>\n",
       "      <td>...</td>\n",
       "      <td>0</td>\n",
       "      <td>0</td>\n",
       "      <td>0</td>\n",
       "      <td>0</td>\n",
       "      <td>0</td>\n",
       "      <td>0</td>\n",
       "      <td>0</td>\n",
       "      <td>0</td>\n",
       "      <td>0</td>\n",
       "      <td>0</td>\n",
       "    </tr>\n",
       "  </tbody>\n",
       "</table>\n",
       "<p>5 rows × 34674 columns</p>\n",
       "</div>"
      ],
      "text/plain": [
       "   Unnamed: 0  TNFRSF14.1:2488170  TNFRSF14.1:2489805  TNFRSF14.1:2489824  \\\n",
       "0  ACH-001365                   0                   0                   0   \n",
       "1  ACH-001364                   0                   0                   0   \n",
       "2  ACH-001049                   0                   0                   0   \n",
       "3  ACH-001363                   0                   0                   0   \n",
       "4  ACH-001362                   0                   0                   0   \n",
       "\n",
       "   TNFRSF14.1:2489856  TNFRSF14.1:2489868  TNFRSF14.1:2491328  \\\n",
       "0                   0                   0                   0   \n",
       "1                   0                   0                   0   \n",
       "2                   0                   0                   0   \n",
       "3                   0                   0                   0   \n",
       "4                   0                   0                   0   \n",
       "\n",
       "   TNFRSF14.1:2491335  TNFRSF14.1:2491373  TNFRSF14.1:2491403  ...  \\\n",
       "0                   0                   0                   0  ...   \n",
       "1                   0                   0                   0  ...   \n",
       "2                   0                   0                   0  ...   \n",
       "3                   0                   0                   0  ...   \n",
       "4                   0                   0                   0  ...   \n",
       "\n",
       "   MTCP1.23:154293902  MTCP1.23:154293909  MTCP1.23:154293951  \\\n",
       "0                   0                   0                   0   \n",
       "1                   0                   0                   0   \n",
       "2                   0                   0                   0   \n",
       "3                   0                   0                   0   \n",
       "4                   0                   0                   0   \n",
       "\n",
       "   MTCP1.23:154293978  MTCP1.23:154294034  MTCP1.23:154294203  \\\n",
       "0                   0                   0                   0   \n",
       "1                   0                   0                   0   \n",
       "2                   0                   0                   0   \n",
       "3                   0                   0                   0   \n",
       "4                   0                   0                   0   \n",
       "\n",
       "   MTCP1.23:154294207  MTCP1.23:154294278  MTCP1.23:154294279  \\\n",
       "0                   0                   0                   0   \n",
       "1                   0                   0                   0   \n",
       "2                   0                   0                   0   \n",
       "3                   0                   0                   0   \n",
       "4                   0                   0                   0   \n",
       "\n",
       "   MTCP1.23:154298967  \n",
       "0                   0  \n",
       "1                   0  \n",
       "2                   0  \n",
       "3                   0  \n",
       "4                   0  \n",
       "\n",
       "[5 rows x 34674 columns]"
      ]
     },
     "execution_count": 14,
     "metadata": {},
     "output_type": "execute_result"
    }
   ],
   "source": [
    "Genomic_mutation_features.head()"
   ]
  },
  {
   "cell_type": "code",
   "execution_count": 15,
   "id": "7dfee289-a4fb-44d4-85cd-72767aa30826",
   "metadata": {},
   "outputs": [],
   "source": [
    "# look at gene expressions\n",
    "Gene_expression_features = pd.read_csv('data/CCLE/genomic_expression_561celllines_697genes_demap_features.csv')"
   ]
  },
  {
   "cell_type": "code",
   "execution_count": 16,
   "id": "d2daa92f-1011-4df0-89df-3738f4c7c270",
   "metadata": {},
   "outputs": [
    {
     "data": {
      "text/plain": [
       "(561, 698)"
      ]
     },
     "execution_count": 16,
     "metadata": {},
     "output_type": "execute_result"
    }
   ],
   "source": [
    "Gene_expression_features.shape"
   ]
  },
  {
   "cell_type": "code",
   "execution_count": 17,
   "id": "0712034c-6c3c-4e1c-8489-6fa41bd0b39d",
   "metadata": {},
   "outputs": [
    {
     "data": {
      "text/html": [
       "<div>\n",
       "<style scoped>\n",
       "    .dataframe tbody tr th:only-of-type {\n",
       "        vertical-align: middle;\n",
       "    }\n",
       "\n",
       "    .dataframe tbody tr th {\n",
       "        vertical-align: top;\n",
       "    }\n",
       "\n",
       "    .dataframe thead th {\n",
       "        text-align: right;\n",
       "    }\n",
       "</style>\n",
       "<table border=\"1\" class=\"dataframe\">\n",
       "  <thead>\n",
       "    <tr style=\"text-align: right;\">\n",
       "      <th></th>\n",
       "      <th>Unnamed: 0</th>\n",
       "      <th>LASP1</th>\n",
       "      <th>HOXA11</th>\n",
       "      <th>CREBBP</th>\n",
       "      <th>ETV1</th>\n",
       "      <th>GAS7</th>\n",
       "      <th>CD79B</th>\n",
       "      <th>PAX7</th>\n",
       "      <th>BTK</th>\n",
       "      <th>BRCA1</th>\n",
       "      <th>...</th>\n",
       "      <th>NCKIPSD</th>\n",
       "      <th>MTCP1</th>\n",
       "      <th>DDX3X</th>\n",
       "      <th>FANCG</th>\n",
       "      <th>SSX2</th>\n",
       "      <th>ETV5</th>\n",
       "      <th>CEBPA</th>\n",
       "      <th>LSM14A</th>\n",
       "      <th>CUX1</th>\n",
       "      <th>C15orf65</th>\n",
       "    </tr>\n",
       "  </thead>\n",
       "  <tbody>\n",
       "    <tr>\n",
       "      <th>0</th>\n",
       "      <td>ACH-000828</td>\n",
       "      <td>9.393476</td>\n",
       "      <td>0.042644</td>\n",
       "      <td>3.935460</td>\n",
       "      <td>0.871844</td>\n",
       "      <td>0.070389</td>\n",
       "      <td>0.084064</td>\n",
       "      <td>0.000000</td>\n",
       "      <td>0.056584</td>\n",
       "      <td>3.339137</td>\n",
       "      <td>...</td>\n",
       "      <td>4.071248</td>\n",
       "      <td>3.119356</td>\n",
       "      <td>6.849374</td>\n",
       "      <td>4.355439</td>\n",
       "      <td>0.000000</td>\n",
       "      <td>0.137504</td>\n",
       "      <td>1.769772</td>\n",
       "      <td>6.501598</td>\n",
       "      <td>4.700994</td>\n",
       "      <td>2.295723</td>\n",
       "    </tr>\n",
       "    <tr>\n",
       "      <th>1</th>\n",
       "      <td>ACH-000568</td>\n",
       "      <td>7.638074</td>\n",
       "      <td>0.056584</td>\n",
       "      <td>3.427606</td>\n",
       "      <td>0.201634</td>\n",
       "      <td>1.794936</td>\n",
       "      <td>0.739848</td>\n",
       "      <td>0.042644</td>\n",
       "      <td>0.333424</td>\n",
       "      <td>3.193772</td>\n",
       "      <td>...</td>\n",
       "      <td>4.084064</td>\n",
       "      <td>4.634593</td>\n",
       "      <td>5.671576</td>\n",
       "      <td>5.525443</td>\n",
       "      <td>0.056584</td>\n",
       "      <td>2.195348</td>\n",
       "      <td>0.124328</td>\n",
       "      <td>5.811214</td>\n",
       "      <td>3.590961</td>\n",
       "      <td>1.550901</td>\n",
       "    </tr>\n",
       "    <tr>\n",
       "      <th>2</th>\n",
       "      <td>ACH-000560</td>\n",
       "      <td>5.728193</td>\n",
       "      <td>6.001352</td>\n",
       "      <td>5.032542</td>\n",
       "      <td>5.018812</td>\n",
       "      <td>0.432959</td>\n",
       "      <td>0.250962</td>\n",
       "      <td>0.000000</td>\n",
       "      <td>0.263034</td>\n",
       "      <td>4.678635</td>\n",
       "      <td>...</td>\n",
       "      <td>5.057450</td>\n",
       "      <td>3.468583</td>\n",
       "      <td>6.617798</td>\n",
       "      <td>6.425761</td>\n",
       "      <td>0.000000</td>\n",
       "      <td>5.203201</td>\n",
       "      <td>1.922198</td>\n",
       "      <td>7.581351</td>\n",
       "      <td>5.320124</td>\n",
       "      <td>1.438293</td>\n",
       "    </tr>\n",
       "    <tr>\n",
       "      <th>3</th>\n",
       "      <td>ACH-000561</td>\n",
       "      <td>6.037163</td>\n",
       "      <td>1.565597</td>\n",
       "      <td>4.262283</td>\n",
       "      <td>0.790772</td>\n",
       "      <td>1.257011</td>\n",
       "      <td>0.028569</td>\n",
       "      <td>0.056584</td>\n",
       "      <td>0.042644</td>\n",
       "      <td>3.442280</td>\n",
       "      <td>...</td>\n",
       "      <td>3.400538</td>\n",
       "      <td>3.407353</td>\n",
       "      <td>6.154211</td>\n",
       "      <td>4.794936</td>\n",
       "      <td>0.000000</td>\n",
       "      <td>3.984589</td>\n",
       "      <td>1.028569</td>\n",
       "      <td>6.533719</td>\n",
       "      <td>5.132166</td>\n",
       "      <td>2.144046</td>\n",
       "    </tr>\n",
       "    <tr>\n",
       "      <th>4</th>\n",
       "      <td>ACH-000562</td>\n",
       "      <td>7.050502</td>\n",
       "      <td>0.014355</td>\n",
       "      <td>3.360364</td>\n",
       "      <td>0.879706</td>\n",
       "      <td>0.084064</td>\n",
       "      <td>0.137504</td>\n",
       "      <td>0.000000</td>\n",
       "      <td>0.042644</td>\n",
       "      <td>4.939227</td>\n",
       "      <td>...</td>\n",
       "      <td>4.125982</td>\n",
       "      <td>4.047015</td>\n",
       "      <td>6.281884</td>\n",
       "      <td>5.853497</td>\n",
       "      <td>0.056584</td>\n",
       "      <td>3.757023</td>\n",
       "      <td>0.056584</td>\n",
       "      <td>5.912171</td>\n",
       "      <td>4.877744</td>\n",
       "      <td>0.815575</td>\n",
       "    </tr>\n",
       "  </tbody>\n",
       "</table>\n",
       "<p>5 rows × 698 columns</p>\n",
       "</div>"
      ],
      "text/plain": [
       "   Unnamed: 0     LASP1    HOXA11    CREBBP      ETV1      GAS7     CD79B  \\\n",
       "0  ACH-000828  9.393476  0.042644  3.935460  0.871844  0.070389  0.084064   \n",
       "1  ACH-000568  7.638074  0.056584  3.427606  0.201634  1.794936  0.739848   \n",
       "2  ACH-000560  5.728193  6.001352  5.032542  5.018812  0.432959  0.250962   \n",
       "3  ACH-000561  6.037163  1.565597  4.262283  0.790772  1.257011  0.028569   \n",
       "4  ACH-000562  7.050502  0.014355  3.360364  0.879706  0.084064  0.137504   \n",
       "\n",
       "       PAX7       BTK     BRCA1  ...   NCKIPSD     MTCP1     DDX3X     FANCG  \\\n",
       "0  0.000000  0.056584  3.339137  ...  4.071248  3.119356  6.849374  4.355439   \n",
       "1  0.042644  0.333424  3.193772  ...  4.084064  4.634593  5.671576  5.525443   \n",
       "2  0.000000  0.263034  4.678635  ...  5.057450  3.468583  6.617798  6.425761   \n",
       "3  0.056584  0.042644  3.442280  ...  3.400538  3.407353  6.154211  4.794936   \n",
       "4  0.000000  0.042644  4.939227  ...  4.125982  4.047015  6.281884  5.853497   \n",
       "\n",
       "       SSX2      ETV5     CEBPA    LSM14A      CUX1  C15orf65  \n",
       "0  0.000000  0.137504  1.769772  6.501598  4.700994  2.295723  \n",
       "1  0.056584  2.195348  0.124328  5.811214  3.590961  1.550901  \n",
       "2  0.000000  5.203201  1.922198  7.581351  5.320124  1.438293  \n",
       "3  0.000000  3.984589  1.028569  6.533719  5.132166  2.144046  \n",
       "4  0.056584  3.757023  0.056584  5.912171  4.877744  0.815575  \n",
       "\n",
       "[5 rows x 698 columns]"
      ]
     },
     "execution_count": 17,
     "metadata": {},
     "output_type": "execute_result"
    }
   ],
   "source": [
    "Gene_expression_features.head()"
   ]
  },
  {
   "cell_type": "code",
   "execution_count": 18,
   "id": "7a42f4d2-7bfe-467e-bd14-842864bdbab3",
   "metadata": {},
   "outputs": [],
   "source": [
    "# look at methylation features\n",
    "Gene_methylation_features = pd.read_csv(\"data/CCLE/genomic_methylation_561celllines_808genes_demap_features.csv\")"
   ]
  },
  {
   "cell_type": "code",
   "execution_count": 19,
   "id": "a770f551-79d8-457a-bdaa-e983ce6cc90a",
   "metadata": {},
   "outputs": [
    {
     "data": {
      "text/plain": [
       "(561, 809)"
      ]
     },
     "execution_count": 19,
     "metadata": {},
     "output_type": "execute_result"
    }
   ],
   "source": [
    "Gene_methylation_features.shape"
   ]
  },
  {
   "cell_type": "code",
   "execution_count": 20,
   "id": "e250fc86-a6bf-4e9f-a79f-3a815878b29a",
   "metadata": {},
   "outputs": [
    {
     "data": {
      "text/html": [
       "<div>\n",
       "<style scoped>\n",
       "    .dataframe tbody tr th:only-of-type {\n",
       "        vertical-align: middle;\n",
       "    }\n",
       "\n",
       "    .dataframe tbody tr th {\n",
       "        vertical-align: top;\n",
       "    }\n",
       "\n",
       "    .dataframe thead th {\n",
       "        text-align: right;\n",
       "    }\n",
       "</style>\n",
       "<table border=\"1\" class=\"dataframe\">\n",
       "  <thead>\n",
       "    <tr style=\"text-align: right;\">\n",
       "      <th></th>\n",
       "      <th>Unnamed: 0</th>\n",
       "      <th>SKI_1_2159133_2160133</th>\n",
       "      <th>TNFRSF14_1_2486803_2487803</th>\n",
       "      <th>PRDM16_1_2984741_2985741</th>\n",
       "      <th>RPL22_1_6259679_6260679</th>\n",
       "      <th>CAMTA1_1_6844383_6845383</th>\n",
       "      <th>MTOR_1_11322608_11323608</th>\n",
       "      <th>PRDM2_1_14025734_14026734</th>\n",
       "      <th>PRDM2_1_14074875_14075875</th>\n",
       "      <th>CASP9_1_15850940_15851940</th>\n",
       "      <th>...</th>\n",
       "      <th>BCORL1_X_129138163_129139163</th>\n",
       "      <th>ELF4_X_129244475_129245475</th>\n",
       "      <th>ELF4_X_129244688_129245688</th>\n",
       "      <th>GPC3_X_133119673_133120673</th>\n",
       "      <th>ATP2B3_X_152800579_152801579</th>\n",
       "      <th>FLNA_X_153603006_153604006</th>\n",
       "      <th>RPL10_X_153625405_153626405</th>\n",
       "      <th>RPL10_X_153625712_153626712</th>\n",
       "      <th>RPL10_X_153625837_153626837</th>\n",
       "      <th>MTCP1_X_154299547_154300547</th>\n",
       "    </tr>\n",
       "  </thead>\n",
       "  <tbody>\n",
       "    <tr>\n",
       "      <th>0</th>\n",
       "      <td>ACH-000698</td>\n",
       "      <td>0.00000</td>\n",
       "      <td>0.00739</td>\n",
       "      <td>0.04799</td>\n",
       "      <td>0.14687</td>\n",
       "      <td>0.00553</td>\n",
       "      <td>0.54138</td>\n",
       "      <td>0.07160</td>\n",
       "      <td>0.00040</td>\n",
       "      <td>0.01836</td>\n",
       "      <td>...</td>\n",
       "      <td>1.00000</td>\n",
       "      <td>0.00000</td>\n",
       "      <td>0.00000</td>\n",
       "      <td>0.020070</td>\n",
       "      <td>0.01706</td>\n",
       "      <td>0.16926</td>\n",
       "      <td>0.00145</td>\n",
       "      <td>0.00242</td>\n",
       "      <td>0.00242</td>\n",
       "      <td>0.01924</td>\n",
       "    </tr>\n",
       "    <tr>\n",
       "      <th>1</th>\n",
       "      <td>ACH-000489</td>\n",
       "      <td>0.00000</td>\n",
       "      <td>0.00363</td>\n",
       "      <td>0.64891</td>\n",
       "      <td>1.00000</td>\n",
       "      <td>0.00538</td>\n",
       "      <td>0.00000</td>\n",
       "      <td>0.00000</td>\n",
       "      <td>0.00000</td>\n",
       "      <td>0.00000</td>\n",
       "      <td>...</td>\n",
       "      <td>1.00000</td>\n",
       "      <td>0.00000</td>\n",
       "      <td>0.00000</td>\n",
       "      <td>0.320580</td>\n",
       "      <td>0.72527</td>\n",
       "      <td>0.37572</td>\n",
       "      <td>0.00000</td>\n",
       "      <td>0.00000</td>\n",
       "      <td>0.00000</td>\n",
       "      <td>0.00000</td>\n",
       "    </tr>\n",
       "    <tr>\n",
       "      <th>2</th>\n",
       "      <td>ACH-000522</td>\n",
       "      <td>0.00143</td>\n",
       "      <td>0.47465</td>\n",
       "      <td>0.27715</td>\n",
       "      <td>0.19441</td>\n",
       "      <td>0.00858</td>\n",
       "      <td>0.40555</td>\n",
       "      <td>0.21625</td>\n",
       "      <td>0.01367</td>\n",
       "      <td>0.00338</td>\n",
       "      <td>...</td>\n",
       "      <td>1.00000</td>\n",
       "      <td>0.18059</td>\n",
       "      <td>0.22562</td>\n",
       "      <td>0.054325</td>\n",
       "      <td>0.60830</td>\n",
       "      <td>0.65268</td>\n",
       "      <td>0.82345</td>\n",
       "      <td>0.59039</td>\n",
       "      <td>0.59039</td>\n",
       "      <td>0.07546</td>\n",
       "    </tr>\n",
       "    <tr>\n",
       "      <th>3</th>\n",
       "      <td>ACH-000613</td>\n",
       "      <td>0.00000</td>\n",
       "      <td>0.00000</td>\n",
       "      <td>0.05112</td>\n",
       "      <td>0.10686</td>\n",
       "      <td>0.00268</td>\n",
       "      <td>0.28618</td>\n",
       "      <td>0.07706</td>\n",
       "      <td>0.00000</td>\n",
       "      <td>0.00000</td>\n",
       "      <td>...</td>\n",
       "      <td>0.01066</td>\n",
       "      <td>0.00000</td>\n",
       "      <td>0.00000</td>\n",
       "      <td>0.010660</td>\n",
       "      <td>0.53086</td>\n",
       "      <td>0.00918</td>\n",
       "      <td>0.00000</td>\n",
       "      <td>0.00448</td>\n",
       "      <td>0.00448</td>\n",
       "      <td>0.00000</td>\n",
       "    </tr>\n",
       "    <tr>\n",
       "      <th>4</th>\n",
       "      <td>ACH-000614</td>\n",
       "      <td>0.00118</td>\n",
       "      <td>0.00471</td>\n",
       "      <td>0.15165</td>\n",
       "      <td>0.07407</td>\n",
       "      <td>0.01050</td>\n",
       "      <td>0.51629</td>\n",
       "      <td>0.03292</td>\n",
       "      <td>0.00405</td>\n",
       "      <td>0.00000</td>\n",
       "      <td>...</td>\n",
       "      <td>1.00000</td>\n",
       "      <td>0.07273</td>\n",
       "      <td>0.07273</td>\n",
       "      <td>0.106990</td>\n",
       "      <td>0.69472</td>\n",
       "      <td>0.28947</td>\n",
       "      <td>0.05354</td>\n",
       "      <td>0.04306</td>\n",
       "      <td>0.04306</td>\n",
       "      <td>0.00114</td>\n",
       "    </tr>\n",
       "  </tbody>\n",
       "</table>\n",
       "<p>5 rows × 809 columns</p>\n",
       "</div>"
      ],
      "text/plain": [
       "   Unnamed: 0  SKI_1_2159133_2160133  TNFRSF14_1_2486803_2487803  \\\n",
       "0  ACH-000698                0.00000                     0.00739   \n",
       "1  ACH-000489                0.00000                     0.00363   \n",
       "2  ACH-000522                0.00143                     0.47465   \n",
       "3  ACH-000613                0.00000                     0.00000   \n",
       "4  ACH-000614                0.00118                     0.00471   \n",
       "\n",
       "   PRDM16_1_2984741_2985741  RPL22_1_6259679_6260679  \\\n",
       "0                   0.04799                  0.14687   \n",
       "1                   0.64891                  1.00000   \n",
       "2                   0.27715                  0.19441   \n",
       "3                   0.05112                  0.10686   \n",
       "4                   0.15165                  0.07407   \n",
       "\n",
       "   CAMTA1_1_6844383_6845383  MTOR_1_11322608_11323608  \\\n",
       "0                   0.00553                   0.54138   \n",
       "1                   0.00538                   0.00000   \n",
       "2                   0.00858                   0.40555   \n",
       "3                   0.00268                   0.28618   \n",
       "4                   0.01050                   0.51629   \n",
       "\n",
       "   PRDM2_1_14025734_14026734  PRDM2_1_14074875_14075875  \\\n",
       "0                    0.07160                    0.00040   \n",
       "1                    0.00000                    0.00000   \n",
       "2                    0.21625                    0.01367   \n",
       "3                    0.07706                    0.00000   \n",
       "4                    0.03292                    0.00405   \n",
       "\n",
       "   CASP9_1_15850940_15851940  ...  BCORL1_X_129138163_129139163  \\\n",
       "0                    0.01836  ...                       1.00000   \n",
       "1                    0.00000  ...                       1.00000   \n",
       "2                    0.00338  ...                       1.00000   \n",
       "3                    0.00000  ...                       0.01066   \n",
       "4                    0.00000  ...                       1.00000   \n",
       "\n",
       "   ELF4_X_129244475_129245475  ELF4_X_129244688_129245688  \\\n",
       "0                     0.00000                     0.00000   \n",
       "1                     0.00000                     0.00000   \n",
       "2                     0.18059                     0.22562   \n",
       "3                     0.00000                     0.00000   \n",
       "4                     0.07273                     0.07273   \n",
       "\n",
       "   GPC3_X_133119673_133120673  ATP2B3_X_152800579_152801579  \\\n",
       "0                    0.020070                       0.01706   \n",
       "1                    0.320580                       0.72527   \n",
       "2                    0.054325                       0.60830   \n",
       "3                    0.010660                       0.53086   \n",
       "4                    0.106990                       0.69472   \n",
       "\n",
       "   FLNA_X_153603006_153604006  RPL10_X_153625405_153626405  \\\n",
       "0                     0.16926                      0.00145   \n",
       "1                     0.37572                      0.00000   \n",
       "2                     0.65268                      0.82345   \n",
       "3                     0.00918                      0.00000   \n",
       "4                     0.28947                      0.05354   \n",
       "\n",
       "   RPL10_X_153625712_153626712  RPL10_X_153625837_153626837  \\\n",
       "0                      0.00242                      0.00242   \n",
       "1                      0.00000                      0.00000   \n",
       "2                      0.59039                      0.59039   \n",
       "3                      0.00448                      0.00448   \n",
       "4                      0.04306                      0.04306   \n",
       "\n",
       "   MTCP1_X_154299547_154300547  \n",
       "0                      0.01924  \n",
       "1                      0.00000  \n",
       "2                      0.07546  \n",
       "3                      0.00000  \n",
       "4                      0.00114  \n",
       "\n",
       "[5 rows x 809 columns]"
      ]
     },
     "execution_count": 20,
     "metadata": {},
     "output_type": "execute_result"
    }
   ],
   "source": [
    "Gene_methylation_features.head()"
   ]
  },
  {
   "cell_type": "code",
   "execution_count": 21,
   "id": "ed1865ec-93b7-471c-ab76-21635c812c0f",
   "metadata": {},
   "outputs": [],
   "source": [
    "# Also load the response file\n",
    "response_file_all = pd.read_csv(\"data/CCLE/GDSC_IC50.csv\")"
   ]
  },
  {
   "cell_type": "code",
   "execution_count": 22,
   "id": "dceb79fe-2bb0-40cd-99fb-b29628fa9d57",
   "metadata": {},
   "outputs": [
    {
     "data": {
      "text/plain": [
       "(266, 970)"
      ]
     },
     "execution_count": 22,
     "metadata": {},
     "output_type": "execute_result"
    }
   ],
   "source": [
    "response_file_all.shape"
   ]
  },
  {
   "cell_type": "code",
   "execution_count": 23,
   "id": "8a073113-a624-4ee3-a068-062f0e78f82b",
   "metadata": {},
   "outputs": [
    {
     "data": {
      "text/html": [
       "<div>\n",
       "<style scoped>\n",
       "    .dataframe tbody tr th:only-of-type {\n",
       "        vertical-align: middle;\n",
       "    }\n",
       "\n",
       "    .dataframe tbody tr th {\n",
       "        vertical-align: top;\n",
       "    }\n",
       "\n",
       "    .dataframe thead th {\n",
       "        text-align: right;\n",
       "    }\n",
       "</style>\n",
       "<table border=\"1\" class=\"dataframe\">\n",
       "  <thead>\n",
       "    <tr style=\"text-align: right;\">\n",
       "      <th></th>\n",
       "      <th>Unnamed: 0</th>\n",
       "      <th>ACH-002137</th>\n",
       "      <th>ACH-000474</th>\n",
       "      <th>ACH-002089</th>\n",
       "      <th>ACH-000956</th>\n",
       "      <th>ACH-000948</th>\n",
       "      <th>ACH-000323</th>\n",
       "      <th>ACH-001002</th>\n",
       "      <th>ACH-000905</th>\n",
       "      <th>ACH-000973</th>\n",
       "      <th>...</th>\n",
       "      <th>ACH-002207</th>\n",
       "      <th>ACH-000827</th>\n",
       "      <th>ACH-000534</th>\n",
       "      <th>ACH-001709</th>\n",
       "      <th>ACH-000332</th>\n",
       "      <th>ACH-000469</th>\n",
       "      <th>ACH-000570</th>\n",
       "      <th>ACH-002208</th>\n",
       "      <th>ACH-002317</th>\n",
       "      <th>ACH-000828</th>\n",
       "    </tr>\n",
       "  </thead>\n",
       "  <tbody>\n",
       "    <tr>\n",
       "      <th>0</th>\n",
       "      <td>GDSC:1</td>\n",
       "      <td>NaN</td>\n",
       "      <td>NaN</td>\n",
       "      <td>NaN</td>\n",
       "      <td>NaN</td>\n",
       "      <td>NaN</td>\n",
       "      <td>NaN</td>\n",
       "      <td>NaN</td>\n",
       "      <td>NaN</td>\n",
       "      <td>NaN</td>\n",
       "      <td>...</td>\n",
       "      <td>NaN</td>\n",
       "      <td>NaN</td>\n",
       "      <td>2.724636</td>\n",
       "      <td>2.576109</td>\n",
       "      <td>NaN</td>\n",
       "      <td>NaN</td>\n",
       "      <td>NaN</td>\n",
       "      <td>NaN</td>\n",
       "      <td>2.842845</td>\n",
       "      <td>NaN</td>\n",
       "    </tr>\n",
       "    <tr>\n",
       "      <th>1</th>\n",
       "      <td>GDSC:1001</td>\n",
       "      <td>7.258918</td>\n",
       "      <td>9.131374</td>\n",
       "      <td>10.182594</td>\n",
       "      <td>8.332992</td>\n",
       "      <td>8.597157</td>\n",
       "      <td>7.606939</td>\n",
       "      <td>8.168512</td>\n",
       "      <td>8.021503</td>\n",
       "      <td>7.517325</td>\n",
       "      <td>...</td>\n",
       "      <td>5.794405</td>\n",
       "      <td>7.748403</td>\n",
       "      <td>7.899330</td>\n",
       "      <td>6.896593</td>\n",
       "      <td>9.338678</td>\n",
       "      <td>9.200637</td>\n",
       "      <td>6.464226</td>\n",
       "      <td>NaN</td>\n",
       "      <td>9.426281</td>\n",
       "      <td>8.916867</td>\n",
       "    </tr>\n",
       "    <tr>\n",
       "      <th>2</th>\n",
       "      <td>GDSC:1004</td>\n",
       "      <td>-3.802467</td>\n",
       "      <td>-5.702659</td>\n",
       "      <td>-4.499864</td>\n",
       "      <td>-4.366928</td>\n",
       "      <td>-4.563040</td>\n",
       "      <td>-4.633045</td>\n",
       "      <td>-6.050113</td>\n",
       "      <td>-6.618734</td>\n",
       "      <td>-5.374042</td>\n",
       "      <td>...</td>\n",
       "      <td>-5.929886</td>\n",
       "      <td>-4.435285</td>\n",
       "      <td>-5.623723</td>\n",
       "      <td>-5.886495</td>\n",
       "      <td>-2.237481</td>\n",
       "      <td>-5.476621</td>\n",
       "      <td>-4.985852</td>\n",
       "      <td>NaN</td>\n",
       "      <td>-1.382754</td>\n",
       "      <td>-2.206867</td>\n",
       "    </tr>\n",
       "    <tr>\n",
       "      <th>3</th>\n",
       "      <td>GDSC:1005</td>\n",
       "      <td>4.146364</td>\n",
       "      <td>4.551663</td>\n",
       "      <td>1.772586</td>\n",
       "      <td>3.263056</td>\n",
       "      <td>4.091980</td>\n",
       "      <td>3.090641</td>\n",
       "      <td>1.673430</td>\n",
       "      <td>1.523128</td>\n",
       "      <td>0.794987</td>\n",
       "      <td>...</td>\n",
       "      <td>2.009858</td>\n",
       "      <td>2.576495</td>\n",
       "      <td>3.462176</td>\n",
       "      <td>2.572676</td>\n",
       "      <td>5.706240</td>\n",
       "      <td>2.498858</td>\n",
       "      <td>1.850879</td>\n",
       "      <td>NaN</td>\n",
       "      <td>4.143535</td>\n",
       "      <td>5.344525</td>\n",
       "    </tr>\n",
       "    <tr>\n",
       "      <th>4</th>\n",
       "      <td>GDSC:1006</td>\n",
       "      <td>3.171367</td>\n",
       "      <td>-2.014854</td>\n",
       "      <td>-1.818771</td>\n",
       "      <td>0.252367</td>\n",
       "      <td>-1.688469</td>\n",
       "      <td>0.020116</td>\n",
       "      <td>-0.460778</td>\n",
       "      <td>-0.877788</td>\n",
       "      <td>-0.103689</td>\n",
       "      <td>...</td>\n",
       "      <td>-0.121731</td>\n",
       "      <td>-0.889294</td>\n",
       "      <td>0.681844</td>\n",
       "      <td>-2.041620</td>\n",
       "      <td>1.454613</td>\n",
       "      <td>-1.346782</td>\n",
       "      <td>-1.255548</td>\n",
       "      <td>NaN</td>\n",
       "      <td>2.067330</td>\n",
       "      <td>1.230528</td>\n",
       "    </tr>\n",
       "  </tbody>\n",
       "</table>\n",
       "<p>5 rows × 970 columns</p>\n",
       "</div>"
      ],
      "text/plain": [
       "  Unnamed: 0  ACH-002137  ACH-000474  ACH-002089  ACH-000956  ACH-000948  \\\n",
       "0     GDSC:1         NaN         NaN         NaN         NaN         NaN   \n",
       "1  GDSC:1001    7.258918    9.131374   10.182594    8.332992    8.597157   \n",
       "2  GDSC:1004   -3.802467   -5.702659   -4.499864   -4.366928   -4.563040   \n",
       "3  GDSC:1005    4.146364    4.551663    1.772586    3.263056    4.091980   \n",
       "4  GDSC:1006    3.171367   -2.014854   -1.818771    0.252367   -1.688469   \n",
       "\n",
       "   ACH-000323  ACH-001002  ACH-000905  ACH-000973  ...  ACH-002207  \\\n",
       "0         NaN         NaN         NaN         NaN  ...         NaN   \n",
       "1    7.606939    8.168512    8.021503    7.517325  ...    5.794405   \n",
       "2   -4.633045   -6.050113   -6.618734   -5.374042  ...   -5.929886   \n",
       "3    3.090641    1.673430    1.523128    0.794987  ...    2.009858   \n",
       "4    0.020116   -0.460778   -0.877788   -0.103689  ...   -0.121731   \n",
       "\n",
       "   ACH-000827  ACH-000534  ACH-001709  ACH-000332  ACH-000469  ACH-000570  \\\n",
       "0         NaN    2.724636    2.576109         NaN         NaN         NaN   \n",
       "1    7.748403    7.899330    6.896593    9.338678    9.200637    6.464226   \n",
       "2   -4.435285   -5.623723   -5.886495   -2.237481   -5.476621   -4.985852   \n",
       "3    2.576495    3.462176    2.572676    5.706240    2.498858    1.850879   \n",
       "4   -0.889294    0.681844   -2.041620    1.454613   -1.346782   -1.255548   \n",
       "\n",
       "   ACH-002208  ACH-002317  ACH-000828  \n",
       "0         NaN    2.842845         NaN  \n",
       "1         NaN    9.426281    8.916867  \n",
       "2         NaN   -1.382754   -2.206867  \n",
       "3         NaN    4.143535    5.344525  \n",
       "4         NaN    2.067330    1.230528  \n",
       "\n",
       "[5 rows x 970 columns]"
      ]
     },
     "execution_count": 23,
     "metadata": {},
     "output_type": "execute_result"
    }
   ],
   "source": [
    "response_file_all.head() # in columns are the cell line IDs and in rows are the drug IDs."
   ]
  },
  {
   "cell_type": "code",
   "execution_count": 24,
   "id": "6fcb9143-b6a9-46c8-86be-aa1af56ce430",
   "metadata": {},
   "outputs": [
    {
     "data": {
      "text/plain": [
       "(266, 970)"
      ]
     },
     "execution_count": 24,
     "metadata": {},
     "output_type": "execute_result"
    }
   ],
   "source": [
    "response_file_all.shape"
   ]
  },
  {
   "cell_type": "code",
   "execution_count": 25,
   "id": "64d239f5-3a34-448e-b6e8-87fcfe7b6676",
   "metadata": {},
   "outputs": [
    {
     "data": {
      "text/plain": [
       "49020"
      ]
     },
     "execution_count": 25,
     "metadata": {},
     "output_type": "execute_result"
    }
   ],
   "source": [
    "response_file_all.isna().sum().sum()"
   ]
  },
  {
   "cell_type": "code",
   "execution_count": 26,
   "id": "ee0136a4-47e7-460e-b20c-94904793646b",
   "metadata": {},
   "outputs": [
    {
     "data": {
      "text/plain": [
       "209000"
      ]
     },
     "execution_count": 26,
     "metadata": {},
     "output_type": "execute_result"
    }
   ],
   "source": [
    "266*970 - 49020"
   ]
  },
  {
   "cell_type": "code",
   "execution_count": 27,
   "id": "1050c4c9-74b1-4ef9-8e09-33999ebf5e43",
   "metadata": {},
   "outputs": [],
   "source": [
    "# Some basic operations to create some data as in the function in DeepCDR\n",
    "\n",
    "# convert the drug_id --> pubchem_id -  we need this mapping, I think mainly for the SMILES data\n",
    "reader = csv.reader(open('data/GDSC/1.Drug_listMon Jun 24 09_00_55 2019.csv','r'))\n",
    "rows = [item for item in reader]\n",
    "drugid2pubchemid = {item[0]:item[5] for item in rows if item[5].isdigit()}"
   ]
  },
  {
   "cell_type": "code",
   "execution_count": 28,
   "id": "240ba025-4ef0-4477-be8d-78f5412caa9e",
   "metadata": {},
   "outputs": [
    {
     "data": {
      "text/plain": [
       "267"
      ]
     },
     "execution_count": 28,
     "metadata": {},
     "output_type": "execute_result"
    }
   ],
   "source": [
    "len(rows)"
   ]
  },
  {
   "cell_type": "code",
   "execution_count": 29,
   "id": "b66067aa-e122-4b80-b21d-c2170c0f59b1",
   "metadata": {},
   "outputs": [
    {
     "data": {
      "text/plain": [
       "(238, 238)"
      ]
     },
     "execution_count": 29,
     "metadata": {},
     "output_type": "execute_result"
    }
   ],
   "source": [
    "len(drugid2pubchemid.keys()), len(drugid2pubchemid.values())"
   ]
  },
  {
   "cell_type": "code",
   "execution_count": 30,
   "id": "d0b4b819-8698-4054-b123-e711a40f6f5b",
   "metadata": {},
   "outputs": [
    {
     "data": {
      "text/plain": [
       "[('1242', '9863776'), ('179', '3385'), ('86', '10172943')]"
      ]
     },
     "execution_count": 30,
     "metadata": {},
     "output_type": "execute_result"
    }
   ],
   "source": [
    "list(drugid2pubchemid.items())[:3] # Note this denote the key (drug ID), and value (pubchem ID) pairs."
   ]
  },
  {
   "cell_type": "code",
   "execution_count": 31,
   "id": "d6bb0ebc-dce4-436f-895d-904660172ef0",
   "metadata": {},
   "outputs": [],
   "source": [
    "# cellline and cancer type, need to extract the second column (depmap IDs) and the last column (TCGA cancer type) in a dictionary. Key is the cell line (depmap) ID, values will be the cancer type"
   ]
  },
  {
   "cell_type": "code",
   "execution_count": 32,
   "id": "a765312f-0136-41d3-8e7a-a340442f76af",
   "metadata": {},
   "outputs": [],
   "source": [
    "TCGA_label_set = [\"ALL\",\"BLCA\",\"BRCA\",\"CESC\",\"DLBC\",\"LIHC\",\"LUAD\",\n",
    "                  \"ESCA\",\"GBM\",\"HNSC\",\"KIRC\",\"LAML\",\"LCML\",\"LGG\",\n",
    "                  \"LUSC\",\"MESO\",\"MM\",\"NB\",\"OV\",\"PAAD\",\"SCLC\",\"SKCM\",\n",
    "                  \"STAD\",\"THCA\",'COAD/READ']"
   ]
  },
  {
   "cell_type": "code",
   "execution_count": 33,
   "id": "f13ca7f3-0251-4b62-97ef-479cc3c0dfae",
   "metadata": {},
   "outputs": [],
   "source": [
    "Cell_line_info_file_path = 'data/CCLE/Cell_lines_annotations_20181226.txt'"
   ]
  },
  {
   "cell_type": "code",
   "execution_count": 34,
   "id": "d6cf59e5-d503-4748-ab95-909984bdaae1",
   "metadata": {},
   "outputs": [],
   "source": [
    "#map cellline --> cancer type\n",
    "cellline2cancertype ={}\n",
    "for line in open(Cell_line_info_file_path).readlines()[1:]:\n",
    "    cellline_id = line.split('\\t')[1]\n",
    "    TCGA_label = line.strip().split('\\t')[-1]\n",
    "    #if TCGA_label in TCGA_label_set: Does not look like it does this check here though\n",
    "    cellline2cancertype[cellline_id] = TCGA_label"
   ]
  },
  {
   "cell_type": "code",
   "execution_count": 35,
   "id": "ca58089a-3c26-4d86-89fc-4bc5e49be5e7",
   "metadata": {},
   "outputs": [],
   "source": [
    "# cellline2cancertype"
   ]
  },
  {
   "cell_type": "code",
   "execution_count": 36,
   "id": "750754c2-a5c9-4c7d-b5ff-e010fc1d6984",
   "metadata": {},
   "outputs": [],
   "source": [
    "#load demap cell lines genomic mutation features\n",
    "mutation_feature = pd.read_csv('data/CCLE/genomic_mutation_34673_demap_features.csv',sep=',',header=0,index_col=[0])\n",
    "cell_line_id_set = list(mutation_feature.index)"
   ]
  },
  {
   "cell_type": "code",
   "execution_count": 37,
   "id": "94dfc0ee-f5f8-48ef-a2b6-6cb9ac4aadfc",
   "metadata": {},
   "outputs": [
    {
     "data": {
      "text/plain": [
       "(961, 34673)"
      ]
     },
     "execution_count": 37,
     "metadata": {},
     "output_type": "execute_result"
    }
   ],
   "source": [
    "mutation_feature.shape"
   ]
  },
  {
   "cell_type": "code",
   "execution_count": 38,
   "id": "a0be6448-6fd1-4c35-981f-9b843a7bb493",
   "metadata": {},
   "outputs": [
    {
     "data": {
      "text/plain": [
       "961"
      ]
     },
     "execution_count": 38,
     "metadata": {},
     "output_type": "execute_result"
    }
   ],
   "source": [
    "len(cell_line_id_set)"
   ]
  },
  {
   "cell_type": "code",
   "execution_count": 39,
   "id": "0f5eaa57-d4f3-4d20-be05-4896226036a6",
   "metadata": {},
   "outputs": [],
   "source": [
    "Drug_feature_file = 'data/GDSC/drug_graph_feat'\n",
    "# The hickle files are stored according to the Pubchem IDs"
   ]
  },
  {
   "cell_type": "code",
   "execution_count": 40,
   "id": "e425db25-8dc1-48d7-bc12-d07cda50ad5e",
   "metadata": {},
   "outputs": [
    {
     "name": "stderr",
     "output_type": "stream",
     "text": [
      "/common/statsgeneral/gayara/cdr_env_2025/lib/python3.8/site-packages/hickle/hickle.py:356: UserWarning: Input argument 'file_obj' appears to be a file made with hickle v3. Using legacy load...\n",
      "  warnings.warn(\"Input argument 'file_obj' appears to be a file made\"\n"
     ]
    }
   ],
   "source": [
    "# Okay, now to loading the hickle files\n",
    "drug_pubchem_id_set = []\n",
    "drug_feature = {}\n",
    "for each in os.listdir(Drug_feature_file):\n",
    "    drug_pubchem_id_set.append(each.split('.')[0])\n",
    "    feat_mat,adj_list,degree_list = hkl.load('%s/%s'%(Drug_feature_file,each))\n",
    "    drug_feature[each.split('.')[0]] = [feat_mat,adj_list,degree_list]"
   ]
  },
  {
   "cell_type": "code",
   "execution_count": 41,
   "id": "52681def-b519-490c-adea-297606125d4d",
   "metadata": {},
   "outputs": [],
   "source": [
    "# just select a single file here from the loaded hickle files\n",
    "\n",
    "# We have the pubchem ID as the key in the dictionary, and three features related to the drug: Feature matrix, adjacency matrix and the degree list\n",
    "pubchem_ID, drug_related_vals = list(drug_feature.items())[0]"
   ]
  },
  {
   "cell_type": "code",
   "execution_count": 42,
   "id": "d1fdf122-0f05-4ede-adba-ff66a8c767dc",
   "metadata": {},
   "outputs": [
    {
     "data": {
      "text/plain": [
       "array([[1., 0., 0., ..., 0., 1., 0.],\n",
       "       [1., 0., 0., ..., 0., 1., 0.],\n",
       "       [0., 0., 1., ..., 0., 0., 0.],\n",
       "       ...,\n",
       "       [1., 0., 0., ..., 0., 0., 0.],\n",
       "       [1., 0., 0., ..., 0., 0., 0.],\n",
       "       [1., 0., 0., ..., 0., 0., 0.]])"
      ]
     },
     "execution_count": 42,
     "metadata": {},
     "output_type": "execute_result"
    }
   ],
   "source": [
    "drug_features = drug_related_vals[0]\n",
    "drug_features"
   ]
  },
  {
   "cell_type": "code",
   "execution_count": 43,
   "id": "60bf1fd2-227e-46b3-bf3f-938975d41b82",
   "metadata": {},
   "outputs": [
    {
     "data": {
      "text/plain": [
       "(34, 75)"
      ]
     },
     "execution_count": 43,
     "metadata": {},
     "output_type": "execute_result"
    }
   ],
   "source": [
    "drug_features.shape"
   ]
  },
  {
   "cell_type": "code",
   "execution_count": 44,
   "id": "0d5cef60-cd49-4fb2-b113-53edd3828fb2",
   "metadata": {},
   "outputs": [],
   "source": [
    "# gives a list of adajecency atoms of the drug\n",
    "adjecency_matrix = drug_related_vals[1]"
   ]
  },
  {
   "cell_type": "code",
   "execution_count": 45,
   "id": "2898e090-6c51-4b2b-bcb1-c1881d7f94c8",
   "metadata": {},
   "outputs": [
    {
     "data": {
      "text/plain": [
       "34"
      ]
     },
     "execution_count": 45,
     "metadata": {},
     "output_type": "execute_result"
    }
   ],
   "source": [
    "len(adjecency_matrix)"
   ]
  },
  {
   "cell_type": "code",
   "execution_count": 46,
   "id": "37a64bff-24fa-4045-81c0-02d336f04463",
   "metadata": {},
   "outputs": [
    {
     "data": {
      "text/plain": [
       "34"
      ]
     },
     "execution_count": 46,
     "metadata": {},
     "output_type": "execute_result"
    }
   ],
   "source": [
    "# degree list - specifies the number of neighbors for each atom\n",
    "degree_info = drug_related_vals[-1]\n",
    "len(degree_info)"
   ]
  },
  {
   "cell_type": "code",
   "execution_count": 47,
   "id": "0f736391-5e0b-453a-87f2-00e5ccd93fe6",
   "metadata": {},
   "outputs": [
    {
     "name": "stdout",
     "output_type": "stream",
     "text": [
      "True\n"
     ]
    }
   ],
   "source": [
    "print(len(drug_pubchem_id_set)==len(drug_feature.values()))"
   ]
  },
  {
   "cell_type": "code",
   "execution_count": 48,
   "id": "c3fdb0c3-e66e-43a1-9897-9aad72dc88ed",
   "metadata": {},
   "outputs": [],
   "source": [
    "#load gene expression faetures\n",
    "gexpr_feature = pd.read_csv('data/CCLE/genomic_expression_561celllines_697genes_demap_features.csv',sep=',',header=0,index_col=[0])\n",
    "    \n",
    "#only keep overlapped cell lines\n",
    "mutation_feature = mutation_feature.loc[list(gexpr_feature.index)]"
   ]
  },
  {
   "cell_type": "code",
   "execution_count": 49,
   "id": "7f9902b8-3587-4bdd-9f58-8816063f8aa7",
   "metadata": {},
   "outputs": [
    {
     "data": {
      "text/plain": [
       "((561, 697), (561, 34673))"
      ]
     },
     "execution_count": 49,
     "metadata": {},
     "output_type": "execute_result"
    }
   ],
   "source": [
    "gexpr_feature.shape, mutation_feature.shape"
   ]
  },
  {
   "cell_type": "code",
   "execution_count": 50,
   "id": "7d5734f2-80e8-4926-8671-45b40097d7ce",
   "metadata": {},
   "outputs": [],
   "source": [
    "#load methylation \n",
    "methylation_feature = pd.read_csv('data/CCLE/genomic_methylation_561celllines_808genes_demap_features.csv',sep=',',header=0,index_col=[0])\n"
   ]
  },
  {
   "cell_type": "code",
   "execution_count": 51,
   "id": "6e7ce19a-dfa6-4e2f-a220-00d081fe7553",
   "metadata": {},
   "outputs": [
    {
     "data": {
      "text/plain": [
       "(561, 808)"
      ]
     },
     "execution_count": 51,
     "metadata": {},
     "output_type": "execute_result"
    }
   ],
   "source": [
    "methylation_feature.shape"
   ]
  },
  {
   "cell_type": "code",
   "execution_count": 52,
   "id": "1aed8967-d5bb-428d-91db-412302e80ef3",
   "metadata": {},
   "outputs": [
    {
     "data": {
      "text/plain": [
       "((561, 808), (561, 697), (561, 34673))"
      ]
     },
     "execution_count": 52,
     "metadata": {},
     "output_type": "execute_result"
    }
   ],
   "source": [
    "methylation_feature.shape, gexpr_feature.shape, mutation_feature.shape"
   ]
  },
  {
   "cell_type": "code",
   "execution_count": 53,
   "id": "82252208-ad15-4958-9729-87c6ccac28e8",
   "metadata": {},
   "outputs": [],
   "source": [
    "# All omics have the same shape - we have data for the same cell line IDs"
   ]
  },
  {
   "cell_type": "code",
   "execution_count": 54,
   "id": "76f1d1c5-6c8b-4cf5-9225-1d022a312739",
   "metadata": {},
   "outputs": [],
   "source": [
    "experiment_data = pd.read_csv('data/CCLE/GDSC_IC50.csv',sep=',',header=0,index_col=[0])"
   ]
  },
  {
   "cell_type": "code",
   "execution_count": 55,
   "id": "986c776e-2114-44f8-806c-7759dc81a878",
   "metadata": {},
   "outputs": [
    {
     "data": {
      "text/plain": [
       "(266, 969)"
      ]
     },
     "execution_count": 55,
     "metadata": {},
     "output_type": "execute_result"
    }
   ],
   "source": [
    "experiment_data.shape"
   ]
  },
  {
   "cell_type": "code",
   "execution_count": 56,
   "id": "a8e766cf-55a3-4eb1-b1e9-5ca24c67192b",
   "metadata": {},
   "outputs": [],
   "source": [
    "#filter experiment data\n",
    "drug_match_list=[item for item in experiment_data.index if item.split(':')[1] in drugid2pubchemid.keys()]\n",
    "experiment_data_filtered = experiment_data.loc[drug_match_list]"
   ]
  },
  {
   "cell_type": "code",
   "execution_count": 57,
   "id": "b510920f-384e-44ce-ac25-91bc8e2fb805",
   "metadata": {},
   "outputs": [
    {
     "data": {
      "text/plain": [
       "(238, 969)"
      ]
     },
     "execution_count": 57,
     "metadata": {},
     "output_type": "execute_result"
    }
   ],
   "source": [
    "experiment_data_filtered.shape"
   ]
  },
  {
   "cell_type": "code",
   "execution_count": 58,
   "id": "a750e653-3e51-4679-ad1c-1ef8824333fc",
   "metadata": {},
   "outputs": [
    {
     "data": {
      "text/html": [
       "<div>\n",
       "<style scoped>\n",
       "    .dataframe tbody tr th:only-of-type {\n",
       "        vertical-align: middle;\n",
       "    }\n",
       "\n",
       "    .dataframe tbody tr th {\n",
       "        vertical-align: top;\n",
       "    }\n",
       "\n",
       "    .dataframe thead th {\n",
       "        text-align: right;\n",
       "    }\n",
       "</style>\n",
       "<table border=\"1\" class=\"dataframe\">\n",
       "  <thead>\n",
       "    <tr style=\"text-align: right;\">\n",
       "      <th></th>\n",
       "      <th>ACH-002137</th>\n",
       "      <th>ACH-000474</th>\n",
       "      <th>ACH-002089</th>\n",
       "      <th>ACH-000956</th>\n",
       "      <th>ACH-000948</th>\n",
       "      <th>ACH-000323</th>\n",
       "      <th>ACH-001002</th>\n",
       "      <th>ACH-000905</th>\n",
       "      <th>ACH-000973</th>\n",
       "      <th>ACH-000896</th>\n",
       "      <th>...</th>\n",
       "      <th>ACH-002207</th>\n",
       "      <th>ACH-000827</th>\n",
       "      <th>ACH-000534</th>\n",
       "      <th>ACH-001709</th>\n",
       "      <th>ACH-000332</th>\n",
       "      <th>ACH-000469</th>\n",
       "      <th>ACH-000570</th>\n",
       "      <th>ACH-002208</th>\n",
       "      <th>ACH-002317</th>\n",
       "      <th>ACH-000828</th>\n",
       "    </tr>\n",
       "  </thead>\n",
       "  <tbody>\n",
       "    <tr>\n",
       "      <th>GDSC:1</th>\n",
       "      <td>NaN</td>\n",
       "      <td>NaN</td>\n",
       "      <td>NaN</td>\n",
       "      <td>NaN</td>\n",
       "      <td>NaN</td>\n",
       "      <td>NaN</td>\n",
       "      <td>NaN</td>\n",
       "      <td>NaN</td>\n",
       "      <td>NaN</td>\n",
       "      <td>NaN</td>\n",
       "      <td>...</td>\n",
       "      <td>NaN</td>\n",
       "      <td>NaN</td>\n",
       "      <td>2.724636</td>\n",
       "      <td>2.576109</td>\n",
       "      <td>NaN</td>\n",
       "      <td>NaN</td>\n",
       "      <td>NaN</td>\n",
       "      <td>NaN</td>\n",
       "      <td>2.842845</td>\n",
       "      <td>NaN</td>\n",
       "    </tr>\n",
       "    <tr>\n",
       "      <th>GDSC:1001</th>\n",
       "      <td>7.258918</td>\n",
       "      <td>9.131374</td>\n",
       "      <td>10.182594</td>\n",
       "      <td>8.332992</td>\n",
       "      <td>8.597157</td>\n",
       "      <td>7.606939</td>\n",
       "      <td>8.168512</td>\n",
       "      <td>8.021503</td>\n",
       "      <td>7.517325</td>\n",
       "      <td>7.215900</td>\n",
       "      <td>...</td>\n",
       "      <td>5.794405</td>\n",
       "      <td>7.748403</td>\n",
       "      <td>7.899330</td>\n",
       "      <td>6.896593</td>\n",
       "      <td>9.338678</td>\n",
       "      <td>9.200637</td>\n",
       "      <td>6.464226</td>\n",
       "      <td>NaN</td>\n",
       "      <td>9.426281</td>\n",
       "      <td>8.916867</td>\n",
       "    </tr>\n",
       "    <tr>\n",
       "      <th>GDSC:1004</th>\n",
       "      <td>-3.802467</td>\n",
       "      <td>-5.702659</td>\n",
       "      <td>-4.499864</td>\n",
       "      <td>-4.366928</td>\n",
       "      <td>-4.563040</td>\n",
       "      <td>-4.633045</td>\n",
       "      <td>-6.050113</td>\n",
       "      <td>-6.618734</td>\n",
       "      <td>-5.374042</td>\n",
       "      <td>-3.826083</td>\n",
       "      <td>...</td>\n",
       "      <td>-5.929886</td>\n",
       "      <td>-4.435285</td>\n",
       "      <td>-5.623723</td>\n",
       "      <td>-5.886495</td>\n",
       "      <td>-2.237481</td>\n",
       "      <td>-5.476621</td>\n",
       "      <td>-4.985852</td>\n",
       "      <td>NaN</td>\n",
       "      <td>-1.382754</td>\n",
       "      <td>-2.206867</td>\n",
       "    </tr>\n",
       "    <tr>\n",
       "      <th>GDSC:1005</th>\n",
       "      <td>4.146364</td>\n",
       "      <td>4.551663</td>\n",
       "      <td>1.772586</td>\n",
       "      <td>3.263056</td>\n",
       "      <td>4.091980</td>\n",
       "      <td>3.090641</td>\n",
       "      <td>1.673430</td>\n",
       "      <td>1.523128</td>\n",
       "      <td>0.794987</td>\n",
       "      <td>2.256727</td>\n",
       "      <td>...</td>\n",
       "      <td>2.009858</td>\n",
       "      <td>2.576495</td>\n",
       "      <td>3.462176</td>\n",
       "      <td>2.572676</td>\n",
       "      <td>5.706240</td>\n",
       "      <td>2.498858</td>\n",
       "      <td>1.850879</td>\n",
       "      <td>NaN</td>\n",
       "      <td>4.143535</td>\n",
       "      <td>5.344525</td>\n",
       "    </tr>\n",
       "    <tr>\n",
       "      <th>GDSC:1006</th>\n",
       "      <td>3.171367</td>\n",
       "      <td>-2.014854</td>\n",
       "      <td>-1.818771</td>\n",
       "      <td>0.252367</td>\n",
       "      <td>-1.688469</td>\n",
       "      <td>0.020116</td>\n",
       "      <td>-0.460778</td>\n",
       "      <td>-0.877788</td>\n",
       "      <td>-0.103689</td>\n",
       "      <td>0.021624</td>\n",
       "      <td>...</td>\n",
       "      <td>-0.121731</td>\n",
       "      <td>-0.889294</td>\n",
       "      <td>0.681844</td>\n",
       "      <td>-2.041620</td>\n",
       "      <td>1.454613</td>\n",
       "      <td>-1.346782</td>\n",
       "      <td>-1.255548</td>\n",
       "      <td>NaN</td>\n",
       "      <td>2.067330</td>\n",
       "      <td>1.230528</td>\n",
       "    </tr>\n",
       "  </tbody>\n",
       "</table>\n",
       "<p>5 rows × 969 columns</p>\n",
       "</div>"
      ],
      "text/plain": [
       "           ACH-002137  ACH-000474  ACH-002089  ACH-000956  ACH-000948  \\\n",
       "GDSC:1            NaN         NaN         NaN         NaN         NaN   \n",
       "GDSC:1001    7.258918    9.131374   10.182594    8.332992    8.597157   \n",
       "GDSC:1004   -3.802467   -5.702659   -4.499864   -4.366928   -4.563040   \n",
       "GDSC:1005    4.146364    4.551663    1.772586    3.263056    4.091980   \n",
       "GDSC:1006    3.171367   -2.014854   -1.818771    0.252367   -1.688469   \n",
       "\n",
       "           ACH-000323  ACH-001002  ACH-000905  ACH-000973  ACH-000896  ...  \\\n",
       "GDSC:1            NaN         NaN         NaN         NaN         NaN  ...   \n",
       "GDSC:1001    7.606939    8.168512    8.021503    7.517325    7.215900  ...   \n",
       "GDSC:1004   -4.633045   -6.050113   -6.618734   -5.374042   -3.826083  ...   \n",
       "GDSC:1005    3.090641    1.673430    1.523128    0.794987    2.256727  ...   \n",
       "GDSC:1006    0.020116   -0.460778   -0.877788   -0.103689    0.021624  ...   \n",
       "\n",
       "           ACH-002207  ACH-000827  ACH-000534  ACH-001709  ACH-000332  \\\n",
       "GDSC:1            NaN         NaN    2.724636    2.576109         NaN   \n",
       "GDSC:1001    5.794405    7.748403    7.899330    6.896593    9.338678   \n",
       "GDSC:1004   -5.929886   -4.435285   -5.623723   -5.886495   -2.237481   \n",
       "GDSC:1005    2.009858    2.576495    3.462176    2.572676    5.706240   \n",
       "GDSC:1006   -0.121731   -0.889294    0.681844   -2.041620    1.454613   \n",
       "\n",
       "           ACH-000469  ACH-000570  ACH-002208  ACH-002317  ACH-000828  \n",
       "GDSC:1            NaN         NaN         NaN    2.842845         NaN  \n",
       "GDSC:1001    9.200637    6.464226         NaN    9.426281    8.916867  \n",
       "GDSC:1004   -5.476621   -4.985852         NaN   -1.382754   -2.206867  \n",
       "GDSC:1005    2.498858    1.850879         NaN    4.143535    5.344525  \n",
       "GDSC:1006   -1.346782   -1.255548         NaN    2.067330    1.230528  \n",
       "\n",
       "[5 rows x 969 columns]"
      ]
     },
     "execution_count": 58,
     "metadata": {},
     "output_type": "execute_result"
    }
   ],
   "source": [
    "experiment_data_filtered.head()"
   ]
  },
  {
   "cell_type": "code",
   "execution_count": 59,
   "id": "17a45891-1fee-4c3e-a395-c9b5e1d0a1ae",
   "metadata": {},
   "outputs": [],
   "source": [
    "data_idx = []\n",
    "for each_drug in experiment_data_filtered.index:\n",
    "    for each_cellline in experiment_data_filtered.columns:\n",
    "        pubchem_id = drugid2pubchemid[each_drug.split(':')[-1]]\n",
    "        if str(pubchem_id) in drug_pubchem_id_set and each_cellline in mutation_feature.index:\n",
    "            if not np.isnan(experiment_data_filtered.loc[each_drug,each_cellline]) and each_cellline in cellline2cancertype.keys():\n",
    "                ln_IC50 = float(experiment_data_filtered.loc[each_drug,each_cellline])\n",
    "                data_idx.append((each_cellline,pubchem_id,ln_IC50,cellline2cancertype[each_cellline])) \n",
    "nb_celllines = len(set([item[0] for item in data_idx]))\n",
    "nb_drugs = len(set([item[1] for item in data_idx]))"
   ]
  },
  {
   "cell_type": "code",
   "execution_count": 60,
   "id": "7c3d0868-2d59-4979-a527-6f9b682e33c1",
   "metadata": {},
   "outputs": [
    {
     "data": {
      "text/plain": [
       "107446"
      ]
     },
     "execution_count": 60,
     "metadata": {},
     "output_type": "execute_result"
    }
   ],
   "source": [
    "len(data_idx)"
   ]
  },
  {
   "cell_type": "code",
   "execution_count": 61,
   "id": "4dbbaf5b-8c4c-4787-bb98-ec0dd104f484",
   "metadata": {},
   "outputs": [
    {
     "data": {
      "text/plain": [
       "('ACH-000070', '176870', 0.693305, 'ALL')"
      ]
     },
     "execution_count": 61,
     "metadata": {},
     "output_type": "execute_result"
    }
   ],
   "source": [
    "data_idx[0]"
   ]
  },
  {
   "cell_type": "code",
   "execution_count": 62,
   "id": "6ba5c8a8-4f07-45a7-90b4-73acfa55c6f3",
   "metadata": {},
   "outputs": [],
   "source": [
    "# data index compose of the cell_line ID, pubchem_ID, response, cancer_type"
   ]
  },
  {
   "cell_type": "code",
   "execution_count": 63,
   "id": "c4d78742-84c9-40fc-a687-3ec97b4465db",
   "metadata": {},
   "outputs": [
    {
     "data": {
      "text/plain": [
       "(561, 223)"
      ]
     },
     "execution_count": 63,
     "metadata": {},
     "output_type": "execute_result"
    }
   ],
   "source": [
    "nb_celllines, nb_drugs"
   ]
  },
  {
   "cell_type": "code",
   "execution_count": 64,
   "id": "d5151599-f2f5-4c94-aaf6-3a8a14effedc",
   "metadata": {},
   "outputs": [
    {
     "data": {
      "text/plain": [
       "((561, 34673), (561, 808), (561, 697))"
      ]
     },
     "execution_count": 64,
     "metadata": {},
     "output_type": "execute_result"
    }
   ],
   "source": [
    "mutation_feature.shape, methylation_feature.shape, gexpr_feature.shape"
   ]
  },
  {
   "cell_type": "code",
   "execution_count": 65,
   "id": "cc8b15dc-1195-4df3-b925-0d93aa97abe1",
   "metadata": {},
   "outputs": [
    {
     "data": {
      "text/plain": [
       "223"
      ]
     },
     "execution_count": 65,
     "metadata": {},
     "output_type": "execute_result"
    }
   ],
   "source": [
    "len(drug_feature)"
   ]
  },
  {
   "cell_type": "code",
   "execution_count": 66,
   "id": "502effd7-30e7-4171-b0f4-22b2d492e29e",
   "metadata": {},
   "outputs": [],
   "source": [
    "# This will create the train and test lists - with data index lists that contain cellline ID, pubchem ID, response and TCGA label\n",
    "# Also over here we check for the cancer type, and only retain the samples if their TCGA label is in the chosen cancer types list specified in TCGA_label_set\n",
    "def DataSplit(data_idx,ratio = 0.95):\n",
    "    data_train_idx,data_test_idx = [], []\n",
    "    for each_type in TCGA_label_set:\n",
    "        data_subtype_idx = [item for item in data_idx if item[-1]==each_type]\n",
    "        train_list = random.sample(data_subtype_idx,int(ratio*len(data_subtype_idx)))\n",
    "        test_list = [item for item in data_subtype_idx if item not in train_list]\n",
    "        data_train_idx += train_list\n",
    "        data_test_idx += test_list\n",
    "    return data_train_idx,data_test_idx"
   ]
  },
  {
   "cell_type": "code",
   "execution_count": 67,
   "id": "672ca4f9-5fde-46cc-a299-250960a0f8a1",
   "metadata": {},
   "outputs": [],
   "source": [
    "data_train_idx, data_test_idx = DataSplit(data_idx,ratio = 0.95)"
   ]
  },
  {
   "cell_type": "code",
   "execution_count": 68,
   "id": "0a0859f4-5449-462d-bfe8-abd42e48e7ff",
   "metadata": {},
   "outputs": [
    {
     "data": {
      "text/plain": [
       "(89585, 4729)"
      ]
     },
     "execution_count": 68,
     "metadata": {},
     "output_type": "execute_result"
    }
   ],
   "source": [
    "len(data_train_idx), len(data_test_idx)"
   ]
  },
  {
   "cell_type": "code",
   "execution_count": 69,
   "id": "a0c5b339-7a71-46a3-9fbe-adfc8420e68c",
   "metadata": {},
   "outputs": [
    {
     "data": {
      "text/plain": [
       "94314"
      ]
     },
     "execution_count": 69,
     "metadata": {},
     "output_type": "execute_result"
    }
   ],
   "source": [
    "# how many final samples?\n",
    "len(data_train_idx) + len(data_test_idx)"
   ]
  },
  {
   "cell_type": "code",
   "execution_count": 70,
   "id": "7be2e296-338d-465b-a5c3-7952b813c38f",
   "metadata": {},
   "outputs": [
    {
     "data": {
      "text/plain": [
       "('ACH-000953', '24826799', -2.253904, 'ALL')"
      ]
     },
     "execution_count": 70,
     "metadata": {},
     "output_type": "execute_result"
    }
   ],
   "source": [
    "# see if these have the same data types as the data_idx list\n",
    "data_train_idx[0]"
   ]
  },
  {
   "cell_type": "code",
   "execution_count": 71,
   "id": "ce6ea693-8183-4530-8811-ce6383b72bc2",
   "metadata": {},
   "outputs": [
    {
     "data": {
      "text/plain": [
       "('ACH-000960', '84691', 2.16617, 'ALL')"
      ]
     },
     "execution_count": 71,
     "metadata": {},
     "output_type": "execute_result"
    }
   ],
   "source": [
    "data_test_idx[0]"
   ]
  },
  {
   "cell_type": "code",
   "execution_count": 72,
   "id": "efa44b6d-9a2a-41f0-aa1e-f4d49b7888ca",
   "metadata": {},
   "outputs": [],
   "source": [
    "def NormalizeAdj(adj):\n",
    "    adj = adj + np.eye(adj.shape[0])\n",
    "    d = sp.diags(np.power(np.array(adj.sum(1)), -0.5).flatten(), 0).toarray()\n",
    "    # the following line does the operation (AD)'D = D'A'D\n",
    "    a_norm = adj.dot(d).transpose().dot(d)\n",
    "    return a_norm"
   ]
  },
  {
   "cell_type": "code",
   "execution_count": 73,
   "id": "c3fbec2c-92c3-4f28-8ed1-f3684e1e03ca",
   "metadata": {},
   "outputs": [],
   "source": [
    "# notice that the adjacency matrix that we extract from the provided hickle files is a list. I think this normalization refers to the final 100*100 adjacency matrix."
   ]
  },
  {
   "cell_type": "code",
   "execution_count": 74,
   "id": "c8187a88-a0c3-4115-8c64-ead435a4b70c",
   "metadata": {},
   "outputs": [],
   "source": [
    "generate_adj_mat = np.array([[5,5],[3,2]])"
   ]
  },
  {
   "cell_type": "code",
   "execution_count": 75,
   "id": "efa18b82-2fdd-4885-a05c-3dfbc5d4cd3d",
   "metadata": {},
   "outputs": [
    {
     "data": {
      "text/plain": [
       "(2, 2)"
      ]
     },
     "execution_count": 75,
     "metadata": {},
     "output_type": "execute_result"
    }
   ],
   "source": [
    "generate_adj_mat.shape"
   ]
  },
  {
   "cell_type": "code",
   "execution_count": 76,
   "id": "f72d4643-1031-456c-88ef-62c276a243e6",
   "metadata": {},
   "outputs": [
    {
     "data": {
      "text/plain": [
       "array([[5, 5],\n",
       "       [3, 2]])"
      ]
     },
     "execution_count": 76,
     "metadata": {},
     "output_type": "execute_result"
    }
   ],
   "source": [
    "generate_adj_mat"
   ]
  },
  {
   "cell_type": "code",
   "execution_count": 77,
   "id": "5ffefd01-15af-468e-8549-4e79b183eb49",
   "metadata": {},
   "outputs": [],
   "source": [
    "norm_mat_for_this = NormalizeAdj(generate_adj_mat)"
   ]
  },
  {
   "cell_type": "code",
   "execution_count": 78,
   "id": "8a4a58dc-7fee-49a8-91a8-83ea2d48c9a4",
   "metadata": {},
   "outputs": [
    {
     "data": {
      "text/plain": [
       "array([[0.54545455, 0.36927447],\n",
       "       [0.61545745, 0.5       ]])"
      ]
     },
     "execution_count": 78,
     "metadata": {},
     "output_type": "execute_result"
    }
   ],
   "source": [
    "norm_mat_for_this"
   ]
  },
  {
   "cell_type": "code",
   "execution_count": 79,
   "id": "bb4dc15d-e053-4612-a8d0-95c8935b3f54",
   "metadata": {},
   "outputs": [],
   "source": [
    "generate_adj_mat = generate_adj_mat + np.eye(generate_adj_mat.shape[0])"
   ]
  },
  {
   "cell_type": "code",
   "execution_count": 80,
   "id": "bf1d3d35-cb5d-4982-9dfc-5bb41f978c34",
   "metadata": {},
   "outputs": [
    {
     "data": {
      "text/plain": [
       "array([[6., 5.],\n",
       "       [3., 3.]])"
      ]
     },
     "execution_count": 80,
     "metadata": {},
     "output_type": "execute_result"
    }
   ],
   "source": [
    "generate_adj_mat"
   ]
  },
  {
   "cell_type": "code",
   "execution_count": 81,
   "id": "8bf11ed2-950e-4bb8-87ec-7e302c0bae39",
   "metadata": {},
   "outputs": [
    {
     "data": {
      "text/plain": [
       "array([11.,  6.])"
      ]
     },
     "execution_count": 81,
     "metadata": {},
     "output_type": "execute_result"
    }
   ],
   "source": [
    "generate_adj_mat.sum(1)"
   ]
  },
  {
   "cell_type": "code",
   "execution_count": 82,
   "id": "063a369a-df82-4c13-8e8a-d59505245b46",
   "metadata": {},
   "outputs": [
    {
     "data": {
      "text/plain": [
       "array([11.,  6.])"
      ]
     },
     "execution_count": 82,
     "metadata": {},
     "output_type": "execute_result"
    }
   ],
   "source": [
    "np.array(generate_adj_mat.sum(1))"
   ]
  },
  {
   "cell_type": "code",
   "execution_count": 83,
   "id": "1c1e5725-38f9-42b1-a813-4ea4e3eb6a03",
   "metadata": {},
   "outputs": [
    {
     "data": {
      "text/plain": [
       "array([0.30151134, 0.40824829])"
      ]
     },
     "execution_count": 83,
     "metadata": {},
     "output_type": "execute_result"
    }
   ],
   "source": [
    "np.power(np.array(generate_adj_mat.sum(1)), -0.5)"
   ]
  },
  {
   "cell_type": "code",
   "execution_count": 84,
   "id": "0c0ff888-cc02-4cc3-8319-fac907e7c007",
   "metadata": {},
   "outputs": [
    {
     "data": {
      "text/plain": [
       "array([0.30151134, 0.40824829])"
      ]
     },
     "execution_count": 84,
     "metadata": {},
     "output_type": "execute_result"
    }
   ],
   "source": [
    "np.power(np.array(generate_adj_mat.sum(1)), -0.5).flatten()"
   ]
  },
  {
   "cell_type": "code",
   "execution_count": 85,
   "id": "841607e5-ca27-4eaa-a1b6-bbd14c0fe7d9",
   "metadata": {},
   "outputs": [
    {
     "data": {
      "text/plain": [
       "(0.30151134457776363, 0.408248290463863)"
      ]
     },
     "execution_count": 85,
     "metadata": {},
     "output_type": "execute_result"
    }
   ],
   "source": [
    "11**(-0.5), 6**(-0.5)"
   ]
  },
  {
   "cell_type": "code",
   "execution_count": 86,
   "id": "e3ce9770-580a-4bbe-874c-2dbbe7af20fc",
   "metadata": {},
   "outputs": [],
   "source": [
    "d_trial = sp.diags(np.power(np.array(generate_adj_mat.sum(1)), -0.5).flatten(), 0).toarray()"
   ]
  },
  {
   "cell_type": "code",
   "execution_count": 87,
   "id": "342801fa-2eba-47b2-88f0-defdc2b3874f",
   "metadata": {},
   "outputs": [
    {
     "data": {
      "text/plain": [
       "array([[0.30151134, 0.        ],\n",
       "       [0.        , 0.40824829]])"
      ]
     },
     "execution_count": 87,
     "metadata": {},
     "output_type": "execute_result"
    }
   ],
   "source": [
    "d_trial"
   ]
  },
  {
   "cell_type": "code",
   "execution_count": 88,
   "id": "cbf01ca1-ab5c-4d4b-b01f-7cf6bf6d11c9",
   "metadata": {},
   "outputs": [
    {
     "data": {
      "text/plain": [
       "array([[1.80906807, 2.04124145],\n",
       "       [0.90453403, 1.22474487]])"
      ]
     },
     "execution_count": 88,
     "metadata": {},
     "output_type": "execute_result"
    }
   ],
   "source": [
    "generate_adj_mat.dot(d_trial)"
   ]
  },
  {
   "cell_type": "code",
   "execution_count": 89,
   "id": "28e7ea3c-0754-4a98-91f6-b9a6d8822209",
   "metadata": {},
   "outputs": [
    {
     "data": {
      "text/plain": [
       "(1.80906804, 2.0412414500000002, 0.90453402, 1.22474487)"
      ]
     },
     "execution_count": 89,
     "metadata": {},
     "output_type": "execute_result"
    }
   ],
   "source": [
    "# quick verify\n",
    "6*0.30151134, 5*0.40824829, 3*0.30151134, 3*0.40824829"
   ]
  },
  {
   "cell_type": "code",
   "execution_count": 90,
   "id": "f7d186d5-8fae-4ec1-9ff5-5e46f72e5ed1",
   "metadata": {},
   "outputs": [
    {
     "data": {
      "text/plain": [
       "array([[1.80906807, 0.90453403],\n",
       "       [2.04124145, 1.22474487]])"
      ]
     },
     "execution_count": 90,
     "metadata": {},
     "output_type": "execute_result"
    }
   ],
   "source": [
    "generate_adj_mat.dot(d_trial).transpose()"
   ]
  },
  {
   "cell_type": "code",
   "execution_count": 91,
   "id": "cd560da9-fe75-4533-833a-fa0b0a43deaa",
   "metadata": {},
   "outputs": [
    {
     "data": {
      "text/plain": [
       "array([[0.54545455, 0.36927447],\n",
       "       [0.61545745, 0.5       ]])"
      ]
     },
     "execution_count": 91,
     "metadata": {},
     "output_type": "execute_result"
    }
   ],
   "source": [
    "generate_adj_mat.dot(d_trial).transpose().dot(d_trial)"
   ]
  },
  {
   "cell_type": "code",
   "execution_count": 92,
   "id": "cded7c8b-3f6d-4aea-94ab-e1858a54e96d",
   "metadata": {},
   "outputs": [
    {
     "data": {
      "text/plain": [
       "(0.5454545379369138,\n",
       " 0.3692744709943087,\n",
       " 0.615457444853043,\n",
       " 0.49999999886377233)"
      ]
     },
     "execution_count": 92,
     "metadata": {},
     "output_type": "execute_result"
    }
   ],
   "source": [
    "1.80906807*0.30151134,  0.90453403*0.40824829, 2.04124145*0.30151134, 1.22474487*0.40824829"
   ]
  },
  {
   "cell_type": "code",
   "execution_count": 93,
   "id": "236ee5ad-af28-4d8b-b78f-3cc7d5b51819",
   "metadata": {},
   "outputs": [],
   "source": [
    "a_norm_trial = generate_adj_mat.dot(d_trial).transpose().dot(d_trial)"
   ]
  },
  {
   "cell_type": "code",
   "execution_count": 94,
   "id": "c062be22-090b-47b5-9aa1-9e86b108c034",
   "metadata": {},
   "outputs": [
    {
     "data": {
      "text/plain": [
       "array([[0.54545455, 0.36927447],\n",
       "       [0.61545745, 0.5       ]])"
      ]
     },
     "execution_count": 94,
     "metadata": {},
     "output_type": "execute_result"
    }
   ],
   "source": [
    "a_norm_trial"
   ]
  },
  {
   "cell_type": "code",
   "execution_count": 95,
   "id": "76df88ba-10de-445f-bf68-d64d68523853",
   "metadata": {},
   "outputs": [],
   "source": [
    "# This is creating a random matrix for adjacency matrix: I believe this is for the additional part that we append to the adjacency matrix: The output from here is a symmetric matrix.\n",
    "def random_adjacency_matrix(n):   \n",
    "    matrix = [[random.randint(0, 1) for i in range(n)] for j in range(n)]\n",
    "    # No vertex connects to itself - therefore the diagonals are set to 0s.\n",
    "    for i in range(n):\n",
    "        matrix[i][i] = 0\n",
    "    # If i is connected to j, j is connected to i\n",
    "    for i in range(n):\n",
    "        for j in range(n):\n",
    "            matrix[j][i] = matrix[i][j]\n",
    "    return matrix"
   ]
  },
  {
   "cell_type": "code",
   "execution_count": 96,
   "id": "a43cd9a4-7c36-40a4-b9b0-b52d3c48d473",
   "metadata": {},
   "outputs": [],
   "source": [
    "# suppose n = 10 here\n",
    "random_int_list = [random.randint(0, 1) for i in range(10)]"
   ]
  },
  {
   "cell_type": "code",
   "execution_count": 97,
   "id": "0d319d76-cdd9-413c-a0d7-26bd9b423268",
   "metadata": {},
   "outputs": [
    {
     "data": {
      "text/plain": [
       "[0, 1, 1, 1, 0, 0, 1, 0, 1, 1]"
      ]
     },
     "execution_count": 97,
     "metadata": {},
     "output_type": "execute_result"
    }
   ],
   "source": [
    "random_int_list"
   ]
  },
  {
   "cell_type": "code",
   "execution_count": 98,
   "id": "37850c0e-8700-4260-b85b-4aae1c8dec28",
   "metadata": {},
   "outputs": [],
   "source": [
    "matrix = [[random.randint(0, 1) for i in range(10)] for j in range(10)]"
   ]
  },
  {
   "cell_type": "code",
   "execution_count": 99,
   "id": "8be8b958-7526-4227-830f-a113310d47af",
   "metadata": {},
   "outputs": [
    {
     "data": {
      "text/plain": [
       "10"
      ]
     },
     "execution_count": 99,
     "metadata": {},
     "output_type": "execute_result"
    }
   ],
   "source": [
    "len(matrix)"
   ]
  },
  {
   "cell_type": "code",
   "execution_count": 100,
   "id": "f9f5ec8e-c830-4f6d-907b-6bdee26565b5",
   "metadata": {},
   "outputs": [
    {
     "data": {
      "text/plain": [
       "[[0, 0, 0, 0, 0, 0, 1, 0, 0, 1],\n",
       " [0, 1, 0, 1, 1, 0, 1, 1, 1, 0],\n",
       " [1, 0, 0, 1, 0, 1, 0, 1, 0, 0],\n",
       " [0, 0, 0, 1, 1, 1, 0, 0, 0, 1],\n",
       " [0, 0, 0, 1, 0, 1, 1, 0, 0, 0],\n",
       " [1, 1, 1, 1, 0, 1, 0, 1, 1, 0],\n",
       " [1, 1, 0, 1, 1, 1, 1, 0, 1, 0],\n",
       " [1, 0, 0, 1, 0, 1, 0, 1, 1, 0],\n",
       " [0, 0, 1, 0, 1, 0, 1, 1, 0, 0],\n",
       " [1, 1, 1, 0, 0, 0, 0, 0, 1, 1]]"
      ]
     },
     "execution_count": 100,
     "metadata": {},
     "output_type": "execute_result"
    }
   ],
   "source": [
    "matrix"
   ]
  },
  {
   "cell_type": "code",
   "execution_count": 101,
   "id": "dda93480-82ac-40e7-bbed-528d053ff514",
   "metadata": {},
   "outputs": [],
   "source": [
    "for i in range(10):\n",
    "    matrix[i][i] = 0"
   ]
  },
  {
   "cell_type": "code",
   "execution_count": 102,
   "id": "3acd5fa1-488f-4d85-afc6-ff95359e8c7f",
   "metadata": {},
   "outputs": [
    {
     "data": {
      "text/plain": [
       "[[0, 0, 0, 0, 0, 0, 1, 0, 0, 1],\n",
       " [0, 0, 0, 1, 1, 0, 1, 1, 1, 0],\n",
       " [1, 0, 0, 1, 0, 1, 0, 1, 0, 0],\n",
       " [0, 0, 0, 0, 1, 1, 0, 0, 0, 1],\n",
       " [0, 0, 0, 1, 0, 1, 1, 0, 0, 0],\n",
       " [1, 1, 1, 1, 0, 0, 0, 1, 1, 0],\n",
       " [1, 1, 0, 1, 1, 1, 0, 0, 1, 0],\n",
       " [1, 0, 0, 1, 0, 1, 0, 0, 1, 0],\n",
       " [0, 0, 1, 0, 1, 0, 1, 1, 0, 0],\n",
       " [1, 1, 1, 0, 0, 0, 0, 0, 1, 0]]"
      ]
     },
     "execution_count": 102,
     "metadata": {},
     "output_type": "execute_result"
    }
   ],
   "source": [
    "matrix"
   ]
  },
  {
   "cell_type": "code",
   "execution_count": 103,
   "id": "dde7455f-d3ed-4ba7-a1b3-dec1027a8219",
   "metadata": {},
   "outputs": [],
   "source": [
    "for i in range(10):\n",
    "    for j in range(10):\n",
    "        matrix[j][i] = matrix[i][j]"
   ]
  },
  {
   "cell_type": "code",
   "execution_count": 104,
   "id": "03cd2c25-cb15-457f-bb01-7272c7cc8a0e",
   "metadata": {},
   "outputs": [
    {
     "data": {
      "text/plain": [
       "[[0, 0, 0, 0, 0, 0, 1, 0, 0, 1],\n",
       " [0, 0, 0, 1, 1, 0, 1, 1, 1, 0],\n",
       " [0, 0, 0, 1, 0, 1, 0, 1, 0, 0],\n",
       " [0, 1, 1, 0, 1, 1, 0, 0, 0, 1],\n",
       " [0, 1, 0, 1, 0, 1, 1, 0, 0, 0],\n",
       " [0, 0, 1, 1, 1, 0, 0, 1, 1, 0],\n",
       " [1, 1, 0, 0, 1, 0, 0, 0, 1, 0],\n",
       " [0, 1, 1, 0, 0, 1, 0, 0, 1, 0],\n",
       " [0, 1, 0, 0, 0, 1, 1, 1, 0, 0],\n",
       " [1, 0, 0, 1, 0, 0, 0, 0, 0, 0]]"
      ]
     },
     "execution_count": 104,
     "metadata": {},
     "output_type": "execute_result"
    }
   ],
   "source": [
    "matrix"
   ]
  },
  {
   "cell_type": "code",
   "execution_count": 105,
   "id": "b653a877-76f6-4c74-8a2d-3ec9058d6808",
   "metadata": {},
   "outputs": [],
   "source": [
    "# now this where all the final features abd adjacency matrix are produced"
   ]
  },
  {
   "cell_type": "code",
   "execution_count": 106,
   "id": "824c9777-4180-46be-a475-3565bf9150fd",
   "metadata": {},
   "outputs": [],
   "source": [
    "Max_atoms = 100"
   ]
  },
  {
   "cell_type": "code",
   "execution_count": 107,
   "id": "fafa996b-64ab-4f19-bca2-c6526d94badd",
   "metadata": {},
   "outputs": [],
   "source": [
    "def CalculateGraphFeat(feat_mat,adj_list):\n",
    "    assert feat_mat.shape[0] == len(adj_list)\n",
    "    feat = np.zeros((Max_atoms,feat_mat.shape[-1]),dtype='float32')\n",
    "    adj_mat = np.zeros((Max_atoms,Max_atoms),dtype='float32')\n",
    "    if israndom:\n",
    "        feat = np.random.rand(Max_atoms,feat_mat.shape[-1])\n",
    "        adj_mat[feat_mat.shape[0]:,feat_mat.shape[0]:] = random_adjacency_matrix(Max_atoms-feat_mat.shape[0])        \n",
    "    feat[:feat_mat.shape[0],:] = feat_mat\n",
    "    for i in range(len(adj_list)):\n",
    "        nodes = adj_list[i]\n",
    "        for each in nodes:\n",
    "            adj_mat[i,int(each)] = 1\n",
    "    assert np.allclose(adj_mat,adj_mat.T)\n",
    "    adj_ = adj_mat[:len(adj_list),:len(adj_list)]\n",
    "    adj_2 = adj_mat[len(adj_list):,len(adj_list):]\n",
    "    norm_adj_ = NormalizeAdj(adj_)\n",
    "    norm_adj_2 = NormalizeAdj(adj_2)\n",
    "    adj_mat[:len(adj_list),:len(adj_list)] = norm_adj_\n",
    "    adj_mat[len(adj_list):,len(adj_list):] = norm_adj_2    \n",
    "    return [feat,adj_mat]"
   ]
  },
  {
   "cell_type": "code",
   "execution_count": 108,
   "id": "e21472a2-dcf2-40e3-bf1b-cc7ce7d266ae",
   "metadata": {},
   "outputs": [
    {
     "data": {
      "text/plain": [
       "True"
      ]
     },
     "execution_count": 108,
     "metadata": {},
     "output_type": "execute_result"
    }
   ],
   "source": [
    "drug_features.shape[0] == len(adjecency_matrix)"
   ]
  },
  {
   "cell_type": "code",
   "execution_count": 109,
   "id": "dd50e7ed-53ce-4087-8c36-c55171e64e83",
   "metadata": {},
   "outputs": [
    {
     "data": {
      "text/plain": [
       "34"
      ]
     },
     "execution_count": 109,
     "metadata": {},
     "output_type": "execute_result"
    }
   ],
   "source": [
    "len(adjecency_matrix)"
   ]
  },
  {
   "cell_type": "code",
   "execution_count": 110,
   "id": "5d05d537-a8fa-4553-baf5-d6ee24282452",
   "metadata": {},
   "outputs": [
    {
     "data": {
      "text/plain": [
       "(34, 75)"
      ]
     },
     "execution_count": 110,
     "metadata": {},
     "output_type": "execute_result"
    }
   ],
   "source": [
    "drug_features.shape"
   ]
  },
  {
   "cell_type": "code",
   "execution_count": 111,
   "id": "735c0fc8-f194-483f-940d-5feaa6ee21ef",
   "metadata": {},
   "outputs": [],
   "source": [
    "feat_T = np.zeros((Max_atoms,drug_features.shape[-1]),dtype='float32')"
   ]
  },
  {
   "cell_type": "code",
   "execution_count": 112,
   "id": "2559f29b-4408-410e-b7fe-ccbedcd9f99b",
   "metadata": {},
   "outputs": [
    {
     "data": {
      "text/plain": [
       "0.0"
      ]
     },
     "execution_count": 112,
     "metadata": {},
     "output_type": "execute_result"
    }
   ],
   "source": [
    "np.mean(feat_T)"
   ]
  },
  {
   "cell_type": "code",
   "execution_count": 113,
   "id": "10188826-e0ca-4358-8c59-3f64aab05700",
   "metadata": {},
   "outputs": [],
   "source": [
    "feat_T[:drug_features.shape[0],:] = drug_features"
   ]
  },
  {
   "cell_type": "code",
   "execution_count": 114,
   "id": "bbc84823-bd28-4fd7-b1fb-423e4f2d235a",
   "metadata": {},
   "outputs": [
    {
     "data": {
      "text/plain": [
       "(34, 75)"
      ]
     },
     "execution_count": 114,
     "metadata": {},
     "output_type": "execute_result"
    }
   ],
   "source": [
    "drug_features.shape"
   ]
  },
  {
   "cell_type": "code",
   "execution_count": 115,
   "id": "7129c8b0-0974-41f4-bbe2-66b00807c7ce",
   "metadata": {},
   "outputs": [
    {
     "data": {
      "text/plain": [
       "(100, 75)"
      ]
     },
     "execution_count": 115,
     "metadata": {},
     "output_type": "execute_result"
    }
   ],
   "source": [
    "feat_T.shape"
   ]
  },
  {
   "cell_type": "code",
   "execution_count": 116,
   "id": "4a29361b-e760-4255-b981-fb3f3b05e083",
   "metadata": {},
   "outputs": [],
   "source": [
    "# Check if the indices corresponding to the features in the featuremap matches with the final feat_T matrix"
   ]
  },
  {
   "cell_type": "code",
   "execution_count": 117,
   "id": "f3c65b34-147b-4639-a85e-d7345e783a0a",
   "metadata": {},
   "outputs": [
    {
     "data": {
      "text/plain": [
       "1.0"
      ]
     },
     "execution_count": 117,
     "metadata": {},
     "output_type": "execute_result"
    }
   ],
   "source": [
    "np.mean(feat_T[:34, :] == drug_features)"
   ]
  },
  {
   "cell_type": "code",
   "execution_count": 118,
   "id": "826ec5bb-9f7e-49f8-8b12-7d3dbe29bcd6",
   "metadata": {},
   "outputs": [
    {
     "data": {
      "text/plain": [
       "0.0"
      ]
     },
     "execution_count": 118,
     "metadata": {},
     "output_type": "execute_result"
    }
   ],
   "source": [
    "# check if all the other means are 0\n",
    "np.mean(feat_T[34:, :])"
   ]
  },
  {
   "cell_type": "code",
   "execution_count": 119,
   "id": "8b922f08-32e8-4e6a-a5a2-f9791fb82036",
   "metadata": {},
   "outputs": [],
   "source": [
    "# Notice that this happens in the function only if the israndom variable is set to False (which I think the paper is talking about)\n",
    "\n",
    "# Else we can also go with appending the matrix size to Max_atoms*features with the defined random adjacency matrix. This also changes the feature matrix (I mean setting israndom to False)"
   ]
  },
  {
   "cell_type": "code",
   "execution_count": 120,
   "id": "3cf391ce-c331-488a-8fb7-2c1709af8f03",
   "metadata": {},
   "outputs": [],
   "source": [
    "# In that case feature map becomes\n",
    "feat_alt = np.random.rand(Max_atoms,drug_features.shape[-1])\n",
    "feat_alt[:drug_features.shape[0],:] = drug_features"
   ]
  },
  {
   "cell_type": "code",
   "execution_count": 121,
   "id": "96925e7c-f8e2-472e-a17d-01fc7515e449",
   "metadata": {},
   "outputs": [
    {
     "data": {
      "text/plain": [
       "array([[1.        , 0.        , 0.        , ..., 0.        , 1.        ,\n",
       "        0.        ],\n",
       "       [1.        , 0.        , 0.        , ..., 0.        , 1.        ,\n",
       "        0.        ],\n",
       "       [0.        , 0.        , 1.        , ..., 0.        , 0.        ,\n",
       "        0.        ],\n",
       "       ...,\n",
       "       [0.36076194, 0.79358874, 0.11329305, ..., 0.29797569, 0.83877069,\n",
       "        0.51280729],\n",
       "       [0.47434159, 0.68817354, 0.75768153, ..., 0.83383537, 0.56905275,\n",
       "        0.70947795],\n",
       "       [0.21879443, 0.98399148, 0.0296639 , ..., 0.80380846, 0.92703749,\n",
       "        0.64302065]])"
      ]
     },
     "execution_count": 121,
     "metadata": {},
     "output_type": "execute_result"
    }
   ],
   "source": [
    "feat_alt"
   ]
  },
  {
   "cell_type": "code",
   "execution_count": 122,
   "id": "7274dd40-1255-457e-8899-e74234640bc5",
   "metadata": {},
   "outputs": [
    {
     "data": {
      "text/plain": [
       "(100, 75)"
      ]
     },
     "execution_count": 122,
     "metadata": {},
     "output_type": "execute_result"
    }
   ],
   "source": [
    "feat_alt.shape"
   ]
  },
  {
   "cell_type": "code",
   "execution_count": 123,
   "id": "aaad59e1-db70-435b-9de8-48e0ab0629d9",
   "metadata": {},
   "outputs": [],
   "source": [
    "# Basically, this will have the first 34 rows (in this examples) extactly as the features given in the hickle file. The rest of the rows will be filled with random uniform values instead of zeros as with israndom = False case"
   ]
  },
  {
   "cell_type": "code",
   "execution_count": 124,
   "id": "1800fbb3-ea2e-40c6-9718-a0aa770651cd",
   "metadata": {},
   "outputs": [],
   "source": [
    "# Let's see later what will happen to the adjacency matrix if we set isradom to True later"
   ]
  },
  {
   "cell_type": "code",
   "execution_count": 125,
   "id": "ffda4b7c-4801-459c-bf98-05f0049e6c82",
   "metadata": {},
   "outputs": [],
   "source": [
    "# now what when israndom is set to False: We proceed as normal"
   ]
  },
  {
   "cell_type": "code",
   "execution_count": 126,
   "id": "48f2e289-4f68-4524-a0d3-fef4702e55b1",
   "metadata": {},
   "outputs": [],
   "source": [
    "adj_mat_T= np.zeros((Max_atoms,Max_atoms),dtype='float32')"
   ]
  },
  {
   "cell_type": "code",
   "execution_count": 127,
   "id": "acf8645f-f192-4d64-b65a-e12a13679513",
   "metadata": {},
   "outputs": [
    {
     "data": {
      "text/plain": [
       "((100, 100), 0.0)"
      ]
     },
     "execution_count": 127,
     "metadata": {},
     "output_type": "execute_result"
    }
   ],
   "source": [
    "adj_mat_T.shape, np.mean(adj_mat_T)"
   ]
  },
  {
   "cell_type": "code",
   "execution_count": 128,
   "id": "8a656844-fa0c-4717-9c72-0f136f67750a",
   "metadata": {},
   "outputs": [
    {
     "data": {
      "text/plain": [
       "34"
      ]
     },
     "execution_count": 128,
     "metadata": {},
     "output_type": "execute_result"
    }
   ],
   "source": [
    "# our adjacency list is given by adjecency_matrix and mind that this is a list\n",
    "len(adjecency_matrix)"
   ]
  },
  {
   "cell_type": "code",
   "execution_count": 129,
   "id": "4478bb0d-030c-4360-a9c6-c976b3945aae",
   "metadata": {},
   "outputs": [],
   "source": [
    "# Let's create the adjacency matrix here - Basically tells to connect each node with whatever their neighbors are as specified in the adjacency list"
   ]
  },
  {
   "cell_type": "code",
   "execution_count": 130,
   "id": "4ccac859-f80c-47ec-86fe-e6d27f84e736",
   "metadata": {},
   "outputs": [],
   "source": [
    "for i in range(len(adjecency_matrix)):\n",
    "    nodes = adjecency_matrix[i]\n",
    "    for each in nodes:\n",
    "        adj_mat_T[i,int(each)] = 1"
   ]
  },
  {
   "cell_type": "code",
   "execution_count": 131,
   "id": "7f1c26ce-ff62-4171-8b04-35536ca14fe5",
   "metadata": {},
   "outputs": [
    {
     "data": {
      "text/plain": [
       "0.0076"
      ]
     },
     "execution_count": 131,
     "metadata": {},
     "output_type": "execute_result"
    }
   ],
   "source": [
    "# This works, as now the mean of this matrix is not zeor\n",
    "np.mean(adj_mat_T)"
   ]
  },
  {
   "cell_type": "code",
   "execution_count": 132,
   "id": "c472c2e0-1bcf-42cd-b0ed-4addd129537a",
   "metadata": {},
   "outputs": [],
   "source": [
    "# but does not seem like we are done here - Let's follow through with the rest of the code -  basically we are using the normalizing adjacency matrix function defined earlier to normalize the adjacency matrix"
   ]
  },
  {
   "cell_type": "code",
   "execution_count": 133,
   "id": "f230e417-1350-4446-97ad-4caa3249d079",
   "metadata": {},
   "outputs": [
    {
     "data": {
      "text/plain": [
       "True"
      ]
     },
     "execution_count": 133,
     "metadata": {},
     "output_type": "execute_result"
    }
   ],
   "source": [
    "# This np.allclose besically see if two arrays are roughly simialr - close enough\n",
    "np.allclose(adj_mat_T,adj_mat_T.T)"
   ]
  },
  {
   "cell_type": "code",
   "execution_count": 134,
   "id": "9aa9ccae-e62c-433b-89bf-01fa3623b617",
   "metadata": {},
   "outputs": [],
   "source": [
    "adj_ = adj_mat_T[:len(adjecency_matrix),:len(adjecency_matrix)]\n",
    "adj_2 = adj_mat_T[len(adjecency_matrix):,len(adjecency_matrix):]\n",
    "norm_adj_ = NormalizeAdj(adj_)\n",
    "norm_adj_2 = NormalizeAdj(adj_2)\n",
    "adj_mat_T[:len(adjecency_matrix),:len(adjecency_matrix)] = norm_adj_\n",
    "adj_mat_T[len(adjecency_matrix):,len(adjecency_matrix):] = norm_adj_2 "
   ]
  },
  {
   "cell_type": "code",
   "execution_count": 135,
   "id": "8f87d2e1-a89a-4353-851c-c20893509541",
   "metadata": {},
   "outputs": [
    {
     "data": {
      "text/plain": [
       "((34, 34), (66, 66))"
      ]
     },
     "execution_count": 135,
     "metadata": {},
     "output_type": "execute_result"
    }
   ],
   "source": [
    "adj_.shape, adj_2.shape"
   ]
  },
  {
   "cell_type": "code",
   "execution_count": 136,
   "id": "46daf72f-f0a2-45df-9665-834d98ce52b7",
   "metadata": {},
   "outputs": [
    {
     "data": {
      "text/plain": [
       "(0.029224653, 0.015151516)"
      ]
     },
     "execution_count": 136,
     "metadata": {},
     "output_type": "execute_result"
    }
   ],
   "source": [
    "np.mean(adj_), np.mean(adj_2)"
   ]
  },
  {
   "cell_type": "code",
   "execution_count": 137,
   "id": "736a7d17-80d2-4ca8-a2b9-885f109b55c7",
   "metadata": {},
   "outputs": [
    {
     "data": {
      "text/plain": [
       "((34, 34), (66, 66))"
      ]
     },
     "execution_count": 137,
     "metadata": {},
     "output_type": "execute_result"
    }
   ],
   "source": [
    "norm_adj_.shape, norm_adj_2.shape"
   ]
  },
  {
   "cell_type": "code",
   "execution_count": 138,
   "id": "811fa7b6-4494-48c6-b929-755fd595af29",
   "metadata": {},
   "outputs": [
    {
     "data": {
      "text/plain": [
       "(0.029224652760585675, 0.015151515151515152)"
      ]
     },
     "execution_count": 138,
     "metadata": {},
     "output_type": "execute_result"
    }
   ],
   "source": [
    "np.mean(norm_adj_), np.mean(norm_adj_2)"
   ]
  },
  {
   "cell_type": "code",
   "execution_count": 139,
   "id": "7d5bea39-fa38-4970-a7b1-a5ec8683c2d3",
   "metadata": {},
   "outputs": [
    {
     "data": {
      "text/plain": [
       "(100, 100)"
      ]
     },
     "execution_count": 139,
     "metadata": {},
     "output_type": "execute_result"
    }
   ],
   "source": [
    "adj_mat_T.shape"
   ]
  },
  {
   "cell_type": "code",
   "execution_count": 140,
   "id": "8cb66d97-064a-4eda-bc9e-d81970a0feb7",
   "metadata": {},
   "outputs": [],
   "source": [
    "# now this last thing is going to be your adjacency matrix"
   ]
  },
  {
   "cell_type": "code",
   "execution_count": 141,
   "id": "a80e542a-309c-46fe-8335-556ca365503e",
   "metadata": {},
   "outputs": [
    {
     "data": {
      "text/plain": [
       "0.00997837"
      ]
     },
     "execution_count": 141,
     "metadata": {},
     "output_type": "execute_result"
    }
   ],
   "source": [
    "np.mean(adj_mat_T)"
   ]
  },
  {
   "cell_type": "code",
   "execution_count": 142,
   "id": "7cf947ad-8ae5-495c-abbc-8ae999c2c8ee",
   "metadata": {},
   "outputs": [],
   "source": [
    "# now what if we set is random to True? What is the deal with the adjacency matrix?"
   ]
  },
  {
   "cell_type": "code",
   "execution_count": 143,
   "id": "1b236217-bde6-42e9-a234-fd5c6c1e6de2",
   "metadata": {},
   "outputs": [],
   "source": [
    "# This is the line that is going to be affected\n",
    "# adj_mat[feat_mat.shape[0]:,feat_mat.shape[0]:] = random_adjacency_matrix(Max_atoms-feat_mat.shape[0])        "
   ]
  },
  {
   "cell_type": "code",
   "execution_count": 144,
   "id": "72f2f441-8a45-4a01-9ba4-793676e49a94",
   "metadata": {},
   "outputs": [],
   "source": [
    "# Let's define the adjacency matrix with all zeros again\n",
    "adj_mat_T= np.zeros((Max_atoms,Max_atoms),dtype='float32')"
   ]
  },
  {
   "cell_type": "code",
   "execution_count": 145,
   "id": "eb0a9130-c4fe-4104-a638-452387893d3f",
   "metadata": {},
   "outputs": [
    {
     "data": {
      "text/plain": [
       "(100, 100)"
      ]
     },
     "execution_count": 145,
     "metadata": {},
     "output_type": "execute_result"
    }
   ],
   "source": [
    "adj_mat_T.shape"
   ]
  },
  {
   "cell_type": "code",
   "execution_count": 146,
   "id": "db4bcf22-3a16-4f3f-84a0-99f86e201a93",
   "metadata": {},
   "outputs": [],
   "source": [
    "adj_mat_T[drug_features.shape[0]:,drug_features.shape[0]:] = random_adjacency_matrix(Max_atoms-drug_features.shape[0])  "
   ]
  },
  {
   "cell_type": "code",
   "execution_count": 147,
   "id": "64f28b9f-23d6-483d-aca4-cbb52da614b4",
   "metadata": {},
   "outputs": [
    {
     "data": {
      "text/plain": [
       "66"
      ]
     },
     "execution_count": 147,
     "metadata": {},
     "output_type": "execute_result"
    }
   ],
   "source": [
    "len(random_adjacency_matrix(Max_atoms-drug_features.shape[0]))"
   ]
  },
  {
   "cell_type": "code",
   "execution_count": 148,
   "id": "a4d23ba1-789b-4481-9eae-1008fcae909a",
   "metadata": {},
   "outputs": [
    {
     "data": {
      "text/plain": [
       "(66, 66)"
      ]
     },
     "execution_count": 148,
     "metadata": {},
     "output_type": "execute_result"
    }
   ],
   "source": [
    "adj_mat_T[drug_features.shape[0]:,drug_features.shape[0]:].shape"
   ]
  },
  {
   "cell_type": "code",
   "execution_count": 149,
   "id": "f4685393-b6a5-42a1-addd-deee9173a1a8",
   "metadata": {},
   "outputs": [
    {
     "data": {
      "text/plain": [
       "array([[0., 0., 0., ..., 0., 0., 0.],\n",
       "       [0., 0., 0., ..., 0., 0., 0.],\n",
       "       [0., 0., 0., ..., 0., 0., 0.],\n",
       "       ...,\n",
       "       [0., 0., 0., ..., 0., 1., 1.],\n",
       "       [0., 0., 0., ..., 1., 0., 1.],\n",
       "       [0., 0., 0., ..., 1., 1., 0.]], dtype=float32)"
      ]
     },
     "execution_count": 149,
     "metadata": {},
     "output_type": "execute_result"
    }
   ],
   "source": [
    "adj_mat_T # basically the last quadrant of the matrix of shape 66*66 is set to the random adjecency matrix define earlier if israndom is set to True"
   ]
  },
  {
   "cell_type": "code",
   "execution_count": 150,
   "id": "4eb7b77b-7558-4774-b401-93ad80740375",
   "metadata": {},
   "outputs": [],
   "source": [
    "# Moving on to the next function\n",
    "def FeatureExtract(data_idx,drug_feature,mutation_feature,gexpr_feature,methylation_feature):\n",
    "    cancer_type_list = []\n",
    "    nb_instance = len(data_idx)\n",
    "    nb_mutation_feature = mutation_feature.shape[1]\n",
    "    nb_gexpr_features = gexpr_feature.shape[1]\n",
    "    nb_methylation_features = methylation_feature.shape[1]\n",
    "    drug_data = [[] for item in range(nb_instance)]\n",
    "    mutation_data = np.zeros((nb_instance,1, nb_mutation_feature,1),dtype='float32')\n",
    "    gexpr_data = np.zeros((nb_instance,nb_gexpr_features),dtype='float32') \n",
    "    methylation_data = np.zeros((nb_instance, nb_methylation_features),dtype='float32') \n",
    "    target = np.zeros(nb_instance,dtype='float32')\n",
    "    for idx in range(nb_instance):\n",
    "        cell_line_id,pubchem_id,ln_IC50,cancer_type = data_idx[idx]\n",
    "        #modify\n",
    "        feat_mat,adj_list,_ = drug_feature[str(pubchem_id)]\n",
    "        #fill drug data,padding to the same size with zeros\n",
    "        drug_data[idx] = CalculateGraphFeat(feat_mat,adj_list)\n",
    "        #randomlize X A\n",
    "        mutation_data[idx,0,:,0] = mutation_feature.loc[cell_line_id].values\n",
    "        gexpr_data[idx,:] = gexpr_feature.loc[cell_line_id].values\n",
    "        methylation_data[idx,:] = methylation_feature.loc[cell_line_id].values\n",
    "        target[idx] = ln_IC50\n",
    "        cancer_type_list.append([cancer_type,cell_line_id,pubchem_id])\n",
    "    return drug_data,mutation_data,gexpr_data,methylation_data,target,cancer_type_list"
   ]
  },
  {
   "cell_type": "code",
   "execution_count": 151,
   "id": "bc985dd2-c987-4833-b14d-7108d6e34f88",
   "metadata": {},
   "outputs": [
    {
     "data": {
      "text/plain": [
       "125103"
      ]
     },
     "execution_count": 151,
     "metadata": {},
     "output_type": "execute_result"
    }
   ],
   "source": [
    "# should all be \n",
    "561*223"
   ]
  },
  {
   "cell_type": "code",
   "execution_count": 152,
   "id": "4673a4f9-c251-47ed-a2cf-148020f30581",
   "metadata": {},
   "outputs": [
    {
     "data": {
      "text/plain": [
       "107440"
      ]
     },
     "execution_count": 152,
     "metadata": {},
     "output_type": "execute_result"
    }
   ],
   "source": [
    "107440"
   ]
  },
  {
   "cell_type": "code",
   "execution_count": 153,
   "id": "ca994ece-9f4e-4aec-962b-d53a685c9da8",
   "metadata": {},
   "outputs": [
    {
     "data": {
      "text/plain": [
       "239400"
      ]
     },
     "execution_count": 153,
     "metadata": {},
     "output_type": "execute_result"
    }
   ],
   "source": [
    "900*266"
   ]
  },
  {
   "cell_type": "code",
   "execution_count": 154,
   "id": "865ef50e-b936-4838-977f-fbd57fa6c938",
   "metadata": {},
   "outputs": [],
   "source": [
    "# Let's make a dataframe with all drug IDs, cell line IDs, features, and responses"
   ]
  },
  {
   "cell_type": "code",
   "execution_count": 155,
   "id": "04290277-b778-4ecc-a9d3-035452913559",
   "metadata": {},
   "outputs": [],
   "source": [
    "# We have the cell ID, pubchem ID, response and a TCGA_label in data_idx"
   ]
  },
  {
   "cell_type": "code",
   "execution_count": 156,
   "id": "022faff0-ac53-49cc-9198-07da817489d4",
   "metadata": {},
   "outputs": [
    {
     "data": {
      "text/plain": [
       "107446"
      ]
     },
     "execution_count": 156,
     "metadata": {},
     "output_type": "execute_result"
    }
   ],
   "source": [
    "len(data_idx)"
   ]
  },
  {
   "cell_type": "code",
   "execution_count": 157,
   "id": "bc39d4c7-6db5-48f2-8d7d-375cf03650ec",
   "metadata": {},
   "outputs": [],
   "source": [
    "# should we make this a dataframe first? Or maybe better to get rid of the cancer types not considered"
   ]
  },
  {
   "cell_type": "code",
   "execution_count": 158,
   "id": "a3210f9b-bb64-4a59-8b6a-6daa4e855f3d",
   "metadata": {},
   "outputs": [],
   "source": [
    "all_req_data_idx = []\n",
    "for item in data_idx:\n",
    "    if item[-1] in TCGA_label_set:\n",
    "        all_req_data_idx.append(item)"
   ]
  },
  {
   "cell_type": "code",
   "execution_count": 159,
   "id": "5ef6aae5-3d14-4aea-a4a9-4be780649a8e",
   "metadata": {},
   "outputs": [
    {
     "data": {
      "text/plain": [
       "94314"
      ]
     },
     "execution_count": 159,
     "metadata": {},
     "output_type": "execute_result"
    }
   ],
   "source": [
    "len(all_req_data_idx)"
   ]
  },
  {
   "cell_type": "code",
   "execution_count": 160,
   "id": "9eeea1ac-9fd4-4b48-99f3-6a12209ff8d6",
   "metadata": {},
   "outputs": [
    {
     "data": {
      "text/plain": [
       "94314"
      ]
     },
     "execution_count": 160,
     "metadata": {},
     "output_type": "execute_result"
    }
   ],
   "source": [
    "# verify this number is correct\n",
    "len(data_train_idx) + len(data_test_idx)"
   ]
  },
  {
   "cell_type": "code",
   "execution_count": 161,
   "id": "80e70726-04e2-4b3f-a845-1d8be18f0bac",
   "metadata": {},
   "outputs": [],
   "source": [
    "# convert this list now to a dataframe\n",
    "DeepCDR_data = pd.DataFrame(all_req_data_idx, columns = [\"Cell_line_ID\", \"Pubchem_ID\", \"Response\", \"TCGA_cancer_type\"])"
   ]
  },
  {
   "cell_type": "code",
   "execution_count": 162,
   "id": "2a106129-6e24-4b86-a0b2-e991be850348",
   "metadata": {},
   "outputs": [
    {
     "data": {
      "text/html": [
       "<div>\n",
       "<style scoped>\n",
       "    .dataframe tbody tr th:only-of-type {\n",
       "        vertical-align: middle;\n",
       "    }\n",
       "\n",
       "    .dataframe tbody tr th {\n",
       "        vertical-align: top;\n",
       "    }\n",
       "\n",
       "    .dataframe thead th {\n",
       "        text-align: right;\n",
       "    }\n",
       "</style>\n",
       "<table border=\"1\" class=\"dataframe\">\n",
       "  <thead>\n",
       "    <tr style=\"text-align: right;\">\n",
       "      <th></th>\n",
       "      <th>Cell_line_ID</th>\n",
       "      <th>Pubchem_ID</th>\n",
       "      <th>Response</th>\n",
       "      <th>TCGA_cancer_type</th>\n",
       "    </tr>\n",
       "  </thead>\n",
       "  <tbody>\n",
       "    <tr>\n",
       "      <th>0</th>\n",
       "      <td>ACH-000070</td>\n",
       "      <td>176870</td>\n",
       "      <td>0.693305</td>\n",
       "      <td>ALL</td>\n",
       "    </tr>\n",
       "    <tr>\n",
       "      <th>1</th>\n",
       "      <td>ACH-000137</td>\n",
       "      <td>176870</td>\n",
       "      <td>2.580268</td>\n",
       "      <td>GBM</td>\n",
       "    </tr>\n",
       "    <tr>\n",
       "      <th>2</th>\n",
       "      <td>ACH-000008</td>\n",
       "      <td>176870</td>\n",
       "      <td>2.557837</td>\n",
       "      <td>SKCM</td>\n",
       "    </tr>\n",
       "    <tr>\n",
       "      <th>3</th>\n",
       "      <td>ACH-000740</td>\n",
       "      <td>176870</td>\n",
       "      <td>0.290013</td>\n",
       "      <td>HNSC</td>\n",
       "    </tr>\n",
       "    <tr>\n",
       "      <th>4</th>\n",
       "      <td>ACH-000697</td>\n",
       "      <td>176870</td>\n",
       "      <td>1.110250</td>\n",
       "      <td>DLBC</td>\n",
       "    </tr>\n",
       "  </tbody>\n",
       "</table>\n",
       "</div>"
      ],
      "text/plain": [
       "  Cell_line_ID Pubchem_ID  Response TCGA_cancer_type\n",
       "0   ACH-000070     176870  0.693305              ALL\n",
       "1   ACH-000137     176870  2.580268              GBM\n",
       "2   ACH-000008     176870  2.557837             SKCM\n",
       "3   ACH-000740     176870  0.290013             HNSC\n",
       "4   ACH-000697     176870  1.110250             DLBC"
      ]
     },
     "execution_count": 162,
     "metadata": {},
     "output_type": "execute_result"
    }
   ],
   "source": [
    "DeepCDR_data.head()"
   ]
  },
  {
   "cell_type": "code",
   "execution_count": 163,
   "id": "4e8eac25-e0b1-4e17-8aa1-6b55fd258f64",
   "metadata": {},
   "outputs": [
    {
     "data": {
      "text/plain": [
       "(94314, 4)"
      ]
     },
     "execution_count": 163,
     "metadata": {},
     "output_type": "execute_result"
    }
   ],
   "source": [
    "DeepCDR_data.shape"
   ]
  },
  {
   "cell_type": "code",
   "execution_count": 164,
   "id": "d6d664f9-f779-42cb-ac41-761fd15d37ed",
   "metadata": {},
   "outputs": [
    {
     "data": {
      "text/plain": [
       "ACH-000944    238\n",
       "ACH-000204    238\n",
       "ACH-000007    238\n",
       "ACH-000371    238\n",
       "ACH-000743    238\n",
       "             ... \n",
       "ACH-000763     59\n",
       "ACH-000187     51\n",
       "ACH-000225     29\n",
       "ACH-000035     28\n",
       "ACH-000345     25\n",
       "Name: Cell_line_ID, Length: 494, dtype: int64"
      ]
     },
     "execution_count": 164,
     "metadata": {},
     "output_type": "execute_result"
    }
   ],
   "source": [
    "# how many unique cell line IDS? - 494\n",
    "DeepCDR_data['Cell_line_ID'].value_counts()"
   ]
  },
  {
   "cell_type": "code",
   "execution_count": 165,
   "id": "4b858ae2-7cb8-4d97-82fa-b83c47d526c6",
   "metadata": {},
   "outputs": [
    {
     "data": {
      "text/plain": [
       "494"
      ]
     },
     "execution_count": 165,
     "metadata": {},
     "output_type": "execute_result"
    }
   ],
   "source": [
    "len(DeepCDR_data['Cell_line_ID'].value_counts())"
   ]
  },
  {
   "cell_type": "code",
   "execution_count": 166,
   "id": "11e95301-8f46-40ca-a0be-2bf3e47a898d",
   "metadata": {},
   "outputs": [
    {
     "data": {
      "text/plain": [
       "46224516    924\n",
       "46883536    920\n",
       "46907787    904\n",
       "10196499    901\n",
       "9956119     900\n",
       "           ... \n",
       "5494449     172\n",
       "11844351    172\n",
       "49836027    171\n",
       "176870      161\n",
       "5384616     155\n",
       "Name: Pubchem_ID, Length: 223, dtype: int64"
      ]
     },
     "execution_count": 166,
     "metadata": {},
     "output_type": "execute_result"
    }
   ],
   "source": [
    "# how many unique pubchem IDs? - 223\n",
    "DeepCDR_data['Pubchem_ID'].value_counts()"
   ]
  },
  {
   "cell_type": "code",
   "execution_count": 167,
   "id": "1008529a-26ba-48f0-9a05-9fca06e4aff6",
   "metadata": {},
   "outputs": [
    {
     "data": {
      "text/plain": [
       "223"
      ]
     },
     "execution_count": 167,
     "metadata": {},
     "output_type": "execute_result"
    }
   ],
   "source": [
    "len(DeepCDR_data['Pubchem_ID'].value_counts())"
   ]
  },
  {
   "cell_type": "code",
   "execution_count": 168,
   "id": "c4a5f413-d784-423b-9fe4-cfe3dfb75f7b",
   "metadata": {},
   "outputs": [],
   "source": [
    "# now, I think we can just go ahead and "
   ]
  },
  {
   "cell_type": "code",
   "execution_count": 169,
   "id": "1a318940-1ea3-4147-943e-530980410414",
   "metadata": {},
   "outputs": [],
   "source": [
    "# convert the cell line IDs to a list, this maybe useful when merging the values\n",
    "cell_line_ID_list = DeepCDR_data['Cell_line_ID'].to_list()"
   ]
  },
  {
   "cell_type": "code",
   "execution_count": 170,
   "id": "f9913f69-e8f4-42ce-994e-19582b52e242",
   "metadata": {},
   "outputs": [
    {
     "data": {
      "text/plain": [
       "((561, 808), (561, 697), (561, 34673))"
      ]
     },
     "execution_count": 170,
     "metadata": {},
     "output_type": "execute_result"
    }
   ],
   "source": [
    "# here are the multi-omics data ypes\n",
    "methylation_feature.shape, gexpr_feature.shape, mutation_feature.shape"
   ]
  },
  {
   "cell_type": "code",
   "execution_count": 171,
   "id": "b1e814dd-27e2-428d-8480-72a4df63599e",
   "metadata": {},
   "outputs": [],
   "source": [
    "# For all these datasets the index column is the cell line ID, therefore reset the index"
   ]
  },
  {
   "cell_type": "code",
   "execution_count": 172,
   "id": "ac1d6297-d993-450e-b09a-5e413f282065",
   "metadata": {},
   "outputs": [],
   "source": [
    "methylation_feature_alt = methylation_feature.reset_index()"
   ]
  },
  {
   "cell_type": "code",
   "execution_count": 173,
   "id": "b9b0ab46-d79a-4ded-94cc-1b4067ab42ee",
   "metadata": {},
   "outputs": [],
   "source": [
    "methylation_feature_alt = methylation_feature_alt.rename(columns = {'index': 'Cell_line_ID'})"
   ]
  },
  {
   "cell_type": "code",
   "execution_count": 174,
   "id": "92b9b440-86c1-48c6-95db-2f703398cee6",
   "metadata": {},
   "outputs": [
    {
     "data": {
      "text/html": [
       "<div>\n",
       "<style scoped>\n",
       "    .dataframe tbody tr th:only-of-type {\n",
       "        vertical-align: middle;\n",
       "    }\n",
       "\n",
       "    .dataframe tbody tr th {\n",
       "        vertical-align: top;\n",
       "    }\n",
       "\n",
       "    .dataframe thead th {\n",
       "        text-align: right;\n",
       "    }\n",
       "</style>\n",
       "<table border=\"1\" class=\"dataframe\">\n",
       "  <thead>\n",
       "    <tr style=\"text-align: right;\">\n",
       "      <th></th>\n",
       "      <th>Cell_line_ID</th>\n",
       "      <th>SKI_1_2159133_2160133</th>\n",
       "      <th>TNFRSF14_1_2486803_2487803</th>\n",
       "      <th>PRDM16_1_2984741_2985741</th>\n",
       "      <th>RPL22_1_6259679_6260679</th>\n",
       "      <th>CAMTA1_1_6844383_6845383</th>\n",
       "      <th>MTOR_1_11322608_11323608</th>\n",
       "      <th>PRDM2_1_14025734_14026734</th>\n",
       "      <th>PRDM2_1_14074875_14075875</th>\n",
       "      <th>CASP9_1_15850940_15851940</th>\n",
       "      <th>...</th>\n",
       "      <th>BCORL1_X_129138163_129139163</th>\n",
       "      <th>ELF4_X_129244475_129245475</th>\n",
       "      <th>ELF4_X_129244688_129245688</th>\n",
       "      <th>GPC3_X_133119673_133120673</th>\n",
       "      <th>ATP2B3_X_152800579_152801579</th>\n",
       "      <th>FLNA_X_153603006_153604006</th>\n",
       "      <th>RPL10_X_153625405_153626405</th>\n",
       "      <th>RPL10_X_153625712_153626712</th>\n",
       "      <th>RPL10_X_153625837_153626837</th>\n",
       "      <th>MTCP1_X_154299547_154300547</th>\n",
       "    </tr>\n",
       "  </thead>\n",
       "  <tbody>\n",
       "    <tr>\n",
       "      <th>0</th>\n",
       "      <td>ACH-000698</td>\n",
       "      <td>0.00000</td>\n",
       "      <td>0.00739</td>\n",
       "      <td>0.04799</td>\n",
       "      <td>0.14687</td>\n",
       "      <td>0.00553</td>\n",
       "      <td>0.54138</td>\n",
       "      <td>0.07160</td>\n",
       "      <td>0.00040</td>\n",
       "      <td>0.01836</td>\n",
       "      <td>...</td>\n",
       "      <td>1.00000</td>\n",
       "      <td>0.00000</td>\n",
       "      <td>0.00000</td>\n",
       "      <td>0.020070</td>\n",
       "      <td>0.01706</td>\n",
       "      <td>0.16926</td>\n",
       "      <td>0.00145</td>\n",
       "      <td>0.00242</td>\n",
       "      <td>0.00242</td>\n",
       "      <td>0.01924</td>\n",
       "    </tr>\n",
       "    <tr>\n",
       "      <th>1</th>\n",
       "      <td>ACH-000489</td>\n",
       "      <td>0.00000</td>\n",
       "      <td>0.00363</td>\n",
       "      <td>0.64891</td>\n",
       "      <td>1.00000</td>\n",
       "      <td>0.00538</td>\n",
       "      <td>0.00000</td>\n",
       "      <td>0.00000</td>\n",
       "      <td>0.00000</td>\n",
       "      <td>0.00000</td>\n",
       "      <td>...</td>\n",
       "      <td>1.00000</td>\n",
       "      <td>0.00000</td>\n",
       "      <td>0.00000</td>\n",
       "      <td>0.320580</td>\n",
       "      <td>0.72527</td>\n",
       "      <td>0.37572</td>\n",
       "      <td>0.00000</td>\n",
       "      <td>0.00000</td>\n",
       "      <td>0.00000</td>\n",
       "      <td>0.00000</td>\n",
       "    </tr>\n",
       "    <tr>\n",
       "      <th>2</th>\n",
       "      <td>ACH-000522</td>\n",
       "      <td>0.00143</td>\n",
       "      <td>0.47465</td>\n",
       "      <td>0.27715</td>\n",
       "      <td>0.19441</td>\n",
       "      <td>0.00858</td>\n",
       "      <td>0.40555</td>\n",
       "      <td>0.21625</td>\n",
       "      <td>0.01367</td>\n",
       "      <td>0.00338</td>\n",
       "      <td>...</td>\n",
       "      <td>1.00000</td>\n",
       "      <td>0.18059</td>\n",
       "      <td>0.22562</td>\n",
       "      <td>0.054325</td>\n",
       "      <td>0.60830</td>\n",
       "      <td>0.65268</td>\n",
       "      <td>0.82345</td>\n",
       "      <td>0.59039</td>\n",
       "      <td>0.59039</td>\n",
       "      <td>0.07546</td>\n",
       "    </tr>\n",
       "    <tr>\n",
       "      <th>3</th>\n",
       "      <td>ACH-000613</td>\n",
       "      <td>0.00000</td>\n",
       "      <td>0.00000</td>\n",
       "      <td>0.05112</td>\n",
       "      <td>0.10686</td>\n",
       "      <td>0.00268</td>\n",
       "      <td>0.28618</td>\n",
       "      <td>0.07706</td>\n",
       "      <td>0.00000</td>\n",
       "      <td>0.00000</td>\n",
       "      <td>...</td>\n",
       "      <td>0.01066</td>\n",
       "      <td>0.00000</td>\n",
       "      <td>0.00000</td>\n",
       "      <td>0.010660</td>\n",
       "      <td>0.53086</td>\n",
       "      <td>0.00918</td>\n",
       "      <td>0.00000</td>\n",
       "      <td>0.00448</td>\n",
       "      <td>0.00448</td>\n",
       "      <td>0.00000</td>\n",
       "    </tr>\n",
       "    <tr>\n",
       "      <th>4</th>\n",
       "      <td>ACH-000614</td>\n",
       "      <td>0.00118</td>\n",
       "      <td>0.00471</td>\n",
       "      <td>0.15165</td>\n",
       "      <td>0.07407</td>\n",
       "      <td>0.01050</td>\n",
       "      <td>0.51629</td>\n",
       "      <td>0.03292</td>\n",
       "      <td>0.00405</td>\n",
       "      <td>0.00000</td>\n",
       "      <td>...</td>\n",
       "      <td>1.00000</td>\n",
       "      <td>0.07273</td>\n",
       "      <td>0.07273</td>\n",
       "      <td>0.106990</td>\n",
       "      <td>0.69472</td>\n",
       "      <td>0.28947</td>\n",
       "      <td>0.05354</td>\n",
       "      <td>0.04306</td>\n",
       "      <td>0.04306</td>\n",
       "      <td>0.00114</td>\n",
       "    </tr>\n",
       "  </tbody>\n",
       "</table>\n",
       "<p>5 rows × 809 columns</p>\n",
       "</div>"
      ],
      "text/plain": [
       "  Cell_line_ID  SKI_1_2159133_2160133  TNFRSF14_1_2486803_2487803  \\\n",
       "0   ACH-000698                0.00000                     0.00739   \n",
       "1   ACH-000489                0.00000                     0.00363   \n",
       "2   ACH-000522                0.00143                     0.47465   \n",
       "3   ACH-000613                0.00000                     0.00000   \n",
       "4   ACH-000614                0.00118                     0.00471   \n",
       "\n",
       "   PRDM16_1_2984741_2985741  RPL22_1_6259679_6260679  \\\n",
       "0                   0.04799                  0.14687   \n",
       "1                   0.64891                  1.00000   \n",
       "2                   0.27715                  0.19441   \n",
       "3                   0.05112                  0.10686   \n",
       "4                   0.15165                  0.07407   \n",
       "\n",
       "   CAMTA1_1_6844383_6845383  MTOR_1_11322608_11323608  \\\n",
       "0                   0.00553                   0.54138   \n",
       "1                   0.00538                   0.00000   \n",
       "2                   0.00858                   0.40555   \n",
       "3                   0.00268                   0.28618   \n",
       "4                   0.01050                   0.51629   \n",
       "\n",
       "   PRDM2_1_14025734_14026734  PRDM2_1_14074875_14075875  \\\n",
       "0                    0.07160                    0.00040   \n",
       "1                    0.00000                    0.00000   \n",
       "2                    0.21625                    0.01367   \n",
       "3                    0.07706                    0.00000   \n",
       "4                    0.03292                    0.00405   \n",
       "\n",
       "   CASP9_1_15850940_15851940  ...  BCORL1_X_129138163_129139163  \\\n",
       "0                    0.01836  ...                       1.00000   \n",
       "1                    0.00000  ...                       1.00000   \n",
       "2                    0.00338  ...                       1.00000   \n",
       "3                    0.00000  ...                       0.01066   \n",
       "4                    0.00000  ...                       1.00000   \n",
       "\n",
       "   ELF4_X_129244475_129245475  ELF4_X_129244688_129245688  \\\n",
       "0                     0.00000                     0.00000   \n",
       "1                     0.00000                     0.00000   \n",
       "2                     0.18059                     0.22562   \n",
       "3                     0.00000                     0.00000   \n",
       "4                     0.07273                     0.07273   \n",
       "\n",
       "   GPC3_X_133119673_133120673  ATP2B3_X_152800579_152801579  \\\n",
       "0                    0.020070                       0.01706   \n",
       "1                    0.320580                       0.72527   \n",
       "2                    0.054325                       0.60830   \n",
       "3                    0.010660                       0.53086   \n",
       "4                    0.106990                       0.69472   \n",
       "\n",
       "   FLNA_X_153603006_153604006  RPL10_X_153625405_153626405  \\\n",
       "0                     0.16926                      0.00145   \n",
       "1                     0.37572                      0.00000   \n",
       "2                     0.65268                      0.82345   \n",
       "3                     0.00918                      0.00000   \n",
       "4                     0.28947                      0.05354   \n",
       "\n",
       "   RPL10_X_153625712_153626712  RPL10_X_153625837_153626837  \\\n",
       "0                      0.00242                      0.00242   \n",
       "1                      0.00000                      0.00000   \n",
       "2                      0.59039                      0.59039   \n",
       "3                      0.00448                      0.00448   \n",
       "4                      0.04306                      0.04306   \n",
       "\n",
       "   MTCP1_X_154299547_154300547  \n",
       "0                      0.01924  \n",
       "1                      0.00000  \n",
       "2                      0.07546  \n",
       "3                      0.00000  \n",
       "4                      0.00114  \n",
       "\n",
       "[5 rows x 809 columns]"
      ]
     },
     "execution_count": 174,
     "metadata": {},
     "output_type": "execute_result"
    }
   ],
   "source": [
    "methylation_feature_alt.head()"
   ]
  },
  {
   "cell_type": "code",
   "execution_count": 175,
   "id": "e99f081d-feae-4c98-8300-f7cf41aba55a",
   "metadata": {},
   "outputs": [
    {
     "data": {
      "text/plain": [
       "(561, 809)"
      ]
     },
     "execution_count": 175,
     "metadata": {},
     "output_type": "execute_result"
    }
   ],
   "source": [
    "methylation_feature_alt.shape"
   ]
  },
  {
   "cell_type": "code",
   "execution_count": 176,
   "id": "1a115b9c-a2d0-4765-a8e3-e2c042534721",
   "metadata": {},
   "outputs": [],
   "source": [
    "# add a suffix '_methyl' to all columns in the dataset\n",
    "colnames_with_methyl = [col_name + '_methyl' for col_name in methylation_feature_alt.columns[1:]]\n",
    "cell_line_col = ['Cell_line_ID']"
   ]
  },
  {
   "cell_type": "code",
   "execution_count": 177,
   "id": "eab5128b-10be-4086-8a9c-35f654dd0cc3",
   "metadata": {},
   "outputs": [
    {
     "data": {
      "text/plain": [
       "808"
      ]
     },
     "execution_count": 177,
     "metadata": {},
     "output_type": "execute_result"
    }
   ],
   "source": [
    "len(colnames_with_methyl)"
   ]
  },
  {
   "cell_type": "code",
   "execution_count": 178,
   "id": "d361343c-2d24-41b3-88e8-273921117672",
   "metadata": {},
   "outputs": [],
   "source": [
    "all_methyl_columns = cell_line_col + colnames_with_methyl"
   ]
  },
  {
   "cell_type": "code",
   "execution_count": 179,
   "id": "fe3f6036-deaa-463a-baad-837cd06c7da5",
   "metadata": {},
   "outputs": [],
   "source": [
    "# all_methyl_columns"
   ]
  },
  {
   "cell_type": "code",
   "execution_count": 180,
   "id": "a3ba3af9-12dc-41cc-9008-dcf708b383c3",
   "metadata": {},
   "outputs": [],
   "source": [
    "methylation_feature_alt.columns = all_methyl_columns"
   ]
  },
  {
   "cell_type": "code",
   "execution_count": 181,
   "id": "9a9b5a5d-5910-42c2-969a-0b9bf5970f77",
   "metadata": {},
   "outputs": [
    {
     "data": {
      "text/html": [
       "<div>\n",
       "<style scoped>\n",
       "    .dataframe tbody tr th:only-of-type {\n",
       "        vertical-align: middle;\n",
       "    }\n",
       "\n",
       "    .dataframe tbody tr th {\n",
       "        vertical-align: top;\n",
       "    }\n",
       "\n",
       "    .dataframe thead th {\n",
       "        text-align: right;\n",
       "    }\n",
       "</style>\n",
       "<table border=\"1\" class=\"dataframe\">\n",
       "  <thead>\n",
       "    <tr style=\"text-align: right;\">\n",
       "      <th></th>\n",
       "      <th>Cell_line_ID</th>\n",
       "      <th>SKI_1_2159133_2160133_methyl</th>\n",
       "      <th>TNFRSF14_1_2486803_2487803_methyl</th>\n",
       "      <th>PRDM16_1_2984741_2985741_methyl</th>\n",
       "      <th>RPL22_1_6259679_6260679_methyl</th>\n",
       "      <th>CAMTA1_1_6844383_6845383_methyl</th>\n",
       "      <th>MTOR_1_11322608_11323608_methyl</th>\n",
       "      <th>PRDM2_1_14025734_14026734_methyl</th>\n",
       "      <th>PRDM2_1_14074875_14075875_methyl</th>\n",
       "      <th>CASP9_1_15850940_15851940_methyl</th>\n",
       "      <th>...</th>\n",
       "      <th>BCORL1_X_129138163_129139163_methyl</th>\n",
       "      <th>ELF4_X_129244475_129245475_methyl</th>\n",
       "      <th>ELF4_X_129244688_129245688_methyl</th>\n",
       "      <th>GPC3_X_133119673_133120673_methyl</th>\n",
       "      <th>ATP2B3_X_152800579_152801579_methyl</th>\n",
       "      <th>FLNA_X_153603006_153604006_methyl</th>\n",
       "      <th>RPL10_X_153625405_153626405_methyl</th>\n",
       "      <th>RPL10_X_153625712_153626712_methyl</th>\n",
       "      <th>RPL10_X_153625837_153626837_methyl</th>\n",
       "      <th>MTCP1_X_154299547_154300547_methyl</th>\n",
       "    </tr>\n",
       "  </thead>\n",
       "  <tbody>\n",
       "    <tr>\n",
       "      <th>0</th>\n",
       "      <td>ACH-000698</td>\n",
       "      <td>0.00000</td>\n",
       "      <td>0.00739</td>\n",
       "      <td>0.04799</td>\n",
       "      <td>0.14687</td>\n",
       "      <td>0.00553</td>\n",
       "      <td>0.54138</td>\n",
       "      <td>0.07160</td>\n",
       "      <td>0.00040</td>\n",
       "      <td>0.01836</td>\n",
       "      <td>...</td>\n",
       "      <td>1.00000</td>\n",
       "      <td>0.00000</td>\n",
       "      <td>0.00000</td>\n",
       "      <td>0.020070</td>\n",
       "      <td>0.01706</td>\n",
       "      <td>0.16926</td>\n",
       "      <td>0.00145</td>\n",
       "      <td>0.00242</td>\n",
       "      <td>0.00242</td>\n",
       "      <td>0.01924</td>\n",
       "    </tr>\n",
       "    <tr>\n",
       "      <th>1</th>\n",
       "      <td>ACH-000489</td>\n",
       "      <td>0.00000</td>\n",
       "      <td>0.00363</td>\n",
       "      <td>0.64891</td>\n",
       "      <td>1.00000</td>\n",
       "      <td>0.00538</td>\n",
       "      <td>0.00000</td>\n",
       "      <td>0.00000</td>\n",
       "      <td>0.00000</td>\n",
       "      <td>0.00000</td>\n",
       "      <td>...</td>\n",
       "      <td>1.00000</td>\n",
       "      <td>0.00000</td>\n",
       "      <td>0.00000</td>\n",
       "      <td>0.320580</td>\n",
       "      <td>0.72527</td>\n",
       "      <td>0.37572</td>\n",
       "      <td>0.00000</td>\n",
       "      <td>0.00000</td>\n",
       "      <td>0.00000</td>\n",
       "      <td>0.00000</td>\n",
       "    </tr>\n",
       "    <tr>\n",
       "      <th>2</th>\n",
       "      <td>ACH-000522</td>\n",
       "      <td>0.00143</td>\n",
       "      <td>0.47465</td>\n",
       "      <td>0.27715</td>\n",
       "      <td>0.19441</td>\n",
       "      <td>0.00858</td>\n",
       "      <td>0.40555</td>\n",
       "      <td>0.21625</td>\n",
       "      <td>0.01367</td>\n",
       "      <td>0.00338</td>\n",
       "      <td>...</td>\n",
       "      <td>1.00000</td>\n",
       "      <td>0.18059</td>\n",
       "      <td>0.22562</td>\n",
       "      <td>0.054325</td>\n",
       "      <td>0.60830</td>\n",
       "      <td>0.65268</td>\n",
       "      <td>0.82345</td>\n",
       "      <td>0.59039</td>\n",
       "      <td>0.59039</td>\n",
       "      <td>0.07546</td>\n",
       "    </tr>\n",
       "    <tr>\n",
       "      <th>3</th>\n",
       "      <td>ACH-000613</td>\n",
       "      <td>0.00000</td>\n",
       "      <td>0.00000</td>\n",
       "      <td>0.05112</td>\n",
       "      <td>0.10686</td>\n",
       "      <td>0.00268</td>\n",
       "      <td>0.28618</td>\n",
       "      <td>0.07706</td>\n",
       "      <td>0.00000</td>\n",
       "      <td>0.00000</td>\n",
       "      <td>...</td>\n",
       "      <td>0.01066</td>\n",
       "      <td>0.00000</td>\n",
       "      <td>0.00000</td>\n",
       "      <td>0.010660</td>\n",
       "      <td>0.53086</td>\n",
       "      <td>0.00918</td>\n",
       "      <td>0.00000</td>\n",
       "      <td>0.00448</td>\n",
       "      <td>0.00448</td>\n",
       "      <td>0.00000</td>\n",
       "    </tr>\n",
       "    <tr>\n",
       "      <th>4</th>\n",
       "      <td>ACH-000614</td>\n",
       "      <td>0.00118</td>\n",
       "      <td>0.00471</td>\n",
       "      <td>0.15165</td>\n",
       "      <td>0.07407</td>\n",
       "      <td>0.01050</td>\n",
       "      <td>0.51629</td>\n",
       "      <td>0.03292</td>\n",
       "      <td>0.00405</td>\n",
       "      <td>0.00000</td>\n",
       "      <td>...</td>\n",
       "      <td>1.00000</td>\n",
       "      <td>0.07273</td>\n",
       "      <td>0.07273</td>\n",
       "      <td>0.106990</td>\n",
       "      <td>0.69472</td>\n",
       "      <td>0.28947</td>\n",
       "      <td>0.05354</td>\n",
       "      <td>0.04306</td>\n",
       "      <td>0.04306</td>\n",
       "      <td>0.00114</td>\n",
       "    </tr>\n",
       "  </tbody>\n",
       "</table>\n",
       "<p>5 rows × 809 columns</p>\n",
       "</div>"
      ],
      "text/plain": [
       "  Cell_line_ID  SKI_1_2159133_2160133_methyl  \\\n",
       "0   ACH-000698                       0.00000   \n",
       "1   ACH-000489                       0.00000   \n",
       "2   ACH-000522                       0.00143   \n",
       "3   ACH-000613                       0.00000   \n",
       "4   ACH-000614                       0.00118   \n",
       "\n",
       "   TNFRSF14_1_2486803_2487803_methyl  PRDM16_1_2984741_2985741_methyl  \\\n",
       "0                            0.00739                          0.04799   \n",
       "1                            0.00363                          0.64891   \n",
       "2                            0.47465                          0.27715   \n",
       "3                            0.00000                          0.05112   \n",
       "4                            0.00471                          0.15165   \n",
       "\n",
       "   RPL22_1_6259679_6260679_methyl  CAMTA1_1_6844383_6845383_methyl  \\\n",
       "0                         0.14687                          0.00553   \n",
       "1                         1.00000                          0.00538   \n",
       "2                         0.19441                          0.00858   \n",
       "3                         0.10686                          0.00268   \n",
       "4                         0.07407                          0.01050   \n",
       "\n",
       "   MTOR_1_11322608_11323608_methyl  PRDM2_1_14025734_14026734_methyl  \\\n",
       "0                          0.54138                           0.07160   \n",
       "1                          0.00000                           0.00000   \n",
       "2                          0.40555                           0.21625   \n",
       "3                          0.28618                           0.07706   \n",
       "4                          0.51629                           0.03292   \n",
       "\n",
       "   PRDM2_1_14074875_14075875_methyl  CASP9_1_15850940_15851940_methyl  ...  \\\n",
       "0                           0.00040                           0.01836  ...   \n",
       "1                           0.00000                           0.00000  ...   \n",
       "2                           0.01367                           0.00338  ...   \n",
       "3                           0.00000                           0.00000  ...   \n",
       "4                           0.00405                           0.00000  ...   \n",
       "\n",
       "   BCORL1_X_129138163_129139163_methyl  ELF4_X_129244475_129245475_methyl  \\\n",
       "0                              1.00000                            0.00000   \n",
       "1                              1.00000                            0.00000   \n",
       "2                              1.00000                            0.18059   \n",
       "3                              0.01066                            0.00000   \n",
       "4                              1.00000                            0.07273   \n",
       "\n",
       "   ELF4_X_129244688_129245688_methyl  GPC3_X_133119673_133120673_methyl  \\\n",
       "0                            0.00000                           0.020070   \n",
       "1                            0.00000                           0.320580   \n",
       "2                            0.22562                           0.054325   \n",
       "3                            0.00000                           0.010660   \n",
       "4                            0.07273                           0.106990   \n",
       "\n",
       "   ATP2B3_X_152800579_152801579_methyl  FLNA_X_153603006_153604006_methyl  \\\n",
       "0                              0.01706                            0.16926   \n",
       "1                              0.72527                            0.37572   \n",
       "2                              0.60830                            0.65268   \n",
       "3                              0.53086                            0.00918   \n",
       "4                              0.69472                            0.28947   \n",
       "\n",
       "   RPL10_X_153625405_153626405_methyl  RPL10_X_153625712_153626712_methyl  \\\n",
       "0                             0.00145                             0.00242   \n",
       "1                             0.00000                             0.00000   \n",
       "2                             0.82345                             0.59039   \n",
       "3                             0.00000                             0.00448   \n",
       "4                             0.05354                             0.04306   \n",
       "\n",
       "   RPL10_X_153625837_153626837_methyl  MTCP1_X_154299547_154300547_methyl  \n",
       "0                             0.00242                             0.01924  \n",
       "1                             0.00000                             0.00000  \n",
       "2                             0.59039                             0.07546  \n",
       "3                             0.00448                             0.00000  \n",
       "4                             0.04306                             0.00114  \n",
       "\n",
       "[5 rows x 809 columns]"
      ]
     },
     "execution_count": 181,
     "metadata": {},
     "output_type": "execute_result"
    }
   ],
   "source": [
    "methylation_feature_alt.head()"
   ]
  },
  {
   "cell_type": "code",
   "execution_count": 182,
   "id": "72fc301b-a60c-4753-9bc0-7c14eb47a9e7",
   "metadata": {},
   "outputs": [],
   "source": [
    "# maybe do the same for the other two datasets, then merge these three together, and the merge with the main dataset at the end\n"
   ]
  },
  {
   "cell_type": "code",
   "execution_count": 183,
   "id": "a77f2421-5bf4-4727-800d-b48b60d4716d",
   "metadata": {},
   "outputs": [],
   "source": [
    "gexpr_feature_alt = gexpr_feature.reset_index()"
   ]
  },
  {
   "cell_type": "code",
   "execution_count": 184,
   "id": "25c0df97-37b1-4543-bb80-d6a1e82da6f6",
   "metadata": {},
   "outputs": [],
   "source": [
    "gexpr_feature_alt = gexpr_feature_alt.rename(columns = {'index': 'Cell_line_ID'})"
   ]
  },
  {
   "cell_type": "code",
   "execution_count": 185,
   "id": "11a18555-5c34-4321-8ecd-a27cf9543a60",
   "metadata": {},
   "outputs": [
    {
     "data": {
      "text/html": [
       "<div>\n",
       "<style scoped>\n",
       "    .dataframe tbody tr th:only-of-type {\n",
       "        vertical-align: middle;\n",
       "    }\n",
       "\n",
       "    .dataframe tbody tr th {\n",
       "        vertical-align: top;\n",
       "    }\n",
       "\n",
       "    .dataframe thead th {\n",
       "        text-align: right;\n",
       "    }\n",
       "</style>\n",
       "<table border=\"1\" class=\"dataframe\">\n",
       "  <thead>\n",
       "    <tr style=\"text-align: right;\">\n",
       "      <th></th>\n",
       "      <th>Cell_line_ID</th>\n",
       "      <th>LASP1</th>\n",
       "      <th>HOXA11</th>\n",
       "      <th>CREBBP</th>\n",
       "      <th>ETV1</th>\n",
       "      <th>GAS7</th>\n",
       "      <th>CD79B</th>\n",
       "      <th>PAX7</th>\n",
       "      <th>BTK</th>\n",
       "      <th>BRCA1</th>\n",
       "      <th>...</th>\n",
       "      <th>NCKIPSD</th>\n",
       "      <th>MTCP1</th>\n",
       "      <th>DDX3X</th>\n",
       "      <th>FANCG</th>\n",
       "      <th>SSX2</th>\n",
       "      <th>ETV5</th>\n",
       "      <th>CEBPA</th>\n",
       "      <th>LSM14A</th>\n",
       "      <th>CUX1</th>\n",
       "      <th>C15orf65</th>\n",
       "    </tr>\n",
       "  </thead>\n",
       "  <tbody>\n",
       "    <tr>\n",
       "      <th>0</th>\n",
       "      <td>ACH-000828</td>\n",
       "      <td>9.393476</td>\n",
       "      <td>0.042644</td>\n",
       "      <td>3.935460</td>\n",
       "      <td>0.871844</td>\n",
       "      <td>0.070389</td>\n",
       "      <td>0.084064</td>\n",
       "      <td>0.000000</td>\n",
       "      <td>0.056584</td>\n",
       "      <td>3.339137</td>\n",
       "      <td>...</td>\n",
       "      <td>4.071248</td>\n",
       "      <td>3.119356</td>\n",
       "      <td>6.849374</td>\n",
       "      <td>4.355439</td>\n",
       "      <td>0.000000</td>\n",
       "      <td>0.137504</td>\n",
       "      <td>1.769772</td>\n",
       "      <td>6.501598</td>\n",
       "      <td>4.700994</td>\n",
       "      <td>2.295723</td>\n",
       "    </tr>\n",
       "    <tr>\n",
       "      <th>1</th>\n",
       "      <td>ACH-000568</td>\n",
       "      <td>7.638074</td>\n",
       "      <td>0.056584</td>\n",
       "      <td>3.427606</td>\n",
       "      <td>0.201634</td>\n",
       "      <td>1.794936</td>\n",
       "      <td>0.739848</td>\n",
       "      <td>0.042644</td>\n",
       "      <td>0.333424</td>\n",
       "      <td>3.193772</td>\n",
       "      <td>...</td>\n",
       "      <td>4.084064</td>\n",
       "      <td>4.634593</td>\n",
       "      <td>5.671576</td>\n",
       "      <td>5.525443</td>\n",
       "      <td>0.056584</td>\n",
       "      <td>2.195348</td>\n",
       "      <td>0.124328</td>\n",
       "      <td>5.811214</td>\n",
       "      <td>3.590961</td>\n",
       "      <td>1.550901</td>\n",
       "    </tr>\n",
       "    <tr>\n",
       "      <th>2</th>\n",
       "      <td>ACH-000560</td>\n",
       "      <td>5.728193</td>\n",
       "      <td>6.001352</td>\n",
       "      <td>5.032542</td>\n",
       "      <td>5.018812</td>\n",
       "      <td>0.432959</td>\n",
       "      <td>0.250962</td>\n",
       "      <td>0.000000</td>\n",
       "      <td>0.263034</td>\n",
       "      <td>4.678635</td>\n",
       "      <td>...</td>\n",
       "      <td>5.057450</td>\n",
       "      <td>3.468583</td>\n",
       "      <td>6.617798</td>\n",
       "      <td>6.425761</td>\n",
       "      <td>0.000000</td>\n",
       "      <td>5.203201</td>\n",
       "      <td>1.922198</td>\n",
       "      <td>7.581351</td>\n",
       "      <td>5.320124</td>\n",
       "      <td>1.438293</td>\n",
       "    </tr>\n",
       "    <tr>\n",
       "      <th>3</th>\n",
       "      <td>ACH-000561</td>\n",
       "      <td>6.037163</td>\n",
       "      <td>1.565597</td>\n",
       "      <td>4.262283</td>\n",
       "      <td>0.790772</td>\n",
       "      <td>1.257011</td>\n",
       "      <td>0.028569</td>\n",
       "      <td>0.056584</td>\n",
       "      <td>0.042644</td>\n",
       "      <td>3.442280</td>\n",
       "      <td>...</td>\n",
       "      <td>3.400538</td>\n",
       "      <td>3.407353</td>\n",
       "      <td>6.154211</td>\n",
       "      <td>4.794936</td>\n",
       "      <td>0.000000</td>\n",
       "      <td>3.984589</td>\n",
       "      <td>1.028569</td>\n",
       "      <td>6.533719</td>\n",
       "      <td>5.132166</td>\n",
       "      <td>2.144046</td>\n",
       "    </tr>\n",
       "    <tr>\n",
       "      <th>4</th>\n",
       "      <td>ACH-000562</td>\n",
       "      <td>7.050502</td>\n",
       "      <td>0.014355</td>\n",
       "      <td>3.360364</td>\n",
       "      <td>0.879706</td>\n",
       "      <td>0.084064</td>\n",
       "      <td>0.137504</td>\n",
       "      <td>0.000000</td>\n",
       "      <td>0.042644</td>\n",
       "      <td>4.939227</td>\n",
       "      <td>...</td>\n",
       "      <td>4.125982</td>\n",
       "      <td>4.047015</td>\n",
       "      <td>6.281884</td>\n",
       "      <td>5.853497</td>\n",
       "      <td>0.056584</td>\n",
       "      <td>3.757023</td>\n",
       "      <td>0.056584</td>\n",
       "      <td>5.912171</td>\n",
       "      <td>4.877744</td>\n",
       "      <td>0.815575</td>\n",
       "    </tr>\n",
       "  </tbody>\n",
       "</table>\n",
       "<p>5 rows × 698 columns</p>\n",
       "</div>"
      ],
      "text/plain": [
       "  Cell_line_ID     LASP1    HOXA11    CREBBP      ETV1      GAS7     CD79B  \\\n",
       "0   ACH-000828  9.393476  0.042644  3.935460  0.871844  0.070389  0.084064   \n",
       "1   ACH-000568  7.638074  0.056584  3.427606  0.201634  1.794936  0.739848   \n",
       "2   ACH-000560  5.728193  6.001352  5.032542  5.018812  0.432959  0.250962   \n",
       "3   ACH-000561  6.037163  1.565597  4.262283  0.790772  1.257011  0.028569   \n",
       "4   ACH-000562  7.050502  0.014355  3.360364  0.879706  0.084064  0.137504   \n",
       "\n",
       "       PAX7       BTK     BRCA1  ...   NCKIPSD     MTCP1     DDX3X     FANCG  \\\n",
       "0  0.000000  0.056584  3.339137  ...  4.071248  3.119356  6.849374  4.355439   \n",
       "1  0.042644  0.333424  3.193772  ...  4.084064  4.634593  5.671576  5.525443   \n",
       "2  0.000000  0.263034  4.678635  ...  5.057450  3.468583  6.617798  6.425761   \n",
       "3  0.056584  0.042644  3.442280  ...  3.400538  3.407353  6.154211  4.794936   \n",
       "4  0.000000  0.042644  4.939227  ...  4.125982  4.047015  6.281884  5.853497   \n",
       "\n",
       "       SSX2      ETV5     CEBPA    LSM14A      CUX1  C15orf65  \n",
       "0  0.000000  0.137504  1.769772  6.501598  4.700994  2.295723  \n",
       "1  0.056584  2.195348  0.124328  5.811214  3.590961  1.550901  \n",
       "2  0.000000  5.203201  1.922198  7.581351  5.320124  1.438293  \n",
       "3  0.000000  3.984589  1.028569  6.533719  5.132166  2.144046  \n",
       "4  0.056584  3.757023  0.056584  5.912171  4.877744  0.815575  \n",
       "\n",
       "[5 rows x 698 columns]"
      ]
     },
     "execution_count": 185,
     "metadata": {},
     "output_type": "execute_result"
    }
   ],
   "source": [
    "gexpr_feature_alt.head()"
   ]
  },
  {
   "cell_type": "code",
   "execution_count": 186,
   "id": "b98bbf3e-f33c-4e35-af1c-c59613707d81",
   "metadata": {},
   "outputs": [],
   "source": [
    "# add a suffix '_gexpr' to all columns in the dataset\n",
    "colnames_with_expression = [col_name + '_gexpr' for col_name in gexpr_feature_alt.columns[1:]]\n",
    "cell_line_col_expr = ['Cell_line_ID']"
   ]
  },
  {
   "cell_type": "code",
   "execution_count": 187,
   "id": "3701c91d-6f70-40dd-a593-044bd029c694",
   "metadata": {},
   "outputs": [],
   "source": [
    "all_gexpr_cols = cell_line_col_expr + colnames_with_expression"
   ]
  },
  {
   "cell_type": "code",
   "execution_count": 188,
   "id": "989dfa18-3d3b-4592-a379-fc04fadcf2b0",
   "metadata": {},
   "outputs": [
    {
     "data": {
      "text/plain": [
       "698"
      ]
     },
     "execution_count": 188,
     "metadata": {},
     "output_type": "execute_result"
    }
   ],
   "source": [
    "len(all_gexpr_cols)"
   ]
  },
  {
   "cell_type": "code",
   "execution_count": 189,
   "id": "cf8fc3c0-2389-4b46-98a2-d1a62ec070f4",
   "metadata": {},
   "outputs": [],
   "source": [
    "gexpr_feature_alt.columns = all_gexpr_cols"
   ]
  },
  {
   "cell_type": "code",
   "execution_count": 190,
   "id": "cf78c68c-da26-4538-b3c8-355804bb0a13",
   "metadata": {},
   "outputs": [
    {
     "data": {
      "text/html": [
       "<div>\n",
       "<style scoped>\n",
       "    .dataframe tbody tr th:only-of-type {\n",
       "        vertical-align: middle;\n",
       "    }\n",
       "\n",
       "    .dataframe tbody tr th {\n",
       "        vertical-align: top;\n",
       "    }\n",
       "\n",
       "    .dataframe thead th {\n",
       "        text-align: right;\n",
       "    }\n",
       "</style>\n",
       "<table border=\"1\" class=\"dataframe\">\n",
       "  <thead>\n",
       "    <tr style=\"text-align: right;\">\n",
       "      <th></th>\n",
       "      <th>Cell_line_ID</th>\n",
       "      <th>LASP1_gexpr</th>\n",
       "      <th>HOXA11_gexpr</th>\n",
       "      <th>CREBBP_gexpr</th>\n",
       "      <th>ETV1_gexpr</th>\n",
       "      <th>GAS7_gexpr</th>\n",
       "      <th>CD79B_gexpr</th>\n",
       "      <th>PAX7_gexpr</th>\n",
       "      <th>BTK_gexpr</th>\n",
       "      <th>BRCA1_gexpr</th>\n",
       "      <th>...</th>\n",
       "      <th>NCKIPSD_gexpr</th>\n",
       "      <th>MTCP1_gexpr</th>\n",
       "      <th>DDX3X_gexpr</th>\n",
       "      <th>FANCG_gexpr</th>\n",
       "      <th>SSX2_gexpr</th>\n",
       "      <th>ETV5_gexpr</th>\n",
       "      <th>CEBPA_gexpr</th>\n",
       "      <th>LSM14A_gexpr</th>\n",
       "      <th>CUX1_gexpr</th>\n",
       "      <th>C15orf65_gexpr</th>\n",
       "    </tr>\n",
       "  </thead>\n",
       "  <tbody>\n",
       "    <tr>\n",
       "      <th>0</th>\n",
       "      <td>ACH-000828</td>\n",
       "      <td>9.393476</td>\n",
       "      <td>0.042644</td>\n",
       "      <td>3.935460</td>\n",
       "      <td>0.871844</td>\n",
       "      <td>0.070389</td>\n",
       "      <td>0.084064</td>\n",
       "      <td>0.000000</td>\n",
       "      <td>0.056584</td>\n",
       "      <td>3.339137</td>\n",
       "      <td>...</td>\n",
       "      <td>4.071248</td>\n",
       "      <td>3.119356</td>\n",
       "      <td>6.849374</td>\n",
       "      <td>4.355439</td>\n",
       "      <td>0.000000</td>\n",
       "      <td>0.137504</td>\n",
       "      <td>1.769772</td>\n",
       "      <td>6.501598</td>\n",
       "      <td>4.700994</td>\n",
       "      <td>2.295723</td>\n",
       "    </tr>\n",
       "    <tr>\n",
       "      <th>1</th>\n",
       "      <td>ACH-000568</td>\n",
       "      <td>7.638074</td>\n",
       "      <td>0.056584</td>\n",
       "      <td>3.427606</td>\n",
       "      <td>0.201634</td>\n",
       "      <td>1.794936</td>\n",
       "      <td>0.739848</td>\n",
       "      <td>0.042644</td>\n",
       "      <td>0.333424</td>\n",
       "      <td>3.193772</td>\n",
       "      <td>...</td>\n",
       "      <td>4.084064</td>\n",
       "      <td>4.634593</td>\n",
       "      <td>5.671576</td>\n",
       "      <td>5.525443</td>\n",
       "      <td>0.056584</td>\n",
       "      <td>2.195348</td>\n",
       "      <td>0.124328</td>\n",
       "      <td>5.811214</td>\n",
       "      <td>3.590961</td>\n",
       "      <td>1.550901</td>\n",
       "    </tr>\n",
       "    <tr>\n",
       "      <th>2</th>\n",
       "      <td>ACH-000560</td>\n",
       "      <td>5.728193</td>\n",
       "      <td>6.001352</td>\n",
       "      <td>5.032542</td>\n",
       "      <td>5.018812</td>\n",
       "      <td>0.432959</td>\n",
       "      <td>0.250962</td>\n",
       "      <td>0.000000</td>\n",
       "      <td>0.263034</td>\n",
       "      <td>4.678635</td>\n",
       "      <td>...</td>\n",
       "      <td>5.057450</td>\n",
       "      <td>3.468583</td>\n",
       "      <td>6.617798</td>\n",
       "      <td>6.425761</td>\n",
       "      <td>0.000000</td>\n",
       "      <td>5.203201</td>\n",
       "      <td>1.922198</td>\n",
       "      <td>7.581351</td>\n",
       "      <td>5.320124</td>\n",
       "      <td>1.438293</td>\n",
       "    </tr>\n",
       "    <tr>\n",
       "      <th>3</th>\n",
       "      <td>ACH-000561</td>\n",
       "      <td>6.037163</td>\n",
       "      <td>1.565597</td>\n",
       "      <td>4.262283</td>\n",
       "      <td>0.790772</td>\n",
       "      <td>1.257011</td>\n",
       "      <td>0.028569</td>\n",
       "      <td>0.056584</td>\n",
       "      <td>0.042644</td>\n",
       "      <td>3.442280</td>\n",
       "      <td>...</td>\n",
       "      <td>3.400538</td>\n",
       "      <td>3.407353</td>\n",
       "      <td>6.154211</td>\n",
       "      <td>4.794936</td>\n",
       "      <td>0.000000</td>\n",
       "      <td>3.984589</td>\n",
       "      <td>1.028569</td>\n",
       "      <td>6.533719</td>\n",
       "      <td>5.132166</td>\n",
       "      <td>2.144046</td>\n",
       "    </tr>\n",
       "    <tr>\n",
       "      <th>4</th>\n",
       "      <td>ACH-000562</td>\n",
       "      <td>7.050502</td>\n",
       "      <td>0.014355</td>\n",
       "      <td>3.360364</td>\n",
       "      <td>0.879706</td>\n",
       "      <td>0.084064</td>\n",
       "      <td>0.137504</td>\n",
       "      <td>0.000000</td>\n",
       "      <td>0.042644</td>\n",
       "      <td>4.939227</td>\n",
       "      <td>...</td>\n",
       "      <td>4.125982</td>\n",
       "      <td>4.047015</td>\n",
       "      <td>6.281884</td>\n",
       "      <td>5.853497</td>\n",
       "      <td>0.056584</td>\n",
       "      <td>3.757023</td>\n",
       "      <td>0.056584</td>\n",
       "      <td>5.912171</td>\n",
       "      <td>4.877744</td>\n",
       "      <td>0.815575</td>\n",
       "    </tr>\n",
       "    <tr>\n",
       "      <th>...</th>\n",
       "      <td>...</td>\n",
       "      <td>...</td>\n",
       "      <td>...</td>\n",
       "      <td>...</td>\n",
       "      <td>...</td>\n",
       "      <td>...</td>\n",
       "      <td>...</td>\n",
       "      <td>...</td>\n",
       "      <td>...</td>\n",
       "      <td>...</td>\n",
       "      <td>...</td>\n",
       "      <td>...</td>\n",
       "      <td>...</td>\n",
       "      <td>...</td>\n",
       "      <td>...</td>\n",
       "      <td>...</td>\n",
       "      <td>...</td>\n",
       "      <td>...</td>\n",
       "      <td>...</td>\n",
       "      <td>...</td>\n",
       "      <td>...</td>\n",
       "    </tr>\n",
       "    <tr>\n",
       "      <th>556</th>\n",
       "      <td>ACH-000242</td>\n",
       "      <td>7.052568</td>\n",
       "      <td>3.094236</td>\n",
       "      <td>3.340562</td>\n",
       "      <td>0.250962</td>\n",
       "      <td>0.097611</td>\n",
       "      <td>0.189034</td>\n",
       "      <td>0.000000</td>\n",
       "      <td>0.344828</td>\n",
       "      <td>4.794416</td>\n",
       "      <td>...</td>\n",
       "      <td>3.933573</td>\n",
       "      <td>3.305971</td>\n",
       "      <td>7.456313</td>\n",
       "      <td>5.276497</td>\n",
       "      <td>0.056584</td>\n",
       "      <td>2.817623</td>\n",
       "      <td>1.722466</td>\n",
       "      <td>6.445429</td>\n",
       "      <td>5.136684</td>\n",
       "      <td>0.137504</td>\n",
       "    </tr>\n",
       "    <tr>\n",
       "      <th>557</th>\n",
       "      <td>ACH-000245</td>\n",
       "      <td>5.543496</td>\n",
       "      <td>0.028569</td>\n",
       "      <td>4.438958</td>\n",
       "      <td>0.137504</td>\n",
       "      <td>0.070389</td>\n",
       "      <td>9.429867</td>\n",
       "      <td>0.000000</td>\n",
       "      <td>6.449726</td>\n",
       "      <td>5.584361</td>\n",
       "      <td>...</td>\n",
       "      <td>2.769772</td>\n",
       "      <td>4.072963</td>\n",
       "      <td>6.863195</td>\n",
       "      <td>5.285402</td>\n",
       "      <td>0.000000</td>\n",
       "      <td>0.097611</td>\n",
       "      <td>0.000000</td>\n",
       "      <td>7.263222</td>\n",
       "      <td>6.094025</td>\n",
       "      <td>0.632268</td>\n",
       "    </tr>\n",
       "    <tr>\n",
       "      <th>558</th>\n",
       "      <td>ACH-000244</td>\n",
       "      <td>7.407098</td>\n",
       "      <td>2.650765</td>\n",
       "      <td>2.893362</td>\n",
       "      <td>4.918386</td>\n",
       "      <td>0.176323</td>\n",
       "      <td>0.056584</td>\n",
       "      <td>0.014355</td>\n",
       "      <td>0.042644</td>\n",
       "      <td>4.448901</td>\n",
       "      <td>...</td>\n",
       "      <td>4.146492</td>\n",
       "      <td>4.007196</td>\n",
       "      <td>7.645010</td>\n",
       "      <td>3.724650</td>\n",
       "      <td>0.000000</td>\n",
       "      <td>5.080231</td>\n",
       "      <td>0.097611</td>\n",
       "      <td>6.511595</td>\n",
       "      <td>5.846744</td>\n",
       "      <td>3.046142</td>\n",
       "    </tr>\n",
       "    <tr>\n",
       "      <th>559</th>\n",
       "      <td>ACH-000247</td>\n",
       "      <td>6.735251</td>\n",
       "      <td>2.899176</td>\n",
       "      <td>4.381975</td>\n",
       "      <td>0.400538</td>\n",
       "      <td>0.070389</td>\n",
       "      <td>0.150560</td>\n",
       "      <td>0.000000</td>\n",
       "      <td>0.028569</td>\n",
       "      <td>4.104337</td>\n",
       "      <td>...</td>\n",
       "      <td>4.138323</td>\n",
       "      <td>3.713696</td>\n",
       "      <td>7.293793</td>\n",
       "      <td>4.537296</td>\n",
       "      <td>0.097611</td>\n",
       "      <td>3.179511</td>\n",
       "      <td>0.659925</td>\n",
       "      <td>5.928370</td>\n",
       "      <td>4.685940</td>\n",
       "      <td>0.604071</td>\n",
       "    </tr>\n",
       "    <tr>\n",
       "      <th>560</th>\n",
       "      <td>ACH-000369</td>\n",
       "      <td>6.078311</td>\n",
       "      <td>0.879706</td>\n",
       "      <td>3.705978</td>\n",
       "      <td>0.356144</td>\n",
       "      <td>0.028569</td>\n",
       "      <td>1.682573</td>\n",
       "      <td>0.028569</td>\n",
       "      <td>7.062640</td>\n",
       "      <td>4.643856</td>\n",
       "      <td>...</td>\n",
       "      <td>3.626439</td>\n",
       "      <td>3.008989</td>\n",
       "      <td>7.669594</td>\n",
       "      <td>5.509379</td>\n",
       "      <td>0.000000</td>\n",
       "      <td>3.005400</td>\n",
       "      <td>0.070389</td>\n",
       "      <td>7.626512</td>\n",
       "      <td>5.408372</td>\n",
       "      <td>1.163499</td>\n",
       "    </tr>\n",
       "  </tbody>\n",
       "</table>\n",
       "<p>561 rows × 698 columns</p>\n",
       "</div>"
      ],
      "text/plain": [
       "    Cell_line_ID  LASP1_gexpr  HOXA11_gexpr  CREBBP_gexpr  ETV1_gexpr  \\\n",
       "0     ACH-000828     9.393476      0.042644      3.935460    0.871844   \n",
       "1     ACH-000568     7.638074      0.056584      3.427606    0.201634   \n",
       "2     ACH-000560     5.728193      6.001352      5.032542    5.018812   \n",
       "3     ACH-000561     6.037163      1.565597      4.262283    0.790772   \n",
       "4     ACH-000562     7.050502      0.014355      3.360364    0.879706   \n",
       "..           ...          ...           ...           ...         ...   \n",
       "556   ACH-000242     7.052568      3.094236      3.340562    0.250962   \n",
       "557   ACH-000245     5.543496      0.028569      4.438958    0.137504   \n",
       "558   ACH-000244     7.407098      2.650765      2.893362    4.918386   \n",
       "559   ACH-000247     6.735251      2.899176      4.381975    0.400538   \n",
       "560   ACH-000369     6.078311      0.879706      3.705978    0.356144   \n",
       "\n",
       "     GAS7_gexpr  CD79B_gexpr  PAX7_gexpr  BTK_gexpr  BRCA1_gexpr  ...  \\\n",
       "0      0.070389     0.084064    0.000000   0.056584     3.339137  ...   \n",
       "1      1.794936     0.739848    0.042644   0.333424     3.193772  ...   \n",
       "2      0.432959     0.250962    0.000000   0.263034     4.678635  ...   \n",
       "3      1.257011     0.028569    0.056584   0.042644     3.442280  ...   \n",
       "4      0.084064     0.137504    0.000000   0.042644     4.939227  ...   \n",
       "..          ...          ...         ...        ...          ...  ...   \n",
       "556    0.097611     0.189034    0.000000   0.344828     4.794416  ...   \n",
       "557    0.070389     9.429867    0.000000   6.449726     5.584361  ...   \n",
       "558    0.176323     0.056584    0.014355   0.042644     4.448901  ...   \n",
       "559    0.070389     0.150560    0.000000   0.028569     4.104337  ...   \n",
       "560    0.028569     1.682573    0.028569   7.062640     4.643856  ...   \n",
       "\n",
       "     NCKIPSD_gexpr  MTCP1_gexpr  DDX3X_gexpr  FANCG_gexpr  SSX2_gexpr  \\\n",
       "0         4.071248     3.119356     6.849374     4.355439    0.000000   \n",
       "1         4.084064     4.634593     5.671576     5.525443    0.056584   \n",
       "2         5.057450     3.468583     6.617798     6.425761    0.000000   \n",
       "3         3.400538     3.407353     6.154211     4.794936    0.000000   \n",
       "4         4.125982     4.047015     6.281884     5.853497    0.056584   \n",
       "..             ...          ...          ...          ...         ...   \n",
       "556       3.933573     3.305971     7.456313     5.276497    0.056584   \n",
       "557       2.769772     4.072963     6.863195     5.285402    0.000000   \n",
       "558       4.146492     4.007196     7.645010     3.724650    0.000000   \n",
       "559       4.138323     3.713696     7.293793     4.537296    0.097611   \n",
       "560       3.626439     3.008989     7.669594     5.509379    0.000000   \n",
       "\n",
       "     ETV5_gexpr  CEBPA_gexpr  LSM14A_gexpr  CUX1_gexpr  C15orf65_gexpr  \n",
       "0      0.137504     1.769772      6.501598    4.700994        2.295723  \n",
       "1      2.195348     0.124328      5.811214    3.590961        1.550901  \n",
       "2      5.203201     1.922198      7.581351    5.320124        1.438293  \n",
       "3      3.984589     1.028569      6.533719    5.132166        2.144046  \n",
       "4      3.757023     0.056584      5.912171    4.877744        0.815575  \n",
       "..          ...          ...           ...         ...             ...  \n",
       "556    2.817623     1.722466      6.445429    5.136684        0.137504  \n",
       "557    0.097611     0.000000      7.263222    6.094025        0.632268  \n",
       "558    5.080231     0.097611      6.511595    5.846744        3.046142  \n",
       "559    3.179511     0.659925      5.928370    4.685940        0.604071  \n",
       "560    3.005400     0.070389      7.626512    5.408372        1.163499  \n",
       "\n",
       "[561 rows x 698 columns]"
      ]
     },
     "execution_count": 190,
     "metadata": {},
     "output_type": "execute_result"
    }
   ],
   "source": [
    "gexpr_feature_alt"
   ]
  },
  {
   "cell_type": "code",
   "execution_count": 191,
   "id": "0555778c-d23b-4b20-ac81-cbea2737f748",
   "metadata": {},
   "outputs": [
    {
     "data": {
      "text/plain": [
       "(561, 698)"
      ]
     },
     "execution_count": 191,
     "metadata": {},
     "output_type": "execute_result"
    }
   ],
   "source": [
    "gexpr_feature_alt.shape"
   ]
  },
  {
   "cell_type": "code",
   "execution_count": 192,
   "id": "f0f6e000-e8ef-4c0f-904e-f3cc074155df",
   "metadata": {},
   "outputs": [],
   "source": [
    "# merge these two dataset: a simple merge should work"
   ]
  },
  {
   "cell_type": "code",
   "execution_count": 193,
   "id": "fae8c4ac-b91e-4ea3-a643-079fda372b5f",
   "metadata": {},
   "outputs": [],
   "source": [
    "# methylation and expression data\n",
    "methylation_and_expr_omics = pd.merge(gexpr_feature_alt, methylation_feature_alt, on = \"Cell_line_ID\")"
   ]
  },
  {
   "cell_type": "code",
   "execution_count": 194,
   "id": "779206cf-5e71-4a48-a4b0-e2283c3c4073",
   "metadata": {},
   "outputs": [
    {
     "data": {
      "text/html": [
       "<div>\n",
       "<style scoped>\n",
       "    .dataframe tbody tr th:only-of-type {\n",
       "        vertical-align: middle;\n",
       "    }\n",
       "\n",
       "    .dataframe tbody tr th {\n",
       "        vertical-align: top;\n",
       "    }\n",
       "\n",
       "    .dataframe thead th {\n",
       "        text-align: right;\n",
       "    }\n",
       "</style>\n",
       "<table border=\"1\" class=\"dataframe\">\n",
       "  <thead>\n",
       "    <tr style=\"text-align: right;\">\n",
       "      <th></th>\n",
       "      <th>Cell_line_ID</th>\n",
       "      <th>LASP1_gexpr</th>\n",
       "      <th>HOXA11_gexpr</th>\n",
       "      <th>CREBBP_gexpr</th>\n",
       "      <th>ETV1_gexpr</th>\n",
       "      <th>GAS7_gexpr</th>\n",
       "      <th>CD79B_gexpr</th>\n",
       "      <th>PAX7_gexpr</th>\n",
       "      <th>BTK_gexpr</th>\n",
       "      <th>BRCA1_gexpr</th>\n",
       "      <th>...</th>\n",
       "      <th>BCORL1_X_129138163_129139163_methyl</th>\n",
       "      <th>ELF4_X_129244475_129245475_methyl</th>\n",
       "      <th>ELF4_X_129244688_129245688_methyl</th>\n",
       "      <th>GPC3_X_133119673_133120673_methyl</th>\n",
       "      <th>ATP2B3_X_152800579_152801579_methyl</th>\n",
       "      <th>FLNA_X_153603006_153604006_methyl</th>\n",
       "      <th>RPL10_X_153625405_153626405_methyl</th>\n",
       "      <th>RPL10_X_153625712_153626712_methyl</th>\n",
       "      <th>RPL10_X_153625837_153626837_methyl</th>\n",
       "      <th>MTCP1_X_154299547_154300547_methyl</th>\n",
       "    </tr>\n",
       "  </thead>\n",
       "  <tbody>\n",
       "    <tr>\n",
       "      <th>0</th>\n",
       "      <td>ACH-000828</td>\n",
       "      <td>9.393476</td>\n",
       "      <td>0.042644</td>\n",
       "      <td>3.935460</td>\n",
       "      <td>0.871844</td>\n",
       "      <td>0.070389</td>\n",
       "      <td>0.084064</td>\n",
       "      <td>0.000000</td>\n",
       "      <td>0.056584</td>\n",
       "      <td>3.339137</td>\n",
       "      <td>...</td>\n",
       "      <td>0.52380</td>\n",
       "      <td>0.42795</td>\n",
       "      <td>0.44552</td>\n",
       "      <td>0.23272</td>\n",
       "      <td>0.89944</td>\n",
       "      <td>0.48437</td>\n",
       "      <td>0.24661</td>\n",
       "      <td>0.40100</td>\n",
       "      <td>0.40100</td>\n",
       "      <td>0.36501</td>\n",
       "    </tr>\n",
       "    <tr>\n",
       "      <th>1</th>\n",
       "      <td>ACH-000568</td>\n",
       "      <td>7.638074</td>\n",
       "      <td>0.056584</td>\n",
       "      <td>3.427606</td>\n",
       "      <td>0.201634</td>\n",
       "      <td>1.794936</td>\n",
       "      <td>0.739848</td>\n",
       "      <td>0.042644</td>\n",
       "      <td>0.333424</td>\n",
       "      <td>3.193772</td>\n",
       "      <td>...</td>\n",
       "      <td>1.00000</td>\n",
       "      <td>0.36655</td>\n",
       "      <td>0.38361</td>\n",
       "      <td>0.43452</td>\n",
       "      <td>0.88145</td>\n",
       "      <td>0.59839</td>\n",
       "      <td>0.26581</td>\n",
       "      <td>0.30444</td>\n",
       "      <td>0.30444</td>\n",
       "      <td>0.29221</td>\n",
       "    </tr>\n",
       "    <tr>\n",
       "      <th>2</th>\n",
       "      <td>ACH-000560</td>\n",
       "      <td>5.728193</td>\n",
       "      <td>6.001352</td>\n",
       "      <td>5.032542</td>\n",
       "      <td>5.018812</td>\n",
       "      <td>0.432959</td>\n",
       "      <td>0.250962</td>\n",
       "      <td>0.000000</td>\n",
       "      <td>0.263034</td>\n",
       "      <td>4.678635</td>\n",
       "      <td>...</td>\n",
       "      <td>0.77780</td>\n",
       "      <td>0.30563</td>\n",
       "      <td>0.33570</td>\n",
       "      <td>0.00000</td>\n",
       "      <td>0.97660</td>\n",
       "      <td>0.12141</td>\n",
       "      <td>0.01751</td>\n",
       "      <td>0.01245</td>\n",
       "      <td>0.01245</td>\n",
       "      <td>0.02566</td>\n",
       "    </tr>\n",
       "    <tr>\n",
       "      <th>3</th>\n",
       "      <td>ACH-000561</td>\n",
       "      <td>6.037163</td>\n",
       "      <td>1.565597</td>\n",
       "      <td>4.262283</td>\n",
       "      <td>0.790772</td>\n",
       "      <td>1.257011</td>\n",
       "      <td>0.028569</td>\n",
       "      <td>0.056584</td>\n",
       "      <td>0.042644</td>\n",
       "      <td>3.442280</td>\n",
       "      <td>...</td>\n",
       "      <td>1.00000</td>\n",
       "      <td>0.02078</td>\n",
       "      <td>0.03214</td>\n",
       "      <td>0.01360</td>\n",
       "      <td>0.70737</td>\n",
       "      <td>0.02890</td>\n",
       "      <td>0.00117</td>\n",
       "      <td>0.00069</td>\n",
       "      <td>0.00069</td>\n",
       "      <td>0.01714</td>\n",
       "    </tr>\n",
       "    <tr>\n",
       "      <th>4</th>\n",
       "      <td>ACH-000562</td>\n",
       "      <td>7.050502</td>\n",
       "      <td>0.014355</td>\n",
       "      <td>3.360364</td>\n",
       "      <td>0.879706</td>\n",
       "      <td>0.084064</td>\n",
       "      <td>0.137504</td>\n",
       "      <td>0.000000</td>\n",
       "      <td>0.042644</td>\n",
       "      <td>4.939227</td>\n",
       "      <td>...</td>\n",
       "      <td>0.00553</td>\n",
       "      <td>0.00000</td>\n",
       "      <td>0.00000</td>\n",
       "      <td>0.28401</td>\n",
       "      <td>0.61728</td>\n",
       "      <td>0.34487</td>\n",
       "      <td>0.00222</td>\n",
       "      <td>0.00162</td>\n",
       "      <td>0.00162</td>\n",
       "      <td>0.00000</td>\n",
       "    </tr>\n",
       "  </tbody>\n",
       "</table>\n",
       "<p>5 rows × 1506 columns</p>\n",
       "</div>"
      ],
      "text/plain": [
       "  Cell_line_ID  LASP1_gexpr  HOXA11_gexpr  CREBBP_gexpr  ETV1_gexpr  \\\n",
       "0   ACH-000828     9.393476      0.042644      3.935460    0.871844   \n",
       "1   ACH-000568     7.638074      0.056584      3.427606    0.201634   \n",
       "2   ACH-000560     5.728193      6.001352      5.032542    5.018812   \n",
       "3   ACH-000561     6.037163      1.565597      4.262283    0.790772   \n",
       "4   ACH-000562     7.050502      0.014355      3.360364    0.879706   \n",
       "\n",
       "   GAS7_gexpr  CD79B_gexpr  PAX7_gexpr  BTK_gexpr  BRCA1_gexpr  ...  \\\n",
       "0    0.070389     0.084064    0.000000   0.056584     3.339137  ...   \n",
       "1    1.794936     0.739848    0.042644   0.333424     3.193772  ...   \n",
       "2    0.432959     0.250962    0.000000   0.263034     4.678635  ...   \n",
       "3    1.257011     0.028569    0.056584   0.042644     3.442280  ...   \n",
       "4    0.084064     0.137504    0.000000   0.042644     4.939227  ...   \n",
       "\n",
       "   BCORL1_X_129138163_129139163_methyl  ELF4_X_129244475_129245475_methyl  \\\n",
       "0                              0.52380                            0.42795   \n",
       "1                              1.00000                            0.36655   \n",
       "2                              0.77780                            0.30563   \n",
       "3                              1.00000                            0.02078   \n",
       "4                              0.00553                            0.00000   \n",
       "\n",
       "   ELF4_X_129244688_129245688_methyl  GPC3_X_133119673_133120673_methyl  \\\n",
       "0                            0.44552                            0.23272   \n",
       "1                            0.38361                            0.43452   \n",
       "2                            0.33570                            0.00000   \n",
       "3                            0.03214                            0.01360   \n",
       "4                            0.00000                            0.28401   \n",
       "\n",
       "   ATP2B3_X_152800579_152801579_methyl  FLNA_X_153603006_153604006_methyl  \\\n",
       "0                              0.89944                            0.48437   \n",
       "1                              0.88145                            0.59839   \n",
       "2                              0.97660                            0.12141   \n",
       "3                              0.70737                            0.02890   \n",
       "4                              0.61728                            0.34487   \n",
       "\n",
       "   RPL10_X_153625405_153626405_methyl  RPL10_X_153625712_153626712_methyl  \\\n",
       "0                             0.24661                             0.40100   \n",
       "1                             0.26581                             0.30444   \n",
       "2                             0.01751                             0.01245   \n",
       "3                             0.00117                             0.00069   \n",
       "4                             0.00222                             0.00162   \n",
       "\n",
       "   RPL10_X_153625837_153626837_methyl  MTCP1_X_154299547_154300547_methyl  \n",
       "0                             0.40100                             0.36501  \n",
       "1                             0.30444                             0.29221  \n",
       "2                             0.01245                             0.02566  \n",
       "3                             0.00069                             0.01714  \n",
       "4                             0.00162                             0.00000  \n",
       "\n",
       "[5 rows x 1506 columns]"
      ]
     },
     "execution_count": 194,
     "metadata": {},
     "output_type": "execute_result"
    }
   ],
   "source": [
    "methylation_and_expr_omics.head()"
   ]
  },
  {
   "cell_type": "code",
   "execution_count": 195,
   "id": "ba65b545-d663-46d8-abfc-a271574e41f5",
   "metadata": {},
   "outputs": [
    {
     "data": {
      "text/plain": [
       "(561, 1506)"
      ]
     },
     "execution_count": 195,
     "metadata": {},
     "output_type": "execute_result"
    }
   ],
   "source": [
    "methylation_and_expr_omics.shape"
   ]
  },
  {
   "cell_type": "code",
   "execution_count": 196,
   "id": "cb72a656-b0c9-4a4c-b5e6-5bc011ceb844",
   "metadata": {},
   "outputs": [],
   "source": [
    "# 808+697+1"
   ]
  },
  {
   "cell_type": "code",
   "execution_count": 197,
   "id": "78a70426-e228-40f8-af97-0f5dace70b1d",
   "metadata": {},
   "outputs": [
    {
     "data": {
      "text/plain": [
       "561"
      ]
     },
     "execution_count": 197,
     "metadata": {},
     "output_type": "execute_result"
    }
   ],
   "source": [
    "# sanity check\n",
    "gexpr_cell_lines = gexpr_feature_alt['Cell_line_ID'].to_list()\n",
    "methyl_cell_lines = methylation_feature_alt['Cell_line_ID'].to_list()\n",
    "\n",
    "# Find the intersection using set\n",
    "intersection = list(set(gexpr_cell_lines) & set(gexpr_cell_lines))\n",
    "len(intersection)"
   ]
  },
  {
   "cell_type": "code",
   "execution_count": 198,
   "id": "afa3f286-17aa-4a8c-8f93-2848bb16b678",
   "metadata": {},
   "outputs": [
    {
     "data": {
      "text/html": [
       "<div>\n",
       "<style scoped>\n",
       "    .dataframe tbody tr th:only-of-type {\n",
       "        vertical-align: middle;\n",
       "    }\n",
       "\n",
       "    .dataframe tbody tr th {\n",
       "        vertical-align: top;\n",
       "    }\n",
       "\n",
       "    .dataframe thead th {\n",
       "        text-align: right;\n",
       "    }\n",
       "</style>\n",
       "<table border=\"1\" class=\"dataframe\">\n",
       "  <thead>\n",
       "    <tr style=\"text-align: right;\">\n",
       "      <th></th>\n",
       "      <th>Cell_line_ID</th>\n",
       "      <th>LASP1_gexpr</th>\n",
       "      <th>HOXA11_gexpr</th>\n",
       "      <th>CREBBP_gexpr</th>\n",
       "      <th>ETV1_gexpr</th>\n",
       "      <th>GAS7_gexpr</th>\n",
       "      <th>CD79B_gexpr</th>\n",
       "      <th>PAX7_gexpr</th>\n",
       "      <th>BTK_gexpr</th>\n",
       "      <th>BRCA1_gexpr</th>\n",
       "      <th>...</th>\n",
       "      <th>NCKIPSD_gexpr</th>\n",
       "      <th>MTCP1_gexpr</th>\n",
       "      <th>DDX3X_gexpr</th>\n",
       "      <th>FANCG_gexpr</th>\n",
       "      <th>SSX2_gexpr</th>\n",
       "      <th>ETV5_gexpr</th>\n",
       "      <th>CEBPA_gexpr</th>\n",
       "      <th>LSM14A_gexpr</th>\n",
       "      <th>CUX1_gexpr</th>\n",
       "      <th>C15orf65_gexpr</th>\n",
       "    </tr>\n",
       "  </thead>\n",
       "  <tbody>\n",
       "    <tr>\n",
       "      <th>4</th>\n",
       "      <td>ACH-000562</td>\n",
       "      <td>7.050502</td>\n",
       "      <td>0.014355</td>\n",
       "      <td>3.360364</td>\n",
       "      <td>0.879706</td>\n",
       "      <td>0.084064</td>\n",
       "      <td>0.137504</td>\n",
       "      <td>0.0</td>\n",
       "      <td>0.042644</td>\n",
       "      <td>4.939227</td>\n",
       "      <td>...</td>\n",
       "      <td>4.125982</td>\n",
       "      <td>4.047015</td>\n",
       "      <td>6.281884</td>\n",
       "      <td>5.853497</td>\n",
       "      <td>0.056584</td>\n",
       "      <td>3.757023</td>\n",
       "      <td>0.056584</td>\n",
       "      <td>5.912171</td>\n",
       "      <td>4.877744</td>\n",
       "      <td>0.815575</td>\n",
       "    </tr>\n",
       "  </tbody>\n",
       "</table>\n",
       "<p>1 rows × 698 columns</p>\n",
       "</div>"
      ],
      "text/plain": [
       "  Cell_line_ID  LASP1_gexpr  HOXA11_gexpr  CREBBP_gexpr  ETV1_gexpr  \\\n",
       "4   ACH-000562     7.050502      0.014355      3.360364    0.879706   \n",
       "\n",
       "   GAS7_gexpr  CD79B_gexpr  PAX7_gexpr  BTK_gexpr  BRCA1_gexpr  ...  \\\n",
       "4    0.084064     0.137504         0.0   0.042644     4.939227  ...   \n",
       "\n",
       "   NCKIPSD_gexpr  MTCP1_gexpr  DDX3X_gexpr  FANCG_gexpr  SSX2_gexpr  \\\n",
       "4       4.125982     4.047015     6.281884     5.853497    0.056584   \n",
       "\n",
       "   ETV5_gexpr  CEBPA_gexpr  LSM14A_gexpr  CUX1_gexpr  C15orf65_gexpr  \n",
       "4    3.757023     0.056584      5.912171    4.877744        0.815575  \n",
       "\n",
       "[1 rows x 698 columns]"
      ]
     },
     "execution_count": 198,
     "metadata": {},
     "output_type": "execute_result"
    }
   ],
   "source": [
    "# more sanity checks\n",
    "gexpr_feature_alt[gexpr_feature_alt['Cell_line_ID'] == 'ACH-000562']"
   ]
  },
  {
   "cell_type": "code",
   "execution_count": 199,
   "id": "938345b9-8aae-42d9-89ef-a475cd8fb6a7",
   "metadata": {},
   "outputs": [
    {
     "data": {
      "text/html": [
       "<div>\n",
       "<style scoped>\n",
       "    .dataframe tbody tr th:only-of-type {\n",
       "        vertical-align: middle;\n",
       "    }\n",
       "\n",
       "    .dataframe tbody tr th {\n",
       "        vertical-align: top;\n",
       "    }\n",
       "\n",
       "    .dataframe thead th {\n",
       "        text-align: right;\n",
       "    }\n",
       "</style>\n",
       "<table border=\"1\" class=\"dataframe\">\n",
       "  <thead>\n",
       "    <tr style=\"text-align: right;\">\n",
       "      <th></th>\n",
       "      <th>Cell_line_ID</th>\n",
       "      <th>SKI_1_2159133_2160133_methyl</th>\n",
       "      <th>TNFRSF14_1_2486803_2487803_methyl</th>\n",
       "      <th>PRDM16_1_2984741_2985741_methyl</th>\n",
       "      <th>RPL22_1_6259679_6260679_methyl</th>\n",
       "      <th>CAMTA1_1_6844383_6845383_methyl</th>\n",
       "      <th>MTOR_1_11322608_11323608_methyl</th>\n",
       "      <th>PRDM2_1_14025734_14026734_methyl</th>\n",
       "      <th>PRDM2_1_14074875_14075875_methyl</th>\n",
       "      <th>CASP9_1_15850940_15851940_methyl</th>\n",
       "      <th>...</th>\n",
       "      <th>BCORL1_X_129138163_129139163_methyl</th>\n",
       "      <th>ELF4_X_129244475_129245475_methyl</th>\n",
       "      <th>ELF4_X_129244688_129245688_methyl</th>\n",
       "      <th>GPC3_X_133119673_133120673_methyl</th>\n",
       "      <th>ATP2B3_X_152800579_152801579_methyl</th>\n",
       "      <th>FLNA_X_153603006_153604006_methyl</th>\n",
       "      <th>RPL10_X_153625405_153626405_methyl</th>\n",
       "      <th>RPL10_X_153625712_153626712_methyl</th>\n",
       "      <th>RPL10_X_153625837_153626837_methyl</th>\n",
       "      <th>MTCP1_X_154299547_154300547_methyl</th>\n",
       "    </tr>\n",
       "  </thead>\n",
       "  <tbody>\n",
       "    <tr>\n",
       "      <th>369</th>\n",
       "      <td>ACH-000562</td>\n",
       "      <td>0.0</td>\n",
       "      <td>0.02586</td>\n",
       "      <td>0.07884</td>\n",
       "      <td>0.19531</td>\n",
       "      <td>0.0</td>\n",
       "      <td>0.0</td>\n",
       "      <td>0.08649</td>\n",
       "      <td>0.0</td>\n",
       "      <td>0.0</td>\n",
       "      <td>...</td>\n",
       "      <td>0.00553</td>\n",
       "      <td>0.0</td>\n",
       "      <td>0.0</td>\n",
       "      <td>0.28401</td>\n",
       "      <td>0.61728</td>\n",
       "      <td>0.34487</td>\n",
       "      <td>0.00222</td>\n",
       "      <td>0.00162</td>\n",
       "      <td>0.00162</td>\n",
       "      <td>0.0</td>\n",
       "    </tr>\n",
       "  </tbody>\n",
       "</table>\n",
       "<p>1 rows × 809 columns</p>\n",
       "</div>"
      ],
      "text/plain": [
       "    Cell_line_ID  SKI_1_2159133_2160133_methyl  \\\n",
       "369   ACH-000562                           0.0   \n",
       "\n",
       "     TNFRSF14_1_2486803_2487803_methyl  PRDM16_1_2984741_2985741_methyl  \\\n",
       "369                            0.02586                          0.07884   \n",
       "\n",
       "     RPL22_1_6259679_6260679_methyl  CAMTA1_1_6844383_6845383_methyl  \\\n",
       "369                         0.19531                              0.0   \n",
       "\n",
       "     MTOR_1_11322608_11323608_methyl  PRDM2_1_14025734_14026734_methyl  \\\n",
       "369                              0.0                           0.08649   \n",
       "\n",
       "     PRDM2_1_14074875_14075875_methyl  CASP9_1_15850940_15851940_methyl  ...  \\\n",
       "369                               0.0                               0.0  ...   \n",
       "\n",
       "     BCORL1_X_129138163_129139163_methyl  ELF4_X_129244475_129245475_methyl  \\\n",
       "369                              0.00553                                0.0   \n",
       "\n",
       "     ELF4_X_129244688_129245688_methyl  GPC3_X_133119673_133120673_methyl  \\\n",
       "369                                0.0                            0.28401   \n",
       "\n",
       "     ATP2B3_X_152800579_152801579_methyl  FLNA_X_153603006_153604006_methyl  \\\n",
       "369                              0.61728                            0.34487   \n",
       "\n",
       "     RPL10_X_153625405_153626405_methyl  RPL10_X_153625712_153626712_methyl  \\\n",
       "369                             0.00222                             0.00162   \n",
       "\n",
       "     RPL10_X_153625837_153626837_methyl  MTCP1_X_154299547_154300547_methyl  \n",
       "369                             0.00162                                 0.0  \n",
       "\n",
       "[1 rows x 809 columns]"
      ]
     },
     "execution_count": 199,
     "metadata": {},
     "output_type": "execute_result"
    }
   ],
   "source": [
    "methylation_feature_alt[methylation_feature_alt['Cell_line_ID'] == 'ACH-000562']"
   ]
  },
  {
   "cell_type": "code",
   "execution_count": 200,
   "id": "2f440789-3a00-4b1f-9b53-2b84fe9057c5",
   "metadata": {},
   "outputs": [],
   "source": [
    "# Do the same for mutation data\n",
    "mutation_feature_alt = mutation_feature.reset_index()"
   ]
  },
  {
   "cell_type": "code",
   "execution_count": 201,
   "id": "4012d1ad-b84d-4b0d-9de9-fb066bd1f4ef",
   "metadata": {},
   "outputs": [],
   "source": [
    "mutation_feature_alt = mutation_feature_alt.rename(columns = {'index': 'Cell_line_ID'})"
   ]
  },
  {
   "cell_type": "code",
   "execution_count": 202,
   "id": "c9193d5f-d140-47b8-9be2-37ff453eff1f",
   "metadata": {},
   "outputs": [
    {
     "data": {
      "text/html": [
       "<div>\n",
       "<style scoped>\n",
       "    .dataframe tbody tr th:only-of-type {\n",
       "        vertical-align: middle;\n",
       "    }\n",
       "\n",
       "    .dataframe tbody tr th {\n",
       "        vertical-align: top;\n",
       "    }\n",
       "\n",
       "    .dataframe thead th {\n",
       "        text-align: right;\n",
       "    }\n",
       "</style>\n",
       "<table border=\"1\" class=\"dataframe\">\n",
       "  <thead>\n",
       "    <tr style=\"text-align: right;\">\n",
       "      <th></th>\n",
       "      <th>Cell_line_ID</th>\n",
       "      <th>TNFRSF14.1:2488170</th>\n",
       "      <th>TNFRSF14.1:2489805</th>\n",
       "      <th>TNFRSF14.1:2489824</th>\n",
       "      <th>TNFRSF14.1:2489856</th>\n",
       "      <th>TNFRSF14.1:2489868</th>\n",
       "      <th>TNFRSF14.1:2491328</th>\n",
       "      <th>TNFRSF14.1:2491335</th>\n",
       "      <th>TNFRSF14.1:2491373</th>\n",
       "      <th>TNFRSF14.1:2491403</th>\n",
       "      <th>...</th>\n",
       "      <th>MTCP1.23:154293902</th>\n",
       "      <th>MTCP1.23:154293909</th>\n",
       "      <th>MTCP1.23:154293951</th>\n",
       "      <th>MTCP1.23:154293978</th>\n",
       "      <th>MTCP1.23:154294034</th>\n",
       "      <th>MTCP1.23:154294203</th>\n",
       "      <th>MTCP1.23:154294207</th>\n",
       "      <th>MTCP1.23:154294278</th>\n",
       "      <th>MTCP1.23:154294279</th>\n",
       "      <th>MTCP1.23:154298967</th>\n",
       "    </tr>\n",
       "  </thead>\n",
       "  <tbody>\n",
       "    <tr>\n",
       "      <th>0</th>\n",
       "      <td>ACH-000828</td>\n",
       "      <td>0</td>\n",
       "      <td>0</td>\n",
       "      <td>0</td>\n",
       "      <td>0</td>\n",
       "      <td>0</td>\n",
       "      <td>0</td>\n",
       "      <td>0</td>\n",
       "      <td>0</td>\n",
       "      <td>0</td>\n",
       "      <td>...</td>\n",
       "      <td>0</td>\n",
       "      <td>0</td>\n",
       "      <td>0</td>\n",
       "      <td>0</td>\n",
       "      <td>0</td>\n",
       "      <td>0</td>\n",
       "      <td>0</td>\n",
       "      <td>0</td>\n",
       "      <td>0</td>\n",
       "      <td>0</td>\n",
       "    </tr>\n",
       "    <tr>\n",
       "      <th>1</th>\n",
       "      <td>ACH-000568</td>\n",
       "      <td>0</td>\n",
       "      <td>0</td>\n",
       "      <td>0</td>\n",
       "      <td>0</td>\n",
       "      <td>0</td>\n",
       "      <td>0</td>\n",
       "      <td>0</td>\n",
       "      <td>0</td>\n",
       "      <td>0</td>\n",
       "      <td>...</td>\n",
       "      <td>0</td>\n",
       "      <td>0</td>\n",
       "      <td>0</td>\n",
       "      <td>0</td>\n",
       "      <td>0</td>\n",
       "      <td>0</td>\n",
       "      <td>0</td>\n",
       "      <td>0</td>\n",
       "      <td>0</td>\n",
       "      <td>0</td>\n",
       "    </tr>\n",
       "    <tr>\n",
       "      <th>2</th>\n",
       "      <td>ACH-000560</td>\n",
       "      <td>0</td>\n",
       "      <td>0</td>\n",
       "      <td>0</td>\n",
       "      <td>0</td>\n",
       "      <td>0</td>\n",
       "      <td>0</td>\n",
       "      <td>0</td>\n",
       "      <td>0</td>\n",
       "      <td>0</td>\n",
       "      <td>...</td>\n",
       "      <td>0</td>\n",
       "      <td>0</td>\n",
       "      <td>0</td>\n",
       "      <td>0</td>\n",
       "      <td>0</td>\n",
       "      <td>0</td>\n",
       "      <td>0</td>\n",
       "      <td>0</td>\n",
       "      <td>0</td>\n",
       "      <td>0</td>\n",
       "    </tr>\n",
       "    <tr>\n",
       "      <th>3</th>\n",
       "      <td>ACH-000561</td>\n",
       "      <td>0</td>\n",
       "      <td>0</td>\n",
       "      <td>0</td>\n",
       "      <td>0</td>\n",
       "      <td>0</td>\n",
       "      <td>0</td>\n",
       "      <td>0</td>\n",
       "      <td>0</td>\n",
       "      <td>0</td>\n",
       "      <td>...</td>\n",
       "      <td>0</td>\n",
       "      <td>0</td>\n",
       "      <td>0</td>\n",
       "      <td>0</td>\n",
       "      <td>0</td>\n",
       "      <td>0</td>\n",
       "      <td>0</td>\n",
       "      <td>0</td>\n",
       "      <td>0</td>\n",
       "      <td>0</td>\n",
       "    </tr>\n",
       "    <tr>\n",
       "      <th>4</th>\n",
       "      <td>ACH-000562</td>\n",
       "      <td>0</td>\n",
       "      <td>0</td>\n",
       "      <td>0</td>\n",
       "      <td>0</td>\n",
       "      <td>0</td>\n",
       "      <td>0</td>\n",
       "      <td>0</td>\n",
       "      <td>0</td>\n",
       "      <td>0</td>\n",
       "      <td>...</td>\n",
       "      <td>0</td>\n",
       "      <td>0</td>\n",
       "      <td>0</td>\n",
       "      <td>0</td>\n",
       "      <td>0</td>\n",
       "      <td>0</td>\n",
       "      <td>0</td>\n",
       "      <td>0</td>\n",
       "      <td>0</td>\n",
       "      <td>0</td>\n",
       "    </tr>\n",
       "  </tbody>\n",
       "</table>\n",
       "<p>5 rows × 34674 columns</p>\n",
       "</div>"
      ],
      "text/plain": [
       "  Cell_line_ID  TNFRSF14.1:2488170  TNFRSF14.1:2489805  TNFRSF14.1:2489824  \\\n",
       "0   ACH-000828                   0                   0                   0   \n",
       "1   ACH-000568                   0                   0                   0   \n",
       "2   ACH-000560                   0                   0                   0   \n",
       "3   ACH-000561                   0                   0                   0   \n",
       "4   ACH-000562                   0                   0                   0   \n",
       "\n",
       "   TNFRSF14.1:2489856  TNFRSF14.1:2489868  TNFRSF14.1:2491328  \\\n",
       "0                   0                   0                   0   \n",
       "1                   0                   0                   0   \n",
       "2                   0                   0                   0   \n",
       "3                   0                   0                   0   \n",
       "4                   0                   0                   0   \n",
       "\n",
       "   TNFRSF14.1:2491335  TNFRSF14.1:2491373  TNFRSF14.1:2491403  ...  \\\n",
       "0                   0                   0                   0  ...   \n",
       "1                   0                   0                   0  ...   \n",
       "2                   0                   0                   0  ...   \n",
       "3                   0                   0                   0  ...   \n",
       "4                   0                   0                   0  ...   \n",
       "\n",
       "   MTCP1.23:154293902  MTCP1.23:154293909  MTCP1.23:154293951  \\\n",
       "0                   0                   0                   0   \n",
       "1                   0                   0                   0   \n",
       "2                   0                   0                   0   \n",
       "3                   0                   0                   0   \n",
       "4                   0                   0                   0   \n",
       "\n",
       "   MTCP1.23:154293978  MTCP1.23:154294034  MTCP1.23:154294203  \\\n",
       "0                   0                   0                   0   \n",
       "1                   0                   0                   0   \n",
       "2                   0                   0                   0   \n",
       "3                   0                   0                   0   \n",
       "4                   0                   0                   0   \n",
       "\n",
       "   MTCP1.23:154294207  MTCP1.23:154294278  MTCP1.23:154294279  \\\n",
       "0                   0                   0                   0   \n",
       "1                   0                   0                   0   \n",
       "2                   0                   0                   0   \n",
       "3                   0                   0                   0   \n",
       "4                   0                   0                   0   \n",
       "\n",
       "   MTCP1.23:154298967  \n",
       "0                   0  \n",
       "1                   0  \n",
       "2                   0  \n",
       "3                   0  \n",
       "4                   0  \n",
       "\n",
       "[5 rows x 34674 columns]"
      ]
     },
     "execution_count": 202,
     "metadata": {},
     "output_type": "execute_result"
    }
   ],
   "source": [
    "mutation_feature_alt.head()"
   ]
  },
  {
   "cell_type": "code",
   "execution_count": 203,
   "id": "30896afb-d0e8-47d5-a76b-88084e3aa2b1",
   "metadata": {},
   "outputs": [
    {
     "data": {
      "text/plain": [
       "(561, 34674)"
      ]
     },
     "execution_count": 203,
     "metadata": {},
     "output_type": "execute_result"
    }
   ],
   "source": [
    "mutation_feature_alt.shape"
   ]
  },
  {
   "cell_type": "code",
   "execution_count": 204,
   "id": "e68da63f-1cc2-4d11-9f3c-3ef9a31b8cb3",
   "metadata": {},
   "outputs": [],
   "source": [
    "# add a suffix '_gexpr' to all columns in the dataset\n",
    "colnames_with_mutation = [col_name + '_mut' for col_name in mutation_feature_alt.columns[1:]]\n",
    "cell_line_col_mutation = ['Cell_line_ID']"
   ]
  },
  {
   "cell_type": "code",
   "execution_count": 205,
   "id": "03bb01d8-33eb-49cc-b595-0c6f1f820fe7",
   "metadata": {},
   "outputs": [],
   "source": [
    "all_mutation_cols = cell_line_col_mutation + colnames_with_mutation"
   ]
  },
  {
   "cell_type": "code",
   "execution_count": 206,
   "id": "658c37d7-244b-46d9-aeea-5ac37ef7c2ac",
   "metadata": {},
   "outputs": [
    {
     "data": {
      "text/plain": [
       "34674"
      ]
     },
     "execution_count": 206,
     "metadata": {},
     "output_type": "execute_result"
    }
   ],
   "source": [
    "len(all_mutation_cols)"
   ]
  },
  {
   "cell_type": "code",
   "execution_count": 207,
   "id": "2c6d077f-3103-4b56-9019-3bd3f32545d0",
   "metadata": {},
   "outputs": [],
   "source": [
    "mutation_feature_alt.columns = all_mutation_cols"
   ]
  },
  {
   "cell_type": "code",
   "execution_count": 208,
   "id": "60066867-19a6-4aa0-a897-450759d56d5b",
   "metadata": {},
   "outputs": [
    {
     "data": {
      "text/html": [
       "<div>\n",
       "<style scoped>\n",
       "    .dataframe tbody tr th:only-of-type {\n",
       "        vertical-align: middle;\n",
       "    }\n",
       "\n",
       "    .dataframe tbody tr th {\n",
       "        vertical-align: top;\n",
       "    }\n",
       "\n",
       "    .dataframe thead th {\n",
       "        text-align: right;\n",
       "    }\n",
       "</style>\n",
       "<table border=\"1\" class=\"dataframe\">\n",
       "  <thead>\n",
       "    <tr style=\"text-align: right;\">\n",
       "      <th></th>\n",
       "      <th>Cell_line_ID</th>\n",
       "      <th>TNFRSF14.1:2488170_mut</th>\n",
       "      <th>TNFRSF14.1:2489805_mut</th>\n",
       "      <th>TNFRSF14.1:2489824_mut</th>\n",
       "      <th>TNFRSF14.1:2489856_mut</th>\n",
       "      <th>TNFRSF14.1:2489868_mut</th>\n",
       "      <th>TNFRSF14.1:2491328_mut</th>\n",
       "      <th>TNFRSF14.1:2491335_mut</th>\n",
       "      <th>TNFRSF14.1:2491373_mut</th>\n",
       "      <th>TNFRSF14.1:2491403_mut</th>\n",
       "      <th>...</th>\n",
       "      <th>MTCP1.23:154293902_mut</th>\n",
       "      <th>MTCP1.23:154293909_mut</th>\n",
       "      <th>MTCP1.23:154293951_mut</th>\n",
       "      <th>MTCP1.23:154293978_mut</th>\n",
       "      <th>MTCP1.23:154294034_mut</th>\n",
       "      <th>MTCP1.23:154294203_mut</th>\n",
       "      <th>MTCP1.23:154294207_mut</th>\n",
       "      <th>MTCP1.23:154294278_mut</th>\n",
       "      <th>MTCP1.23:154294279_mut</th>\n",
       "      <th>MTCP1.23:154298967_mut</th>\n",
       "    </tr>\n",
       "  </thead>\n",
       "  <tbody>\n",
       "    <tr>\n",
       "      <th>0</th>\n",
       "      <td>ACH-000828</td>\n",
       "      <td>0</td>\n",
       "      <td>0</td>\n",
       "      <td>0</td>\n",
       "      <td>0</td>\n",
       "      <td>0</td>\n",
       "      <td>0</td>\n",
       "      <td>0</td>\n",
       "      <td>0</td>\n",
       "      <td>0</td>\n",
       "      <td>...</td>\n",
       "      <td>0</td>\n",
       "      <td>0</td>\n",
       "      <td>0</td>\n",
       "      <td>0</td>\n",
       "      <td>0</td>\n",
       "      <td>0</td>\n",
       "      <td>0</td>\n",
       "      <td>0</td>\n",
       "      <td>0</td>\n",
       "      <td>0</td>\n",
       "    </tr>\n",
       "    <tr>\n",
       "      <th>1</th>\n",
       "      <td>ACH-000568</td>\n",
       "      <td>0</td>\n",
       "      <td>0</td>\n",
       "      <td>0</td>\n",
       "      <td>0</td>\n",
       "      <td>0</td>\n",
       "      <td>0</td>\n",
       "      <td>0</td>\n",
       "      <td>0</td>\n",
       "      <td>0</td>\n",
       "      <td>...</td>\n",
       "      <td>0</td>\n",
       "      <td>0</td>\n",
       "      <td>0</td>\n",
       "      <td>0</td>\n",
       "      <td>0</td>\n",
       "      <td>0</td>\n",
       "      <td>0</td>\n",
       "      <td>0</td>\n",
       "      <td>0</td>\n",
       "      <td>0</td>\n",
       "    </tr>\n",
       "    <tr>\n",
       "      <th>2</th>\n",
       "      <td>ACH-000560</td>\n",
       "      <td>0</td>\n",
       "      <td>0</td>\n",
       "      <td>0</td>\n",
       "      <td>0</td>\n",
       "      <td>0</td>\n",
       "      <td>0</td>\n",
       "      <td>0</td>\n",
       "      <td>0</td>\n",
       "      <td>0</td>\n",
       "      <td>...</td>\n",
       "      <td>0</td>\n",
       "      <td>0</td>\n",
       "      <td>0</td>\n",
       "      <td>0</td>\n",
       "      <td>0</td>\n",
       "      <td>0</td>\n",
       "      <td>0</td>\n",
       "      <td>0</td>\n",
       "      <td>0</td>\n",
       "      <td>0</td>\n",
       "    </tr>\n",
       "    <tr>\n",
       "      <th>3</th>\n",
       "      <td>ACH-000561</td>\n",
       "      <td>0</td>\n",
       "      <td>0</td>\n",
       "      <td>0</td>\n",
       "      <td>0</td>\n",
       "      <td>0</td>\n",
       "      <td>0</td>\n",
       "      <td>0</td>\n",
       "      <td>0</td>\n",
       "      <td>0</td>\n",
       "      <td>...</td>\n",
       "      <td>0</td>\n",
       "      <td>0</td>\n",
       "      <td>0</td>\n",
       "      <td>0</td>\n",
       "      <td>0</td>\n",
       "      <td>0</td>\n",
       "      <td>0</td>\n",
       "      <td>0</td>\n",
       "      <td>0</td>\n",
       "      <td>0</td>\n",
       "    </tr>\n",
       "    <tr>\n",
       "      <th>4</th>\n",
       "      <td>ACH-000562</td>\n",
       "      <td>0</td>\n",
       "      <td>0</td>\n",
       "      <td>0</td>\n",
       "      <td>0</td>\n",
       "      <td>0</td>\n",
       "      <td>0</td>\n",
       "      <td>0</td>\n",
       "      <td>0</td>\n",
       "      <td>0</td>\n",
       "      <td>...</td>\n",
       "      <td>0</td>\n",
       "      <td>0</td>\n",
       "      <td>0</td>\n",
       "      <td>0</td>\n",
       "      <td>0</td>\n",
       "      <td>0</td>\n",
       "      <td>0</td>\n",
       "      <td>0</td>\n",
       "      <td>0</td>\n",
       "      <td>0</td>\n",
       "    </tr>\n",
       "  </tbody>\n",
       "</table>\n",
       "<p>5 rows × 34674 columns</p>\n",
       "</div>"
      ],
      "text/plain": [
       "  Cell_line_ID  TNFRSF14.1:2488170_mut  TNFRSF14.1:2489805_mut  \\\n",
       "0   ACH-000828                       0                       0   \n",
       "1   ACH-000568                       0                       0   \n",
       "2   ACH-000560                       0                       0   \n",
       "3   ACH-000561                       0                       0   \n",
       "4   ACH-000562                       0                       0   \n",
       "\n",
       "   TNFRSF14.1:2489824_mut  TNFRSF14.1:2489856_mut  TNFRSF14.1:2489868_mut  \\\n",
       "0                       0                       0                       0   \n",
       "1                       0                       0                       0   \n",
       "2                       0                       0                       0   \n",
       "3                       0                       0                       0   \n",
       "4                       0                       0                       0   \n",
       "\n",
       "   TNFRSF14.1:2491328_mut  TNFRSF14.1:2491335_mut  TNFRSF14.1:2491373_mut  \\\n",
       "0                       0                       0                       0   \n",
       "1                       0                       0                       0   \n",
       "2                       0                       0                       0   \n",
       "3                       0                       0                       0   \n",
       "4                       0                       0                       0   \n",
       "\n",
       "   TNFRSF14.1:2491403_mut  ...  MTCP1.23:154293902_mut  \\\n",
       "0                       0  ...                       0   \n",
       "1                       0  ...                       0   \n",
       "2                       0  ...                       0   \n",
       "3                       0  ...                       0   \n",
       "4                       0  ...                       0   \n",
       "\n",
       "   MTCP1.23:154293909_mut  MTCP1.23:154293951_mut  MTCP1.23:154293978_mut  \\\n",
       "0                       0                       0                       0   \n",
       "1                       0                       0                       0   \n",
       "2                       0                       0                       0   \n",
       "3                       0                       0                       0   \n",
       "4                       0                       0                       0   \n",
       "\n",
       "   MTCP1.23:154294034_mut  MTCP1.23:154294203_mut  MTCP1.23:154294207_mut  \\\n",
       "0                       0                       0                       0   \n",
       "1                       0                       0                       0   \n",
       "2                       0                       0                       0   \n",
       "3                       0                       0                       0   \n",
       "4                       0                       0                       0   \n",
       "\n",
       "   MTCP1.23:154294278_mut  MTCP1.23:154294279_mut  MTCP1.23:154298967_mut  \n",
       "0                       0                       0                       0  \n",
       "1                       0                       0                       0  \n",
       "2                       0                       0                       0  \n",
       "3                       0                       0                       0  \n",
       "4                       0                       0                       0  \n",
       "\n",
       "[5 rows x 34674 columns]"
      ]
     },
     "execution_count": 208,
     "metadata": {},
     "output_type": "execute_result"
    }
   ],
   "source": [
    "mutation_feature_alt.head()"
   ]
  },
  {
   "cell_type": "code",
   "execution_count": 209,
   "id": "81563a58-502a-41f7-8f73-e175df22088c",
   "metadata": {},
   "outputs": [
    {
     "name": "stderr",
     "output_type": "stream",
     "text": [
      "/tmp/ipykernel_2611184/3130069053.py:2: FutureWarning: The default value of numeric_only in DataFrame.mean is deprecated. In a future version, it will default to False. In addition, specifying 'numeric_only=None' is deprecated. Select only valid columns or specify the value of numeric_only to silence this warning.\n",
      "  mutation_feature_alt.mean().mean()\n"
     ]
    },
    {
     "data": {
      "text/plain": [
       "0.0013859561753244067"
      ]
     },
     "execution_count": 209,
     "metadata": {},
     "output_type": "execute_result"
    }
   ],
   "source": [
    "# Are these all zeros? Hopefully not, let's compute the mean\n",
    "mutation_feature_alt.mean().mean()"
   ]
  },
  {
   "cell_type": "code",
   "execution_count": 210,
   "id": "6c04778c-8ede-4d94-8cd8-b5ccb732cdd8",
   "metadata": {},
   "outputs": [
    {
     "data": {
      "text/plain": [
       "(561, 34674)"
      ]
     },
     "execution_count": 210,
     "metadata": {},
     "output_type": "execute_result"
    }
   ],
   "source": [
    "mutation_feature_alt.shape"
   ]
  },
  {
   "cell_type": "code",
   "execution_count": 211,
   "id": "75bbb3e3-ca1f-4754-850f-352d0bc95141",
   "metadata": {},
   "outputs": [],
   "source": [
    "# merge the muation data to the other omics datasets\n",
    "\n",
    "all_omics_features = pd.merge(methylation_and_expr_omics, mutation_feature_alt, on = \"Cell_line_ID\")"
   ]
  },
  {
   "cell_type": "code",
   "execution_count": 212,
   "id": "be37e7d2-2531-4f15-9a0a-5f78a2f0acdc",
   "metadata": {},
   "outputs": [
    {
     "data": {
      "text/plain": [
       "(561, 36179)"
      ]
     },
     "execution_count": 212,
     "metadata": {},
     "output_type": "execute_result"
    }
   ],
   "source": [
    "all_omics_features.shape"
   ]
  },
  {
   "cell_type": "code",
   "execution_count": 213,
   "id": "444c201d-0139-45fc-a121-4a354faf1bd1",
   "metadata": {},
   "outputs": [
    {
     "data": {
      "text/plain": [
       "36179"
      ]
     },
     "execution_count": 213,
     "metadata": {},
     "output_type": "execute_result"
    }
   ],
   "source": [
    "# sanity check on the number of columns\n",
    "34673 + 808 + 697 +1"
   ]
  },
  {
   "cell_type": "code",
   "execution_count": 214,
   "id": "8f6f9618-3bb6-4ac1-84bd-7d46a7893590",
   "metadata": {},
   "outputs": [
    {
     "name": "stderr",
     "output_type": "stream",
     "text": [
      "/tmp/ipykernel_2611184/2397565948.py:2: FutureWarning: The default value of numeric_only in DataFrame.mean is deprecated. In a future version, it will default to False. In addition, specifying 'numeric_only=None' is deprecated. Select only valid columns or specify the value of numeric_only to silence this warning.\n",
      "  mutation_feature_alt[mutation_feature_alt['Cell_line_ID'] == 'ACH-000560'].mean().mean()\n"
     ]
    },
    {
     "data": {
      "text/plain": [
       "0.0007787038906353647"
      ]
     },
     "execution_count": 214,
     "metadata": {},
     "output_type": "execute_result"
    }
   ],
   "source": [
    "# more sanity checks\n",
    "mutation_feature_alt[mutation_feature_alt['Cell_line_ID'] == 'ACH-000560'].mean().mean()"
   ]
  },
  {
   "cell_type": "code",
   "execution_count": 215,
   "id": "b9df51ba-c57c-4077-99d2-18447cf09625",
   "metadata": {},
   "outputs": [
    {
     "data": {
      "text/plain": [
       "0.0007787038906353647"
      ]
     },
     "execution_count": 215,
     "metadata": {},
     "output_type": "execute_result"
    }
   ],
   "source": [
    "all_omics_features[all_omics_features['Cell_line_ID'] == 'ACH-000560'].iloc[:, -34673:].mean().mean()"
   ]
  },
  {
   "cell_type": "code",
   "execution_count": 216,
   "id": "a8440ae7-6c73-4244-bf30-82552e302d59",
   "metadata": {},
   "outputs": [],
   "source": [
    "# now, merging all the data together\n",
    "final_deepcdr_data = pd.merge(DeepCDR_data, all_omics_features, on = 'Cell_line_ID', how = 'left')"
   ]
  },
  {
   "cell_type": "code",
   "execution_count": 217,
   "id": "4f2660a1-165e-4dec-86ea-770f908eb0bb",
   "metadata": {},
   "outputs": [
    {
     "data": {
      "text/html": [
       "<div>\n",
       "<style scoped>\n",
       "    .dataframe tbody tr th:only-of-type {\n",
       "        vertical-align: middle;\n",
       "    }\n",
       "\n",
       "    .dataframe tbody tr th {\n",
       "        vertical-align: top;\n",
       "    }\n",
       "\n",
       "    .dataframe thead th {\n",
       "        text-align: right;\n",
       "    }\n",
       "</style>\n",
       "<table border=\"1\" class=\"dataframe\">\n",
       "  <thead>\n",
       "    <tr style=\"text-align: right;\">\n",
       "      <th></th>\n",
       "      <th>Cell_line_ID</th>\n",
       "      <th>Pubchem_ID</th>\n",
       "      <th>Response</th>\n",
       "      <th>TCGA_cancer_type</th>\n",
       "      <th>LASP1_gexpr</th>\n",
       "      <th>HOXA11_gexpr</th>\n",
       "      <th>CREBBP_gexpr</th>\n",
       "      <th>ETV1_gexpr</th>\n",
       "      <th>GAS7_gexpr</th>\n",
       "      <th>CD79B_gexpr</th>\n",
       "      <th>...</th>\n",
       "      <th>MTCP1.23:154293902_mut</th>\n",
       "      <th>MTCP1.23:154293909_mut</th>\n",
       "      <th>MTCP1.23:154293951_mut</th>\n",
       "      <th>MTCP1.23:154293978_mut</th>\n",
       "      <th>MTCP1.23:154294034_mut</th>\n",
       "      <th>MTCP1.23:154294203_mut</th>\n",
       "      <th>MTCP1.23:154294207_mut</th>\n",
       "      <th>MTCP1.23:154294278_mut</th>\n",
       "      <th>MTCP1.23:154294279_mut</th>\n",
       "      <th>MTCP1.23:154298967_mut</th>\n",
       "    </tr>\n",
       "  </thead>\n",
       "  <tbody>\n",
       "    <tr>\n",
       "      <th>0</th>\n",
       "      <td>ACH-000070</td>\n",
       "      <td>176870</td>\n",
       "      <td>0.693305</td>\n",
       "      <td>ALL</td>\n",
       "      <td>5.448571</td>\n",
       "      <td>0.000000</td>\n",
       "      <td>4.661636</td>\n",
       "      <td>0.056584</td>\n",
       "      <td>3.068671</td>\n",
       "      <td>6.994467</td>\n",
       "      <td>...</td>\n",
       "      <td>0</td>\n",
       "      <td>0</td>\n",
       "      <td>0</td>\n",
       "      <td>0</td>\n",
       "      <td>0</td>\n",
       "      <td>0</td>\n",
       "      <td>0</td>\n",
       "      <td>0</td>\n",
       "      <td>0</td>\n",
       "      <td>0</td>\n",
       "    </tr>\n",
       "    <tr>\n",
       "      <th>1</th>\n",
       "      <td>ACH-000137</td>\n",
       "      <td>176870</td>\n",
       "      <td>2.580268</td>\n",
       "      <td>GBM</td>\n",
       "      <td>6.785289</td>\n",
       "      <td>0.422233</td>\n",
       "      <td>3.992768</td>\n",
       "      <td>4.534809</td>\n",
       "      <td>0.189034</td>\n",
       "      <td>0.344828</td>\n",
       "      <td>...</td>\n",
       "      <td>0</td>\n",
       "      <td>0</td>\n",
       "      <td>0</td>\n",
       "      <td>0</td>\n",
       "      <td>0</td>\n",
       "      <td>0</td>\n",
       "      <td>0</td>\n",
       "      <td>0</td>\n",
       "      <td>0</td>\n",
       "      <td>0</td>\n",
       "    </tr>\n",
       "    <tr>\n",
       "      <th>2</th>\n",
       "      <td>ACH-000008</td>\n",
       "      <td>176870</td>\n",
       "      <td>2.557837</td>\n",
       "      <td>SKCM</td>\n",
       "      <td>6.312338</td>\n",
       "      <td>1.182692</td>\n",
       "      <td>3.440952</td>\n",
       "      <td>4.317594</td>\n",
       "      <td>7.650836</td>\n",
       "      <td>0.176323</td>\n",
       "      <td>...</td>\n",
       "      <td>0</td>\n",
       "      <td>0</td>\n",
       "      <td>0</td>\n",
       "      <td>0</td>\n",
       "      <td>0</td>\n",
       "      <td>0</td>\n",
       "      <td>0</td>\n",
       "      <td>0</td>\n",
       "      <td>0</td>\n",
       "      <td>0</td>\n",
       "    </tr>\n",
       "    <tr>\n",
       "      <th>3</th>\n",
       "      <td>ACH-000740</td>\n",
       "      <td>176870</td>\n",
       "      <td>0.290013</td>\n",
       "      <td>HNSC</td>\n",
       "      <td>6.871351</td>\n",
       "      <td>3.005400</td>\n",
       "      <td>4.201634</td>\n",
       "      <td>0.028569</td>\n",
       "      <td>2.301588</td>\n",
       "      <td>0.097611</td>\n",
       "      <td>...</td>\n",
       "      <td>0</td>\n",
       "      <td>0</td>\n",
       "      <td>0</td>\n",
       "      <td>0</td>\n",
       "      <td>0</td>\n",
       "      <td>0</td>\n",
       "      <td>0</td>\n",
       "      <td>0</td>\n",
       "      <td>0</td>\n",
       "      <td>0</td>\n",
       "    </tr>\n",
       "    <tr>\n",
       "      <th>4</th>\n",
       "      <td>ACH-000697</td>\n",
       "      <td>176870</td>\n",
       "      <td>1.110250</td>\n",
       "      <td>DLBC</td>\n",
       "      <td>6.501917</td>\n",
       "      <td>0.000000</td>\n",
       "      <td>3.341986</td>\n",
       "      <td>1.594549</td>\n",
       "      <td>0.084064</td>\n",
       "      <td>1.157044</td>\n",
       "      <td>...</td>\n",
       "      <td>0</td>\n",
       "      <td>0</td>\n",
       "      <td>0</td>\n",
       "      <td>0</td>\n",
       "      <td>0</td>\n",
       "      <td>0</td>\n",
       "      <td>0</td>\n",
       "      <td>0</td>\n",
       "      <td>0</td>\n",
       "      <td>0</td>\n",
       "    </tr>\n",
       "  </tbody>\n",
       "</table>\n",
       "<p>5 rows × 36182 columns</p>\n",
       "</div>"
      ],
      "text/plain": [
       "  Cell_line_ID Pubchem_ID  Response TCGA_cancer_type  LASP1_gexpr  \\\n",
       "0   ACH-000070     176870  0.693305              ALL     5.448571   \n",
       "1   ACH-000137     176870  2.580268              GBM     6.785289   \n",
       "2   ACH-000008     176870  2.557837             SKCM     6.312338   \n",
       "3   ACH-000740     176870  0.290013             HNSC     6.871351   \n",
       "4   ACH-000697     176870  1.110250             DLBC     6.501917   \n",
       "\n",
       "   HOXA11_gexpr  CREBBP_gexpr  ETV1_gexpr  GAS7_gexpr  CD79B_gexpr  ...  \\\n",
       "0      0.000000      4.661636    0.056584    3.068671     6.994467  ...   \n",
       "1      0.422233      3.992768    4.534809    0.189034     0.344828  ...   \n",
       "2      1.182692      3.440952    4.317594    7.650836     0.176323  ...   \n",
       "3      3.005400      4.201634    0.028569    2.301588     0.097611  ...   \n",
       "4      0.000000      3.341986    1.594549    0.084064     1.157044  ...   \n",
       "\n",
       "   MTCP1.23:154293902_mut  MTCP1.23:154293909_mut  MTCP1.23:154293951_mut  \\\n",
       "0                       0                       0                       0   \n",
       "1                       0                       0                       0   \n",
       "2                       0                       0                       0   \n",
       "3                       0                       0                       0   \n",
       "4                       0                       0                       0   \n",
       "\n",
       "   MTCP1.23:154293978_mut  MTCP1.23:154294034_mut  MTCP1.23:154294203_mut  \\\n",
       "0                       0                       0                       0   \n",
       "1                       0                       0                       0   \n",
       "2                       0                       0                       0   \n",
       "3                       0                       0                       0   \n",
       "4                       0                       0                       0   \n",
       "\n",
       "   MTCP1.23:154294207_mut  MTCP1.23:154294278_mut  MTCP1.23:154294279_mut  \\\n",
       "0                       0                       0                       0   \n",
       "1                       0                       0                       0   \n",
       "2                       0                       0                       0   \n",
       "3                       0                       0                       0   \n",
       "4                       0                       0                       0   \n",
       "\n",
       "   MTCP1.23:154298967_mut  \n",
       "0                       0  \n",
       "1                       0  \n",
       "2                       0  \n",
       "3                       0  \n",
       "4                       0  \n",
       "\n",
       "[5 rows x 36182 columns]"
      ]
     },
     "execution_count": 217,
     "metadata": {},
     "output_type": "execute_result"
    }
   ],
   "source": [
    "final_deepcdr_data.head()"
   ]
  },
  {
   "cell_type": "code",
   "execution_count": 218,
   "id": "6b153713-2fe6-4b1a-8c04-8e27fba358e1",
   "metadata": {},
   "outputs": [
    {
     "data": {
      "text/plain": [
       "(94314, 36182)"
      ]
     },
     "execution_count": 218,
     "metadata": {},
     "output_type": "execute_result"
    }
   ],
   "source": [
    "final_deepcdr_data.shape"
   ]
  },
  {
   "cell_type": "code",
   "execution_count": 270,
   "id": "77f41bc4-1f92-43ec-84ed-1bcf2762f59b",
   "metadata": {},
   "outputs": [],
   "source": [
    "############ SANITY CHECKS ###########"
   ]
  },
  {
   "cell_type": "code",
   "execution_count": 219,
   "id": "80ae56f2-b5bc-463c-adc5-d8eca79c5d8a",
   "metadata": {},
   "outputs": [],
   "source": [
    "# This is the final dataset - Let's do a little more sanity check on it though\n",
    "ACH_000070_All_data = final_deepcdr_data[final_deepcdr_data['Cell_line_ID'] == 'ACH-000070']"
   ]
  },
  {
   "cell_type": "code",
   "execution_count": 220,
   "id": "fc72c6ff-f9f7-4c34-9142-d85aec5e42f1",
   "metadata": {},
   "outputs": [
    {
     "data": {
      "text/html": [
       "<div>\n",
       "<style scoped>\n",
       "    .dataframe tbody tr th:only-of-type {\n",
       "        vertical-align: middle;\n",
       "    }\n",
       "\n",
       "    .dataframe tbody tr th {\n",
       "        vertical-align: top;\n",
       "    }\n",
       "\n",
       "    .dataframe thead th {\n",
       "        text-align: right;\n",
       "    }\n",
       "</style>\n",
       "<table border=\"1\" class=\"dataframe\">\n",
       "  <thead>\n",
       "    <tr style=\"text-align: right;\">\n",
       "      <th></th>\n",
       "      <th>Cell_line_ID</th>\n",
       "      <th>Pubchem_ID</th>\n",
       "      <th>Response</th>\n",
       "      <th>TCGA_cancer_type</th>\n",
       "      <th>LASP1_gexpr</th>\n",
       "      <th>HOXA11_gexpr</th>\n",
       "      <th>CREBBP_gexpr</th>\n",
       "      <th>ETV1_gexpr</th>\n",
       "      <th>GAS7_gexpr</th>\n",
       "      <th>CD79B_gexpr</th>\n",
       "      <th>...</th>\n",
       "      <th>MTCP1.23:154293902_mut</th>\n",
       "      <th>MTCP1.23:154293909_mut</th>\n",
       "      <th>MTCP1.23:154293951_mut</th>\n",
       "      <th>MTCP1.23:154293978_mut</th>\n",
       "      <th>MTCP1.23:154294034_mut</th>\n",
       "      <th>MTCP1.23:154294203_mut</th>\n",
       "      <th>MTCP1.23:154294207_mut</th>\n",
       "      <th>MTCP1.23:154294278_mut</th>\n",
       "      <th>MTCP1.23:154294279_mut</th>\n",
       "      <th>MTCP1.23:154298967_mut</th>\n",
       "    </tr>\n",
       "  </thead>\n",
       "  <tbody>\n",
       "    <tr>\n",
       "      <th>0</th>\n",
       "      <td>ACH-000070</td>\n",
       "      <td>176870</td>\n",
       "      <td>0.693305</td>\n",
       "      <td>ALL</td>\n",
       "      <td>5.448571</td>\n",
       "      <td>0.0</td>\n",
       "      <td>4.661636</td>\n",
       "      <td>0.056584</td>\n",
       "      <td>3.068671</td>\n",
       "      <td>6.994467</td>\n",
       "      <td>...</td>\n",
       "      <td>0</td>\n",
       "      <td>0</td>\n",
       "      <td>0</td>\n",
       "      <td>0</td>\n",
       "      <td>0</td>\n",
       "      <td>0</td>\n",
       "      <td>0</td>\n",
       "      <td>0</td>\n",
       "      <td>0</td>\n",
       "      <td>0</td>\n",
       "    </tr>\n",
       "    <tr>\n",
       "      <th>166</th>\n",
       "      <td>ACH-000070</td>\n",
       "      <td>65110</td>\n",
       "      <td>6.075025</td>\n",
       "      <td>ALL</td>\n",
       "      <td>5.448571</td>\n",
       "      <td>0.0</td>\n",
       "      <td>4.661636</td>\n",
       "      <td>0.056584</td>\n",
       "      <td>3.068671</td>\n",
       "      <td>6.994467</td>\n",
       "      <td>...</td>\n",
       "      <td>0</td>\n",
       "      <td>0</td>\n",
       "      <td>0</td>\n",
       "      <td>0</td>\n",
       "      <td>0</td>\n",
       "      <td>0</td>\n",
       "      <td>0</td>\n",
       "      <td>0</td>\n",
       "      <td>0</td>\n",
       "      <td>0</td>\n",
       "    </tr>\n",
       "    <tr>\n",
       "      <th>580</th>\n",
       "      <td>ACH-000070</td>\n",
       "      <td>6710780</td>\n",
       "      <td>-5.620091</td>\n",
       "      <td>ALL</td>\n",
       "      <td>5.448571</td>\n",
       "      <td>0.0</td>\n",
       "      <td>4.661636</td>\n",
       "      <td>0.056584</td>\n",
       "      <td>3.068671</td>\n",
       "      <td>6.994467</td>\n",
       "      <td>...</td>\n",
       "      <td>0</td>\n",
       "      <td>0</td>\n",
       "      <td>0</td>\n",
       "      <td>0</td>\n",
       "      <td>0</td>\n",
       "      <td>0</td>\n",
       "      <td>0</td>\n",
       "      <td>0</td>\n",
       "      <td>0</td>\n",
       "      <td>0</td>\n",
       "    </tr>\n",
       "    <tr>\n",
       "      <th>999</th>\n",
       "      <td>ACH-000070</td>\n",
       "      <td>84691</td>\n",
       "      <td>1.324128</td>\n",
       "      <td>ALL</td>\n",
       "      <td>5.448571</td>\n",
       "      <td>0.0</td>\n",
       "      <td>4.661636</td>\n",
       "      <td>0.056584</td>\n",
       "      <td>3.068671</td>\n",
       "      <td>6.994467</td>\n",
       "      <td>...</td>\n",
       "      <td>0</td>\n",
       "      <td>0</td>\n",
       "      <td>0</td>\n",
       "      <td>0</td>\n",
       "      <td>0</td>\n",
       "      <td>0</td>\n",
       "      <td>0</td>\n",
       "      <td>0</td>\n",
       "      <td>0</td>\n",
       "      <td>0</td>\n",
       "    </tr>\n",
       "    <tr>\n",
       "      <th>1418</th>\n",
       "      <td>ACH-000070</td>\n",
       "      <td>6253</td>\n",
       "      <td>-4.928647</td>\n",
       "      <td>ALL</td>\n",
       "      <td>5.448571</td>\n",
       "      <td>0.0</td>\n",
       "      <td>4.661636</td>\n",
       "      <td>0.056584</td>\n",
       "      <td>3.068671</td>\n",
       "      <td>6.994467</td>\n",
       "      <td>...</td>\n",
       "      <td>0</td>\n",
       "      <td>0</td>\n",
       "      <td>0</td>\n",
       "      <td>0</td>\n",
       "      <td>0</td>\n",
       "      <td>0</td>\n",
       "      <td>0</td>\n",
       "      <td>0</td>\n",
       "      <td>0</td>\n",
       "      <td>0</td>\n",
       "    </tr>\n",
       "    <tr>\n",
       "      <th>...</th>\n",
       "      <td>...</td>\n",
       "      <td>...</td>\n",
       "      <td>...</td>\n",
       "      <td>...</td>\n",
       "      <td>...</td>\n",
       "      <td>...</td>\n",
       "      <td>...</td>\n",
       "      <td>...</td>\n",
       "      <td>...</td>\n",
       "      <td>...</td>\n",
       "      <td>...</td>\n",
       "      <td>...</td>\n",
       "      <td>...</td>\n",
       "      <td>...</td>\n",
       "      <td>...</td>\n",
       "      <td>...</td>\n",
       "      <td>...</td>\n",
       "      <td>...</td>\n",
       "      <td>...</td>\n",
       "      <td>...</td>\n",
       "      <td>...</td>\n",
       "    </tr>\n",
       "    <tr>\n",
       "      <th>93441</th>\n",
       "      <td>ACH-000070</td>\n",
       "      <td>4261</td>\n",
       "      <td>-2.297562</td>\n",
       "      <td>ALL</td>\n",
       "      <td>5.448571</td>\n",
       "      <td>0.0</td>\n",
       "      <td>4.661636</td>\n",
       "      <td>0.056584</td>\n",
       "      <td>3.068671</td>\n",
       "      <td>6.994467</td>\n",
       "      <td>...</td>\n",
       "      <td>0</td>\n",
       "      <td>0</td>\n",
       "      <td>0</td>\n",
       "      <td>0</td>\n",
       "      <td>0</td>\n",
       "      <td>0</td>\n",
       "      <td>0</td>\n",
       "      <td>0</td>\n",
       "      <td>0</td>\n",
       "      <td>0</td>\n",
       "    </tr>\n",
       "    <tr>\n",
       "      <th>93615</th>\n",
       "      <td>ACH-000070</td>\n",
       "      <td>7251185</td>\n",
       "      <td>-0.590364</td>\n",
       "      <td>ALL</td>\n",
       "      <td>5.448571</td>\n",
       "      <td>0.0</td>\n",
       "      <td>4.661636</td>\n",
       "      <td>0.056584</td>\n",
       "      <td>3.068671</td>\n",
       "      <td>6.994467</td>\n",
       "      <td>...</td>\n",
       "      <td>0</td>\n",
       "      <td>0</td>\n",
       "      <td>0</td>\n",
       "      <td>0</td>\n",
       "      <td>0</td>\n",
       "      <td>0</td>\n",
       "      <td>0</td>\n",
       "      <td>0</td>\n",
       "      <td>0</td>\n",
       "      <td>0</td>\n",
       "    </tr>\n",
       "    <tr>\n",
       "      <th>93789</th>\n",
       "      <td>ACH-000070</td>\n",
       "      <td>462382</td>\n",
       "      <td>-1.703552</td>\n",
       "      <td>ALL</td>\n",
       "      <td>5.448571</td>\n",
       "      <td>0.0</td>\n",
       "      <td>4.661636</td>\n",
       "      <td>0.056584</td>\n",
       "      <td>3.068671</td>\n",
       "      <td>6.994467</td>\n",
       "      <td>...</td>\n",
       "      <td>0</td>\n",
       "      <td>0</td>\n",
       "      <td>0</td>\n",
       "      <td>0</td>\n",
       "      <td>0</td>\n",
       "      <td>0</td>\n",
       "      <td>0</td>\n",
       "      <td>0</td>\n",
       "      <td>0</td>\n",
       "      <td>0</td>\n",
       "    </tr>\n",
       "    <tr>\n",
       "      <th>93964</th>\n",
       "      <td>ACH-000070</td>\n",
       "      <td>11626927</td>\n",
       "      <td>2.903586</td>\n",
       "      <td>ALL</td>\n",
       "      <td>5.448571</td>\n",
       "      <td>0.0</td>\n",
       "      <td>4.661636</td>\n",
       "      <td>0.056584</td>\n",
       "      <td>3.068671</td>\n",
       "      <td>6.994467</td>\n",
       "      <td>...</td>\n",
       "      <td>0</td>\n",
       "      <td>0</td>\n",
       "      <td>0</td>\n",
       "      <td>0</td>\n",
       "      <td>0</td>\n",
       "      <td>0</td>\n",
       "      <td>0</td>\n",
       "      <td>0</td>\n",
       "      <td>0</td>\n",
       "      <td>0</td>\n",
       "    </tr>\n",
       "    <tr>\n",
       "      <th>94139</th>\n",
       "      <td>ACH-000070</td>\n",
       "      <td>9907093</td>\n",
       "      <td>1.945204</td>\n",
       "      <td>ALL</td>\n",
       "      <td>5.448571</td>\n",
       "      <td>0.0</td>\n",
       "      <td>4.661636</td>\n",
       "      <td>0.056584</td>\n",
       "      <td>3.068671</td>\n",
       "      <td>6.994467</td>\n",
       "      <td>...</td>\n",
       "      <td>0</td>\n",
       "      <td>0</td>\n",
       "      <td>0</td>\n",
       "      <td>0</td>\n",
       "      <td>0</td>\n",
       "      <td>0</td>\n",
       "      <td>0</td>\n",
       "      <td>0</td>\n",
       "      <td>0</td>\n",
       "      <td>0</td>\n",
       "    </tr>\n",
       "  </tbody>\n",
       "</table>\n",
       "<p>236 rows × 36182 columns</p>\n",
       "</div>"
      ],
      "text/plain": [
       "      Cell_line_ID Pubchem_ID  Response TCGA_cancer_type  LASP1_gexpr  \\\n",
       "0       ACH-000070     176870  0.693305              ALL     5.448571   \n",
       "166     ACH-000070      65110  6.075025              ALL     5.448571   \n",
       "580     ACH-000070    6710780 -5.620091              ALL     5.448571   \n",
       "999     ACH-000070      84691  1.324128              ALL     5.448571   \n",
       "1418    ACH-000070       6253 -4.928647              ALL     5.448571   \n",
       "...            ...        ...       ...              ...          ...   \n",
       "93441   ACH-000070       4261 -2.297562              ALL     5.448571   \n",
       "93615   ACH-000070    7251185 -0.590364              ALL     5.448571   \n",
       "93789   ACH-000070     462382 -1.703552              ALL     5.448571   \n",
       "93964   ACH-000070   11626927  2.903586              ALL     5.448571   \n",
       "94139   ACH-000070    9907093  1.945204              ALL     5.448571   \n",
       "\n",
       "       HOXA11_gexpr  CREBBP_gexpr  ETV1_gexpr  GAS7_gexpr  CD79B_gexpr  ...  \\\n",
       "0               0.0      4.661636    0.056584    3.068671     6.994467  ...   \n",
       "166             0.0      4.661636    0.056584    3.068671     6.994467  ...   \n",
       "580             0.0      4.661636    0.056584    3.068671     6.994467  ...   \n",
       "999             0.0      4.661636    0.056584    3.068671     6.994467  ...   \n",
       "1418            0.0      4.661636    0.056584    3.068671     6.994467  ...   \n",
       "...             ...           ...         ...         ...          ...  ...   \n",
       "93441           0.0      4.661636    0.056584    3.068671     6.994467  ...   \n",
       "93615           0.0      4.661636    0.056584    3.068671     6.994467  ...   \n",
       "93789           0.0      4.661636    0.056584    3.068671     6.994467  ...   \n",
       "93964           0.0      4.661636    0.056584    3.068671     6.994467  ...   \n",
       "94139           0.0      4.661636    0.056584    3.068671     6.994467  ...   \n",
       "\n",
       "       MTCP1.23:154293902_mut  MTCP1.23:154293909_mut  MTCP1.23:154293951_mut  \\\n",
       "0                           0                       0                       0   \n",
       "166                         0                       0                       0   \n",
       "580                         0                       0                       0   \n",
       "999                         0                       0                       0   \n",
       "1418                        0                       0                       0   \n",
       "...                       ...                     ...                     ...   \n",
       "93441                       0                       0                       0   \n",
       "93615                       0                       0                       0   \n",
       "93789                       0                       0                       0   \n",
       "93964                       0                       0                       0   \n",
       "94139                       0                       0                       0   \n",
       "\n",
       "       MTCP1.23:154293978_mut  MTCP1.23:154294034_mut  MTCP1.23:154294203_mut  \\\n",
       "0                           0                       0                       0   \n",
       "166                         0                       0                       0   \n",
       "580                         0                       0                       0   \n",
       "999                         0                       0                       0   \n",
       "1418                        0                       0                       0   \n",
       "...                       ...                     ...                     ...   \n",
       "93441                       0                       0                       0   \n",
       "93615                       0                       0                       0   \n",
       "93789                       0                       0                       0   \n",
       "93964                       0                       0                       0   \n",
       "94139                       0                       0                       0   \n",
       "\n",
       "       MTCP1.23:154294207_mut  MTCP1.23:154294278_mut  MTCP1.23:154294279_mut  \\\n",
       "0                           0                       0                       0   \n",
       "166                         0                       0                       0   \n",
       "580                         0                       0                       0   \n",
       "999                         0                       0                       0   \n",
       "1418                        0                       0                       0   \n",
       "...                       ...                     ...                     ...   \n",
       "93441                       0                       0                       0   \n",
       "93615                       0                       0                       0   \n",
       "93789                       0                       0                       0   \n",
       "93964                       0                       0                       0   \n",
       "94139                       0                       0                       0   \n",
       "\n",
       "       MTCP1.23:154298967_mut  \n",
       "0                           0  \n",
       "166                         0  \n",
       "580                         0  \n",
       "999                         0  \n",
       "1418                        0  \n",
       "...                       ...  \n",
       "93441                       0  \n",
       "93615                       0  \n",
       "93789                       0  \n",
       "93964                       0  \n",
       "94139                       0  \n",
       "\n",
       "[236 rows x 36182 columns]"
      ]
     },
     "execution_count": 220,
     "metadata": {},
     "output_type": "execute_result"
    }
   ],
   "source": [
    "ACH_000070_All_data"
   ]
  },
  {
   "cell_type": "code",
   "execution_count": 221,
   "id": "df282604-79de-4eb0-b5d7-7b0786761e7f",
   "metadata": {},
   "outputs": [
    {
     "data": {
      "text/plain": [
       "LASP1_gexpr               5.448571\n",
       "HOXA11_gexpr              0.000000\n",
       "CREBBP_gexpr              4.661636\n",
       "ETV1_gexpr                0.056584\n",
       "GAS7_gexpr                3.068671\n",
       "                            ...   \n",
       "MTCP1.23:154294203_mut    0.000000\n",
       "MTCP1.23:154294207_mut    0.000000\n",
       "MTCP1.23:154294278_mut    0.000000\n",
       "MTCP1.23:154294279_mut    0.000000\n",
       "MTCP1.23:154298967_mut    0.000000\n",
       "Length: 36178, dtype: float64"
      ]
     },
     "execution_count": 221,
     "metadata": {},
     "output_type": "execute_result"
    }
   ],
   "source": [
    "ACH_000070_All_data.iloc[:, 4:].mean(axis = 0) # loos the same, should be okay"
   ]
  },
  {
   "cell_type": "code",
   "execution_count": 222,
   "id": "149104ce-5657-45da-b29e-6a66d1b57af1",
   "metadata": {},
   "outputs": [
    {
     "data": {
      "text/html": [
       "<div>\n",
       "<style scoped>\n",
       "    .dataframe tbody tr th:only-of-type {\n",
       "        vertical-align: middle;\n",
       "    }\n",
       "\n",
       "    .dataframe tbody tr th {\n",
       "        vertical-align: top;\n",
       "    }\n",
       "\n",
       "    .dataframe thead th {\n",
       "        text-align: right;\n",
       "    }\n",
       "</style>\n",
       "<table border=\"1\" class=\"dataframe\">\n",
       "  <thead>\n",
       "    <tr style=\"text-align: right;\">\n",
       "      <th></th>\n",
       "      <th>Cell_line_ID</th>\n",
       "      <th>Pubchem_ID</th>\n",
       "      <th>Response</th>\n",
       "      <th>TCGA_cancer_type</th>\n",
       "    </tr>\n",
       "  </thead>\n",
       "  <tbody>\n",
       "    <tr>\n",
       "      <th>0</th>\n",
       "      <td>ACH-000070</td>\n",
       "      <td>176870</td>\n",
       "      <td>0.693305</td>\n",
       "      <td>ALL</td>\n",
       "    </tr>\n",
       "    <tr>\n",
       "      <th>166</th>\n",
       "      <td>ACH-000070</td>\n",
       "      <td>65110</td>\n",
       "      <td>6.075025</td>\n",
       "      <td>ALL</td>\n",
       "    </tr>\n",
       "    <tr>\n",
       "      <th>580</th>\n",
       "      <td>ACH-000070</td>\n",
       "      <td>6710780</td>\n",
       "      <td>-5.620091</td>\n",
       "      <td>ALL</td>\n",
       "    </tr>\n",
       "    <tr>\n",
       "      <th>999</th>\n",
       "      <td>ACH-000070</td>\n",
       "      <td>84691</td>\n",
       "      <td>1.324128</td>\n",
       "      <td>ALL</td>\n",
       "    </tr>\n",
       "    <tr>\n",
       "      <th>1418</th>\n",
       "      <td>ACH-000070</td>\n",
       "      <td>6253</td>\n",
       "      <td>-4.928647</td>\n",
       "      <td>ALL</td>\n",
       "    </tr>\n",
       "    <tr>\n",
       "      <th>...</th>\n",
       "      <td>...</td>\n",
       "      <td>...</td>\n",
       "      <td>...</td>\n",
       "      <td>...</td>\n",
       "    </tr>\n",
       "    <tr>\n",
       "      <th>93441</th>\n",
       "      <td>ACH-000070</td>\n",
       "      <td>4261</td>\n",
       "      <td>-2.297562</td>\n",
       "      <td>ALL</td>\n",
       "    </tr>\n",
       "    <tr>\n",
       "      <th>93615</th>\n",
       "      <td>ACH-000070</td>\n",
       "      <td>7251185</td>\n",
       "      <td>-0.590364</td>\n",
       "      <td>ALL</td>\n",
       "    </tr>\n",
       "    <tr>\n",
       "      <th>93789</th>\n",
       "      <td>ACH-000070</td>\n",
       "      <td>462382</td>\n",
       "      <td>-1.703552</td>\n",
       "      <td>ALL</td>\n",
       "    </tr>\n",
       "    <tr>\n",
       "      <th>93964</th>\n",
       "      <td>ACH-000070</td>\n",
       "      <td>11626927</td>\n",
       "      <td>2.903586</td>\n",
       "      <td>ALL</td>\n",
       "    </tr>\n",
       "    <tr>\n",
       "      <th>94139</th>\n",
       "      <td>ACH-000070</td>\n",
       "      <td>9907093</td>\n",
       "      <td>1.945204</td>\n",
       "      <td>ALL</td>\n",
       "    </tr>\n",
       "  </tbody>\n",
       "</table>\n",
       "<p>236 rows × 4 columns</p>\n",
       "</div>"
      ],
      "text/plain": [
       "      Cell_line_ID Pubchem_ID  Response TCGA_cancer_type\n",
       "0       ACH-000070     176870  0.693305              ALL\n",
       "166     ACH-000070      65110  6.075025              ALL\n",
       "580     ACH-000070    6710780 -5.620091              ALL\n",
       "999     ACH-000070      84691  1.324128              ALL\n",
       "1418    ACH-000070       6253 -4.928647              ALL\n",
       "...            ...        ...       ...              ...\n",
       "93441   ACH-000070       4261 -2.297562              ALL\n",
       "93615   ACH-000070    7251185 -0.590364              ALL\n",
       "93789   ACH-000070     462382 -1.703552              ALL\n",
       "93964   ACH-000070   11626927  2.903586              ALL\n",
       "94139   ACH-000070    9907093  1.945204              ALL\n",
       "\n",
       "[236 rows x 4 columns]"
      ]
     },
     "execution_count": 222,
     "metadata": {},
     "output_type": "execute_result"
    }
   ],
   "source": [
    "# what about the response data? - looks like a match here\n",
    "DeepCDR_data[DeepCDR_data['Cell_line_ID'] == 'ACH-000070']"
   ]
  },
  {
   "cell_type": "code",
   "execution_count": 223,
   "id": "6773595a-7363-42b9-ae17-41f6caa85ce1",
   "metadata": {},
   "outputs": [],
   "source": [
    "# Let's separately look at the gene expression, mutation and methylation data"
   ]
  },
  {
   "cell_type": "code",
   "execution_count": 227,
   "id": "4618c84f-d73a-45db-aed6-83b933416463",
   "metadata": {},
   "outputs": [
    {
     "data": {
      "text/html": [
       "<div>\n",
       "<style scoped>\n",
       "    .dataframe tbody tr th:only-of-type {\n",
       "        vertical-align: middle;\n",
       "    }\n",
       "\n",
       "    .dataframe tbody tr th {\n",
       "        vertical-align: top;\n",
       "    }\n",
       "\n",
       "    .dataframe thead th {\n",
       "        text-align: right;\n",
       "    }\n",
       "</style>\n",
       "<table border=\"1\" class=\"dataframe\">\n",
       "  <thead>\n",
       "    <tr style=\"text-align: right;\">\n",
       "      <th></th>\n",
       "      <th>Cell_line_ID</th>\n",
       "      <th>LASP1_gexpr</th>\n",
       "      <th>HOXA11_gexpr</th>\n",
       "      <th>CREBBP_gexpr</th>\n",
       "      <th>ETV1_gexpr</th>\n",
       "      <th>GAS7_gexpr</th>\n",
       "      <th>CD79B_gexpr</th>\n",
       "      <th>PAX7_gexpr</th>\n",
       "      <th>BTK_gexpr</th>\n",
       "      <th>BRCA1_gexpr</th>\n",
       "      <th>...</th>\n",
       "      <th>NCKIPSD_gexpr</th>\n",
       "      <th>MTCP1_gexpr</th>\n",
       "      <th>DDX3X_gexpr</th>\n",
       "      <th>FANCG_gexpr</th>\n",
       "      <th>SSX2_gexpr</th>\n",
       "      <th>ETV5_gexpr</th>\n",
       "      <th>CEBPA_gexpr</th>\n",
       "      <th>LSM14A_gexpr</th>\n",
       "      <th>CUX1_gexpr</th>\n",
       "      <th>C15orf65_gexpr</th>\n",
       "    </tr>\n",
       "  </thead>\n",
       "  <tbody>\n",
       "    <tr>\n",
       "      <th>421</th>\n",
       "      <td>ACH-000070</td>\n",
       "      <td>5.448571</td>\n",
       "      <td>0.0</td>\n",
       "      <td>4.661636</td>\n",
       "      <td>0.056584</td>\n",
       "      <td>3.068671</td>\n",
       "      <td>6.994467</td>\n",
       "      <td>0.014355</td>\n",
       "      <td>3.439623</td>\n",
       "      <td>4.858478</td>\n",
       "      <td>...</td>\n",
       "      <td>3.945795</td>\n",
       "      <td>3.789729</td>\n",
       "      <td>6.364572</td>\n",
       "      <td>6.047233</td>\n",
       "      <td>0.014355</td>\n",
       "      <td>6.927185</td>\n",
       "      <td>1.063503</td>\n",
       "      <td>6.772414</td>\n",
       "      <td>4.967169</td>\n",
       "      <td>0.948601</td>\n",
       "    </tr>\n",
       "  </tbody>\n",
       "</table>\n",
       "<p>1 rows × 698 columns</p>\n",
       "</div>"
      ],
      "text/plain": [
       "    Cell_line_ID  LASP1_gexpr  HOXA11_gexpr  CREBBP_gexpr  ETV1_gexpr  \\\n",
       "421   ACH-000070     5.448571           0.0      4.661636    0.056584   \n",
       "\n",
       "     GAS7_gexpr  CD79B_gexpr  PAX7_gexpr  BTK_gexpr  BRCA1_gexpr  ...  \\\n",
       "421    3.068671     6.994467    0.014355   3.439623     4.858478  ...   \n",
       "\n",
       "     NCKIPSD_gexpr  MTCP1_gexpr  DDX3X_gexpr  FANCG_gexpr  SSX2_gexpr  \\\n",
       "421       3.945795     3.789729     6.364572     6.047233    0.014355   \n",
       "\n",
       "     ETV5_gexpr  CEBPA_gexpr  LSM14A_gexpr  CUX1_gexpr  C15orf65_gexpr  \n",
       "421    6.927185     1.063503      6.772414    4.967169        0.948601  \n",
       "\n",
       "[1 rows x 698 columns]"
      ]
     },
     "execution_count": 227,
     "metadata": {},
     "output_type": "execute_result"
    }
   ],
   "source": [
    "gexpr_feature_alt[gexpr_feature_alt['Cell_line_ID'] == 'ACH-000070']"
   ]
  },
  {
   "cell_type": "code",
   "execution_count": 229,
   "id": "9bf80fbe-1c58-452f-bdfa-8f1288294171",
   "metadata": {},
   "outputs": [],
   "source": [
    "# Extract the columns in the final dataset that corresponds to the gene expression columns only - There's 697 gene expression columns\n",
    "ACH_000070_All_data_gexpr_columns = ACH_000070_All_data.iloc[:, 4:4+697]"
   ]
  },
  {
   "cell_type": "code",
   "execution_count": 232,
   "id": "e7b5c934-02e2-45cc-af21-e27d5486b4fe",
   "metadata": {},
   "outputs": [
    {
     "data": {
      "text/plain": [
       "LASP1_gexpr       5.448571\n",
       "HOXA11_gexpr      0.000000\n",
       "CREBBP_gexpr      4.661636\n",
       "ETV1_gexpr        0.056584\n",
       "GAS7_gexpr        3.068671\n",
       "                    ...   \n",
       "ETV5_gexpr        6.927185\n",
       "CEBPA_gexpr       1.063503\n",
       "LSM14A_gexpr      6.772414\n",
       "CUX1_gexpr        4.967169\n",
       "C15orf65_gexpr    0.948601\n",
       "Length: 697, dtype: float64"
      ]
     },
     "execution_count": 232,
     "metadata": {},
     "output_type": "execute_result"
    }
   ],
   "source": [
    "# get the means of these columns and see if they match with above\n",
    "ACH_000070_All_data_gexpr_columns.mean()"
   ]
  },
  {
   "cell_type": "code",
   "execution_count": 233,
   "id": "27103a27-8a6a-4432-a9d5-18b462daebba",
   "metadata": {},
   "outputs": [],
   "source": [
    "# They match"
   ]
  },
  {
   "cell_type": "code",
   "execution_count": 241,
   "id": "1d7e0b9b-0fbc-459b-b3eb-b714c2235f71",
   "metadata": {},
   "outputs": [
    {
     "data": {
      "text/html": [
       "<div>\n",
       "<style scoped>\n",
       "    .dataframe tbody tr th:only-of-type {\n",
       "        vertical-align: middle;\n",
       "    }\n",
       "\n",
       "    .dataframe tbody tr th {\n",
       "        vertical-align: top;\n",
       "    }\n",
       "\n",
       "    .dataframe thead th {\n",
       "        text-align: right;\n",
       "    }\n",
       "</style>\n",
       "<table border=\"1\" class=\"dataframe\">\n",
       "  <thead>\n",
       "    <tr style=\"text-align: right;\">\n",
       "      <th></th>\n",
       "      <th>Cell_line_ID</th>\n",
       "      <th>SKI_1_2159133_2160133_methyl</th>\n",
       "      <th>TNFRSF14_1_2486803_2487803_methyl</th>\n",
       "      <th>PRDM16_1_2984741_2985741_methyl</th>\n",
       "      <th>RPL22_1_6259679_6260679_methyl</th>\n",
       "      <th>CAMTA1_1_6844383_6845383_methyl</th>\n",
       "      <th>MTOR_1_11322608_11323608_methyl</th>\n",
       "      <th>PRDM2_1_14025734_14026734_methyl</th>\n",
       "      <th>PRDM2_1_14074875_14075875_methyl</th>\n",
       "      <th>CASP9_1_15850940_15851940_methyl</th>\n",
       "      <th>...</th>\n",
       "      <th>BCORL1_X_129138163_129139163_methyl</th>\n",
       "      <th>ELF4_X_129244475_129245475_methyl</th>\n",
       "      <th>ELF4_X_129244688_129245688_methyl</th>\n",
       "      <th>GPC3_X_133119673_133120673_methyl</th>\n",
       "      <th>ATP2B3_X_152800579_152801579_methyl</th>\n",
       "      <th>FLNA_X_153603006_153604006_methyl</th>\n",
       "      <th>RPL10_X_153625405_153626405_methyl</th>\n",
       "      <th>RPL10_X_153625712_153626712_methyl</th>\n",
       "      <th>RPL10_X_153625837_153626837_methyl</th>\n",
       "      <th>MTCP1_X_154299547_154300547_methyl</th>\n",
       "    </tr>\n",
       "  </thead>\n",
       "  <tbody>\n",
       "    <tr>\n",
       "      <th>521</th>\n",
       "      <td>ACH-000070</td>\n",
       "      <td>0.00632</td>\n",
       "      <td>0.0318</td>\n",
       "      <td>0.70146</td>\n",
       "      <td>0.125</td>\n",
       "      <td>0.00551</td>\n",
       "      <td>0.18</td>\n",
       "      <td>0.50138</td>\n",
       "      <td>0.0</td>\n",
       "      <td>0.07479</td>\n",
       "      <td>...</td>\n",
       "      <td>0.16039</td>\n",
       "      <td>0.86472</td>\n",
       "      <td>0.86472</td>\n",
       "      <td>0.16039</td>\n",
       "      <td>0.97643</td>\n",
       "      <td>1.0</td>\n",
       "      <td>0.01051</td>\n",
       "      <td>0.00763</td>\n",
       "      <td>0.00763</td>\n",
       "      <td>0.11111</td>\n",
       "    </tr>\n",
       "  </tbody>\n",
       "</table>\n",
       "<p>1 rows × 809 columns</p>\n",
       "</div>"
      ],
      "text/plain": [
       "    Cell_line_ID  SKI_1_2159133_2160133_methyl  \\\n",
       "521   ACH-000070                       0.00632   \n",
       "\n",
       "     TNFRSF14_1_2486803_2487803_methyl  PRDM16_1_2984741_2985741_methyl  \\\n",
       "521                             0.0318                          0.70146   \n",
       "\n",
       "     RPL22_1_6259679_6260679_methyl  CAMTA1_1_6844383_6845383_methyl  \\\n",
       "521                           0.125                          0.00551   \n",
       "\n",
       "     MTOR_1_11322608_11323608_methyl  PRDM2_1_14025734_14026734_methyl  \\\n",
       "521                             0.18                           0.50138   \n",
       "\n",
       "     PRDM2_1_14074875_14075875_methyl  CASP9_1_15850940_15851940_methyl  ...  \\\n",
       "521                               0.0                           0.07479  ...   \n",
       "\n",
       "     BCORL1_X_129138163_129139163_methyl  ELF4_X_129244475_129245475_methyl  \\\n",
       "521                              0.16039                            0.86472   \n",
       "\n",
       "     ELF4_X_129244688_129245688_methyl  GPC3_X_133119673_133120673_methyl  \\\n",
       "521                            0.86472                            0.16039   \n",
       "\n",
       "     ATP2B3_X_152800579_152801579_methyl  FLNA_X_153603006_153604006_methyl  \\\n",
       "521                              0.97643                                1.0   \n",
       "\n",
       "     RPL10_X_153625405_153626405_methyl  RPL10_X_153625712_153626712_methyl  \\\n",
       "521                             0.01051                             0.00763   \n",
       "\n",
       "     RPL10_X_153625837_153626837_methyl  MTCP1_X_154299547_154300547_methyl  \n",
       "521                             0.00763                             0.11111  \n",
       "\n",
       "[1 rows x 809 columns]"
      ]
     },
     "execution_count": 241,
     "metadata": {},
     "output_type": "execute_result"
    }
   ],
   "source": [
    "methylation_feature_alt[methylation_feature_alt['Cell_line_ID'] == 'ACH-000070']"
   ]
  },
  {
   "cell_type": "code",
   "execution_count": 237,
   "id": "c9e0222f-6f7c-4cda-b40d-dcc417f155cf",
   "metadata": {},
   "outputs": [],
   "source": [
    "# Extract the columns in the final dataset that corresponds to the methylation columns only - There's 808 methylation columns\n",
    "ACH_000070_All_data_methyl_columns = ACH_000070_All_data.iloc[:, 4+697: 4+697+808]"
   ]
  },
  {
   "cell_type": "code",
   "execution_count": 238,
   "id": "7953e300-19b6-4643-a581-3850db81b870",
   "metadata": {},
   "outputs": [
    {
     "data": {
      "text/plain": [
       "SKI_1_2159133_2160133_methyl          0.00632\n",
       "TNFRSF14_1_2486803_2487803_methyl     0.03180\n",
       "PRDM16_1_2984741_2985741_methyl       0.70146\n",
       "RPL22_1_6259679_6260679_methyl        0.12500\n",
       "CAMTA1_1_6844383_6845383_methyl       0.00551\n",
       "                                       ...   \n",
       "FLNA_X_153603006_153604006_methyl     1.00000\n",
       "RPL10_X_153625405_153626405_methyl    0.01051\n",
       "RPL10_X_153625712_153626712_methyl    0.00763\n",
       "RPL10_X_153625837_153626837_methyl    0.00763\n",
       "MTCP1_X_154299547_154300547_methyl    0.11111\n",
       "Length: 808, dtype: float64"
      ]
     },
     "execution_count": 238,
     "metadata": {},
     "output_type": "execute_result"
    }
   ],
   "source": [
    "ACH_000070_All_data_methyl_columns.mean()"
   ]
  },
  {
   "cell_type": "code",
   "execution_count": 239,
   "id": "6f0c69af-4a2b-4da4-99a4-5af344040282",
   "metadata": {},
   "outputs": [],
   "source": [
    "# They match"
   ]
  },
  {
   "cell_type": "code",
   "execution_count": 240,
   "id": "955cdda8-d676-467e-b179-105a817266b4",
   "metadata": {},
   "outputs": [
    {
     "data": {
      "text/html": [
       "<div>\n",
       "<style scoped>\n",
       "    .dataframe tbody tr th:only-of-type {\n",
       "        vertical-align: middle;\n",
       "    }\n",
       "\n",
       "    .dataframe tbody tr th {\n",
       "        vertical-align: top;\n",
       "    }\n",
       "\n",
       "    .dataframe thead th {\n",
       "        text-align: right;\n",
       "    }\n",
       "</style>\n",
       "<table border=\"1\" class=\"dataframe\">\n",
       "  <thead>\n",
       "    <tr style=\"text-align: right;\">\n",
       "      <th></th>\n",
       "      <th>Cell_line_ID</th>\n",
       "      <th>TNFRSF14.1:2488170_mut</th>\n",
       "      <th>TNFRSF14.1:2489805_mut</th>\n",
       "      <th>TNFRSF14.1:2489824_mut</th>\n",
       "      <th>TNFRSF14.1:2489856_mut</th>\n",
       "      <th>TNFRSF14.1:2489868_mut</th>\n",
       "      <th>TNFRSF14.1:2491328_mut</th>\n",
       "      <th>TNFRSF14.1:2491335_mut</th>\n",
       "      <th>TNFRSF14.1:2491373_mut</th>\n",
       "      <th>TNFRSF14.1:2491403_mut</th>\n",
       "      <th>...</th>\n",
       "      <th>MTCP1.23:154293902_mut</th>\n",
       "      <th>MTCP1.23:154293909_mut</th>\n",
       "      <th>MTCP1.23:154293951_mut</th>\n",
       "      <th>MTCP1.23:154293978_mut</th>\n",
       "      <th>MTCP1.23:154294034_mut</th>\n",
       "      <th>MTCP1.23:154294203_mut</th>\n",
       "      <th>MTCP1.23:154294207_mut</th>\n",
       "      <th>MTCP1.23:154294278_mut</th>\n",
       "      <th>MTCP1.23:154294279_mut</th>\n",
       "      <th>MTCP1.23:154298967_mut</th>\n",
       "    </tr>\n",
       "  </thead>\n",
       "  <tbody>\n",
       "    <tr>\n",
       "      <th>421</th>\n",
       "      <td>ACH-000070</td>\n",
       "      <td>0</td>\n",
       "      <td>0</td>\n",
       "      <td>0</td>\n",
       "      <td>0</td>\n",
       "      <td>0</td>\n",
       "      <td>0</td>\n",
       "      <td>0</td>\n",
       "      <td>0</td>\n",
       "      <td>0</td>\n",
       "      <td>...</td>\n",
       "      <td>0</td>\n",
       "      <td>0</td>\n",
       "      <td>0</td>\n",
       "      <td>0</td>\n",
       "      <td>0</td>\n",
       "      <td>0</td>\n",
       "      <td>0</td>\n",
       "      <td>0</td>\n",
       "      <td>0</td>\n",
       "      <td>0</td>\n",
       "    </tr>\n",
       "  </tbody>\n",
       "</table>\n",
       "<p>1 rows × 34674 columns</p>\n",
       "</div>"
      ],
      "text/plain": [
       "    Cell_line_ID  TNFRSF14.1:2488170_mut  TNFRSF14.1:2489805_mut  \\\n",
       "421   ACH-000070                       0                       0   \n",
       "\n",
       "     TNFRSF14.1:2489824_mut  TNFRSF14.1:2489856_mut  TNFRSF14.1:2489868_mut  \\\n",
       "421                       0                       0                       0   \n",
       "\n",
       "     TNFRSF14.1:2491328_mut  TNFRSF14.1:2491335_mut  TNFRSF14.1:2491373_mut  \\\n",
       "421                       0                       0                       0   \n",
       "\n",
       "     TNFRSF14.1:2491403_mut  ...  MTCP1.23:154293902_mut  \\\n",
       "421                       0  ...                       0   \n",
       "\n",
       "     MTCP1.23:154293909_mut  MTCP1.23:154293951_mut  MTCP1.23:154293978_mut  \\\n",
       "421                       0                       0                       0   \n",
       "\n",
       "     MTCP1.23:154294034_mut  MTCP1.23:154294203_mut  MTCP1.23:154294207_mut  \\\n",
       "421                       0                       0                       0   \n",
       "\n",
       "     MTCP1.23:154294278_mut  MTCP1.23:154294279_mut  MTCP1.23:154298967_mut  \n",
       "421                       0                       0                       0  \n",
       "\n",
       "[1 rows x 34674 columns]"
      ]
     },
     "execution_count": 240,
     "metadata": {},
     "output_type": "execute_result"
    }
   ],
   "source": [
    "# Do the same with the mutation data\n",
    "mutation_feature_alt[mutation_feature_alt['Cell_line_ID'] == 'ACH-000070']"
   ]
  },
  {
   "cell_type": "code",
   "execution_count": 254,
   "id": "8516f780-2ca2-4c1a-a314-e5fd4c587a53",
   "metadata": {},
   "outputs": [
    {
     "data": {
      "text/plain": [
       "0.00040377238773685575"
      ]
     },
     "execution_count": 254,
     "metadata": {},
     "output_type": "execute_result"
    }
   ],
   "source": [
    "mutation_feature_alt[mutation_feature_alt['Cell_line_ID'] == 'ACH-000070'].values[:,1:].mean()"
   ]
  },
  {
   "cell_type": "code",
   "execution_count": 247,
   "id": "29b46c60-ee13-4e11-8e52-49104e4c85f1",
   "metadata": {},
   "outputs": [],
   "source": [
    "# Extract the columns in the final dataset that corresponds to the mutation columns only - There's 34673 mutation columns\n",
    "ACH_000070_All_data_methyl_columns = ACH_000070_All_data.iloc[:, 4+697+808: 4+697+808+34673]"
   ]
  },
  {
   "cell_type": "code",
   "execution_count": 250,
   "id": "bc5ecc3d-62c0-4474-9bc2-4165a80887c5",
   "metadata": {},
   "outputs": [
    {
     "data": {
      "text/plain": [
       "0.00040377238773685575"
      ]
     },
     "execution_count": 250,
     "metadata": {},
     "output_type": "execute_result"
    }
   ],
   "source": [
    "ACH_000070_All_data_methyl_columns.mean().mean()"
   ]
  },
  {
   "cell_type": "code",
   "execution_count": null,
   "id": "09995b1d-ae7c-4e2c-a72f-5e3917ab5760",
   "metadata": {},
   "outputs": [],
   "source": [
    "################### More sanity checks ######################"
   ]
  },
  {
   "cell_type": "code",
   "execution_count": null,
   "id": "da9271fc-d3b9-4ca9-96e0-28ce85f19699",
   "metadata": {},
   "outputs": [],
   "source": [
    "# ACH-000008"
   ]
  },
  {
   "cell_type": "code",
   "execution_count": 255,
   "id": "33127236-d6b2-4841-87a3-6ffc2195006f",
   "metadata": {},
   "outputs": [],
   "source": [
    "# More sanity checks - with different IDs\n",
    "ACH_000008_All_data = final_deepcdr_data[final_deepcdr_data['Cell_line_ID'] == 'ACH-000008']"
   ]
  },
  {
   "cell_type": "code",
   "execution_count": 256,
   "id": "a9fb4c32-4522-437f-9830-3a0888249c17",
   "metadata": {},
   "outputs": [
    {
     "data": {
      "text/html": [
       "<div>\n",
       "<style scoped>\n",
       "    .dataframe tbody tr th:only-of-type {\n",
       "        vertical-align: middle;\n",
       "    }\n",
       "\n",
       "    .dataframe tbody tr th {\n",
       "        vertical-align: top;\n",
       "    }\n",
       "\n",
       "    .dataframe thead th {\n",
       "        text-align: right;\n",
       "    }\n",
       "</style>\n",
       "<table border=\"1\" class=\"dataframe\">\n",
       "  <thead>\n",
       "    <tr style=\"text-align: right;\">\n",
       "      <th></th>\n",
       "      <th>Cell_line_ID</th>\n",
       "      <th>Pubchem_ID</th>\n",
       "      <th>Response</th>\n",
       "      <th>TCGA_cancer_type</th>\n",
       "      <th>LASP1_gexpr</th>\n",
       "      <th>HOXA11_gexpr</th>\n",
       "      <th>CREBBP_gexpr</th>\n",
       "      <th>ETV1_gexpr</th>\n",
       "      <th>GAS7_gexpr</th>\n",
       "      <th>CD79B_gexpr</th>\n",
       "      <th>...</th>\n",
       "      <th>MTCP1.23:154293902_mut</th>\n",
       "      <th>MTCP1.23:154293909_mut</th>\n",
       "      <th>MTCP1.23:154293951_mut</th>\n",
       "      <th>MTCP1.23:154293978_mut</th>\n",
       "      <th>MTCP1.23:154294034_mut</th>\n",
       "      <th>MTCP1.23:154294203_mut</th>\n",
       "      <th>MTCP1.23:154294207_mut</th>\n",
       "      <th>MTCP1.23:154294278_mut</th>\n",
       "      <th>MTCP1.23:154294279_mut</th>\n",
       "      <th>MTCP1.23:154298967_mut</th>\n",
       "    </tr>\n",
       "  </thead>\n",
       "  <tbody>\n",
       "    <tr>\n",
       "      <th>2</th>\n",
       "      <td>ACH-000008</td>\n",
       "      <td>176870</td>\n",
       "      <td>2.557837</td>\n",
       "      <td>SKCM</td>\n",
       "      <td>6.312338</td>\n",
       "      <td>1.182692</td>\n",
       "      <td>3.440952</td>\n",
       "      <td>4.317594</td>\n",
       "      <td>7.650836</td>\n",
       "      <td>0.176323</td>\n",
       "      <td>...</td>\n",
       "      <td>0</td>\n",
       "      <td>0</td>\n",
       "      <td>0</td>\n",
       "      <td>0</td>\n",
       "      <td>0</td>\n",
       "      <td>0</td>\n",
       "      <td>0</td>\n",
       "      <td>0</td>\n",
       "      <td>0</td>\n",
       "      <td>0</td>\n",
       "    </tr>\n",
       "    <tr>\n",
       "      <th>170</th>\n",
       "      <td>ACH-000008</td>\n",
       "      <td>65110</td>\n",
       "      <td>5.794284</td>\n",
       "      <td>SKCM</td>\n",
       "      <td>6.312338</td>\n",
       "      <td>1.182692</td>\n",
       "      <td>3.440952</td>\n",
       "      <td>4.317594</td>\n",
       "      <td>7.650836</td>\n",
       "      <td>0.176323</td>\n",
       "      <td>...</td>\n",
       "      <td>0</td>\n",
       "      <td>0</td>\n",
       "      <td>0</td>\n",
       "      <td>0</td>\n",
       "      <td>0</td>\n",
       "      <td>0</td>\n",
       "      <td>0</td>\n",
       "      <td>0</td>\n",
       "      <td>0</td>\n",
       "      <td>0</td>\n",
       "    </tr>\n",
       "    <tr>\n",
       "      <th>584</th>\n",
       "      <td>ACH-000008</td>\n",
       "      <td>6710780</td>\n",
       "      <td>-4.709585</td>\n",
       "      <td>SKCM</td>\n",
       "      <td>6.312338</td>\n",
       "      <td>1.182692</td>\n",
       "      <td>3.440952</td>\n",
       "      <td>4.317594</td>\n",
       "      <td>7.650836</td>\n",
       "      <td>0.176323</td>\n",
       "      <td>...</td>\n",
       "      <td>0</td>\n",
       "      <td>0</td>\n",
       "      <td>0</td>\n",
       "      <td>0</td>\n",
       "      <td>0</td>\n",
       "      <td>0</td>\n",
       "      <td>0</td>\n",
       "      <td>0</td>\n",
       "      <td>0</td>\n",
       "      <td>0</td>\n",
       "    </tr>\n",
       "    <tr>\n",
       "      <th>1003</th>\n",
       "      <td>ACH-000008</td>\n",
       "      <td>84691</td>\n",
       "      <td>1.219886</td>\n",
       "      <td>SKCM</td>\n",
       "      <td>6.312338</td>\n",
       "      <td>1.182692</td>\n",
       "      <td>3.440952</td>\n",
       "      <td>4.317594</td>\n",
       "      <td>7.650836</td>\n",
       "      <td>0.176323</td>\n",
       "      <td>...</td>\n",
       "      <td>0</td>\n",
       "      <td>0</td>\n",
       "      <td>0</td>\n",
       "      <td>0</td>\n",
       "      <td>0</td>\n",
       "      <td>0</td>\n",
       "      <td>0</td>\n",
       "      <td>0</td>\n",
       "      <td>0</td>\n",
       "      <td>0</td>\n",
       "    </tr>\n",
       "    <tr>\n",
       "      <th>1422</th>\n",
       "      <td>ACH-000008</td>\n",
       "      <td>6253</td>\n",
       "      <td>-0.078097</td>\n",
       "      <td>SKCM</td>\n",
       "      <td>6.312338</td>\n",
       "      <td>1.182692</td>\n",
       "      <td>3.440952</td>\n",
       "      <td>4.317594</td>\n",
       "      <td>7.650836</td>\n",
       "      <td>0.176323</td>\n",
       "      <td>...</td>\n",
       "      <td>0</td>\n",
       "      <td>0</td>\n",
       "      <td>0</td>\n",
       "      <td>0</td>\n",
       "      <td>0</td>\n",
       "      <td>0</td>\n",
       "      <td>0</td>\n",
       "      <td>0</td>\n",
       "      <td>0</td>\n",
       "      <td>0</td>\n",
       "    </tr>\n",
       "    <tr>\n",
       "      <th>...</th>\n",
       "      <td>...</td>\n",
       "      <td>...</td>\n",
       "      <td>...</td>\n",
       "      <td>...</td>\n",
       "      <td>...</td>\n",
       "      <td>...</td>\n",
       "      <td>...</td>\n",
       "      <td>...</td>\n",
       "      <td>...</td>\n",
       "      <td>...</td>\n",
       "      <td>...</td>\n",
       "      <td>...</td>\n",
       "      <td>...</td>\n",
       "      <td>...</td>\n",
       "      <td>...</td>\n",
       "      <td>...</td>\n",
       "      <td>...</td>\n",
       "      <td>...</td>\n",
       "      <td>...</td>\n",
       "      <td>...</td>\n",
       "      <td>...</td>\n",
       "    </tr>\n",
       "    <tr>\n",
       "      <th>93443</th>\n",
       "      <td>ACH-000008</td>\n",
       "      <td>4261</td>\n",
       "      <td>-0.811075</td>\n",
       "      <td>SKCM</td>\n",
       "      <td>6.312338</td>\n",
       "      <td>1.182692</td>\n",
       "      <td>3.440952</td>\n",
       "      <td>4.317594</td>\n",
       "      <td>7.650836</td>\n",
       "      <td>0.176323</td>\n",
       "      <td>...</td>\n",
       "      <td>0</td>\n",
       "      <td>0</td>\n",
       "      <td>0</td>\n",
       "      <td>0</td>\n",
       "      <td>0</td>\n",
       "      <td>0</td>\n",
       "      <td>0</td>\n",
       "      <td>0</td>\n",
       "      <td>0</td>\n",
       "      <td>0</td>\n",
       "    </tr>\n",
       "    <tr>\n",
       "      <th>93617</th>\n",
       "      <td>ACH-000008</td>\n",
       "      <td>7251185</td>\n",
       "      <td>2.518857</td>\n",
       "      <td>SKCM</td>\n",
       "      <td>6.312338</td>\n",
       "      <td>1.182692</td>\n",
       "      <td>3.440952</td>\n",
       "      <td>4.317594</td>\n",
       "      <td>7.650836</td>\n",
       "      <td>0.176323</td>\n",
       "      <td>...</td>\n",
       "      <td>0</td>\n",
       "      <td>0</td>\n",
       "      <td>0</td>\n",
       "      <td>0</td>\n",
       "      <td>0</td>\n",
       "      <td>0</td>\n",
       "      <td>0</td>\n",
       "      <td>0</td>\n",
       "      <td>0</td>\n",
       "      <td>0</td>\n",
       "    </tr>\n",
       "    <tr>\n",
       "      <th>93791</th>\n",
       "      <td>ACH-000008</td>\n",
       "      <td>462382</td>\n",
       "      <td>-3.346304</td>\n",
       "      <td>SKCM</td>\n",
       "      <td>6.312338</td>\n",
       "      <td>1.182692</td>\n",
       "      <td>3.440952</td>\n",
       "      <td>4.317594</td>\n",
       "      <td>7.650836</td>\n",
       "      <td>0.176323</td>\n",
       "      <td>...</td>\n",
       "      <td>0</td>\n",
       "      <td>0</td>\n",
       "      <td>0</td>\n",
       "      <td>0</td>\n",
       "      <td>0</td>\n",
       "      <td>0</td>\n",
       "      <td>0</td>\n",
       "      <td>0</td>\n",
       "      <td>0</td>\n",
       "      <td>0</td>\n",
       "    </tr>\n",
       "    <tr>\n",
       "      <th>93966</th>\n",
       "      <td>ACH-000008</td>\n",
       "      <td>11626927</td>\n",
       "      <td>4.295117</td>\n",
       "      <td>SKCM</td>\n",
       "      <td>6.312338</td>\n",
       "      <td>1.182692</td>\n",
       "      <td>3.440952</td>\n",
       "      <td>4.317594</td>\n",
       "      <td>7.650836</td>\n",
       "      <td>0.176323</td>\n",
       "      <td>...</td>\n",
       "      <td>0</td>\n",
       "      <td>0</td>\n",
       "      <td>0</td>\n",
       "      <td>0</td>\n",
       "      <td>0</td>\n",
       "      <td>0</td>\n",
       "      <td>0</td>\n",
       "      <td>0</td>\n",
       "      <td>0</td>\n",
       "      <td>0</td>\n",
       "    </tr>\n",
       "    <tr>\n",
       "      <th>94141</th>\n",
       "      <td>ACH-000008</td>\n",
       "      <td>9907093</td>\n",
       "      <td>1.875778</td>\n",
       "      <td>SKCM</td>\n",
       "      <td>6.312338</td>\n",
       "      <td>1.182692</td>\n",
       "      <td>3.440952</td>\n",
       "      <td>4.317594</td>\n",
       "      <td>7.650836</td>\n",
       "      <td>0.176323</td>\n",
       "      <td>...</td>\n",
       "      <td>0</td>\n",
       "      <td>0</td>\n",
       "      <td>0</td>\n",
       "      <td>0</td>\n",
       "      <td>0</td>\n",
       "      <td>0</td>\n",
       "      <td>0</td>\n",
       "      <td>0</td>\n",
       "      <td>0</td>\n",
       "      <td>0</td>\n",
       "    </tr>\n",
       "  </tbody>\n",
       "</table>\n",
       "<p>234 rows × 36182 columns</p>\n",
       "</div>"
      ],
      "text/plain": [
       "      Cell_line_ID Pubchem_ID  Response TCGA_cancer_type  LASP1_gexpr  \\\n",
       "2       ACH-000008     176870  2.557837             SKCM     6.312338   \n",
       "170     ACH-000008      65110  5.794284             SKCM     6.312338   \n",
       "584     ACH-000008    6710780 -4.709585             SKCM     6.312338   \n",
       "1003    ACH-000008      84691  1.219886             SKCM     6.312338   \n",
       "1422    ACH-000008       6253 -0.078097             SKCM     6.312338   \n",
       "...            ...        ...       ...              ...          ...   \n",
       "93443   ACH-000008       4261 -0.811075             SKCM     6.312338   \n",
       "93617   ACH-000008    7251185  2.518857             SKCM     6.312338   \n",
       "93791   ACH-000008     462382 -3.346304             SKCM     6.312338   \n",
       "93966   ACH-000008   11626927  4.295117             SKCM     6.312338   \n",
       "94141   ACH-000008    9907093  1.875778             SKCM     6.312338   \n",
       "\n",
       "       HOXA11_gexpr  CREBBP_gexpr  ETV1_gexpr  GAS7_gexpr  CD79B_gexpr  ...  \\\n",
       "2          1.182692      3.440952    4.317594    7.650836     0.176323  ...   \n",
       "170        1.182692      3.440952    4.317594    7.650836     0.176323  ...   \n",
       "584        1.182692      3.440952    4.317594    7.650836     0.176323  ...   \n",
       "1003       1.182692      3.440952    4.317594    7.650836     0.176323  ...   \n",
       "1422       1.182692      3.440952    4.317594    7.650836     0.176323  ...   \n",
       "...             ...           ...         ...         ...          ...  ...   \n",
       "93443      1.182692      3.440952    4.317594    7.650836     0.176323  ...   \n",
       "93617      1.182692      3.440952    4.317594    7.650836     0.176323  ...   \n",
       "93791      1.182692      3.440952    4.317594    7.650836     0.176323  ...   \n",
       "93966      1.182692      3.440952    4.317594    7.650836     0.176323  ...   \n",
       "94141      1.182692      3.440952    4.317594    7.650836     0.176323  ...   \n",
       "\n",
       "       MTCP1.23:154293902_mut  MTCP1.23:154293909_mut  MTCP1.23:154293951_mut  \\\n",
       "2                           0                       0                       0   \n",
       "170                         0                       0                       0   \n",
       "584                         0                       0                       0   \n",
       "1003                        0                       0                       0   \n",
       "1422                        0                       0                       0   \n",
       "...                       ...                     ...                     ...   \n",
       "93443                       0                       0                       0   \n",
       "93617                       0                       0                       0   \n",
       "93791                       0                       0                       0   \n",
       "93966                       0                       0                       0   \n",
       "94141                       0                       0                       0   \n",
       "\n",
       "       MTCP1.23:154293978_mut  MTCP1.23:154294034_mut  MTCP1.23:154294203_mut  \\\n",
       "2                           0                       0                       0   \n",
       "170                         0                       0                       0   \n",
       "584                         0                       0                       0   \n",
       "1003                        0                       0                       0   \n",
       "1422                        0                       0                       0   \n",
       "...                       ...                     ...                     ...   \n",
       "93443                       0                       0                       0   \n",
       "93617                       0                       0                       0   \n",
       "93791                       0                       0                       0   \n",
       "93966                       0                       0                       0   \n",
       "94141                       0                       0                       0   \n",
       "\n",
       "       MTCP1.23:154294207_mut  MTCP1.23:154294278_mut  MTCP1.23:154294279_mut  \\\n",
       "2                           0                       0                       0   \n",
       "170                         0                       0                       0   \n",
       "584                         0                       0                       0   \n",
       "1003                        0                       0                       0   \n",
       "1422                        0                       0                       0   \n",
       "...                       ...                     ...                     ...   \n",
       "93443                       0                       0                       0   \n",
       "93617                       0                       0                       0   \n",
       "93791                       0                       0                       0   \n",
       "93966                       0                       0                       0   \n",
       "94141                       0                       0                       0   \n",
       "\n",
       "       MTCP1.23:154298967_mut  \n",
       "2                           0  \n",
       "170                         0  \n",
       "584                         0  \n",
       "1003                        0  \n",
       "1422                        0  \n",
       "...                       ...  \n",
       "93443                       0  \n",
       "93617                       0  \n",
       "93791                       0  \n",
       "93966                       0  \n",
       "94141                       0  \n",
       "\n",
       "[234 rows x 36182 columns]"
      ]
     },
     "execution_count": 256,
     "metadata": {},
     "output_type": "execute_result"
    }
   ],
   "source": [
    "ACH_000008_All_data"
   ]
  },
  {
   "cell_type": "code",
   "execution_count": 257,
   "id": "23720487-9d0a-42ce-8ac3-be5ad0a70cdf",
   "metadata": {},
   "outputs": [
    {
     "data": {
      "text/plain": [
       "LASP1_gexpr               6.312338\n",
       "HOXA11_gexpr              1.182692\n",
       "CREBBP_gexpr              3.440952\n",
       "ETV1_gexpr                4.317594\n",
       "GAS7_gexpr                7.650836\n",
       "                            ...   \n",
       "MTCP1.23:154294203_mut    0.000000\n",
       "MTCP1.23:154294207_mut    0.000000\n",
       "MTCP1.23:154294278_mut    0.000000\n",
       "MTCP1.23:154294279_mut    0.000000\n",
       "MTCP1.23:154298967_mut    0.000000\n",
       "Length: 36178, dtype: float64"
      ]
     },
     "execution_count": 257,
     "metadata": {},
     "output_type": "execute_result"
    }
   ],
   "source": [
    "ACH_000008_All_data.iloc[:, 4:].mean(axis = 0) # loos the same, should be okay"
   ]
  },
  {
   "cell_type": "code",
   "execution_count": 258,
   "id": "1afefc2a-eb7d-4e1d-bcd6-021eb03b4ce6",
   "metadata": {},
   "outputs": [
    {
     "data": {
      "text/html": [
       "<div>\n",
       "<style scoped>\n",
       "    .dataframe tbody tr th:only-of-type {\n",
       "        vertical-align: middle;\n",
       "    }\n",
       "\n",
       "    .dataframe tbody tr th {\n",
       "        vertical-align: top;\n",
       "    }\n",
       "\n",
       "    .dataframe thead th {\n",
       "        text-align: right;\n",
       "    }\n",
       "</style>\n",
       "<table border=\"1\" class=\"dataframe\">\n",
       "  <thead>\n",
       "    <tr style=\"text-align: right;\">\n",
       "      <th></th>\n",
       "      <th>Cell_line_ID</th>\n",
       "      <th>Pubchem_ID</th>\n",
       "      <th>Response</th>\n",
       "      <th>TCGA_cancer_type</th>\n",
       "    </tr>\n",
       "  </thead>\n",
       "  <tbody>\n",
       "    <tr>\n",
       "      <th>2</th>\n",
       "      <td>ACH-000008</td>\n",
       "      <td>176870</td>\n",
       "      <td>2.557837</td>\n",
       "      <td>SKCM</td>\n",
       "    </tr>\n",
       "    <tr>\n",
       "      <th>170</th>\n",
       "      <td>ACH-000008</td>\n",
       "      <td>65110</td>\n",
       "      <td>5.794284</td>\n",
       "      <td>SKCM</td>\n",
       "    </tr>\n",
       "    <tr>\n",
       "      <th>584</th>\n",
       "      <td>ACH-000008</td>\n",
       "      <td>6710780</td>\n",
       "      <td>-4.709585</td>\n",
       "      <td>SKCM</td>\n",
       "    </tr>\n",
       "    <tr>\n",
       "      <th>1003</th>\n",
       "      <td>ACH-000008</td>\n",
       "      <td>84691</td>\n",
       "      <td>1.219886</td>\n",
       "      <td>SKCM</td>\n",
       "    </tr>\n",
       "    <tr>\n",
       "      <th>1422</th>\n",
       "      <td>ACH-000008</td>\n",
       "      <td>6253</td>\n",
       "      <td>-0.078097</td>\n",
       "      <td>SKCM</td>\n",
       "    </tr>\n",
       "    <tr>\n",
       "      <th>...</th>\n",
       "      <td>...</td>\n",
       "      <td>...</td>\n",
       "      <td>...</td>\n",
       "      <td>...</td>\n",
       "    </tr>\n",
       "    <tr>\n",
       "      <th>93443</th>\n",
       "      <td>ACH-000008</td>\n",
       "      <td>4261</td>\n",
       "      <td>-0.811075</td>\n",
       "      <td>SKCM</td>\n",
       "    </tr>\n",
       "    <tr>\n",
       "      <th>93617</th>\n",
       "      <td>ACH-000008</td>\n",
       "      <td>7251185</td>\n",
       "      <td>2.518857</td>\n",
       "      <td>SKCM</td>\n",
       "    </tr>\n",
       "    <tr>\n",
       "      <th>93791</th>\n",
       "      <td>ACH-000008</td>\n",
       "      <td>462382</td>\n",
       "      <td>-3.346304</td>\n",
       "      <td>SKCM</td>\n",
       "    </tr>\n",
       "    <tr>\n",
       "      <th>93966</th>\n",
       "      <td>ACH-000008</td>\n",
       "      <td>11626927</td>\n",
       "      <td>4.295117</td>\n",
       "      <td>SKCM</td>\n",
       "    </tr>\n",
       "    <tr>\n",
       "      <th>94141</th>\n",
       "      <td>ACH-000008</td>\n",
       "      <td>9907093</td>\n",
       "      <td>1.875778</td>\n",
       "      <td>SKCM</td>\n",
       "    </tr>\n",
       "  </tbody>\n",
       "</table>\n",
       "<p>234 rows × 4 columns</p>\n",
       "</div>"
      ],
      "text/plain": [
       "      Cell_line_ID Pubchem_ID  Response TCGA_cancer_type\n",
       "2       ACH-000008     176870  2.557837             SKCM\n",
       "170     ACH-000008      65110  5.794284             SKCM\n",
       "584     ACH-000008    6710780 -4.709585             SKCM\n",
       "1003    ACH-000008      84691  1.219886             SKCM\n",
       "1422    ACH-000008       6253 -0.078097             SKCM\n",
       "...            ...        ...       ...              ...\n",
       "93443   ACH-000008       4261 -0.811075             SKCM\n",
       "93617   ACH-000008    7251185  2.518857             SKCM\n",
       "93791   ACH-000008     462382 -3.346304             SKCM\n",
       "93966   ACH-000008   11626927  4.295117             SKCM\n",
       "94141   ACH-000008    9907093  1.875778             SKCM\n",
       "\n",
       "[234 rows x 4 columns]"
      ]
     },
     "execution_count": 258,
     "metadata": {},
     "output_type": "execute_result"
    }
   ],
   "source": [
    "# what about the response data? - looks like a match here\n",
    "DeepCDR_data[DeepCDR_data['Cell_line_ID'] == 'ACH-000008']"
   ]
  },
  {
   "cell_type": "code",
   "execution_count": 223,
   "id": "82f44d8d-39a9-4526-9331-6fd9421826d0",
   "metadata": {},
   "outputs": [],
   "source": [
    "# Let's separately look at the gene expression, mutation and methylation data"
   ]
  },
  {
   "cell_type": "code",
   "execution_count": 259,
   "id": "d7c7374c-82f6-4cb2-8bc9-853fdb5fa2da",
   "metadata": {},
   "outputs": [
    {
     "data": {
      "text/html": [
       "<div>\n",
       "<style scoped>\n",
       "    .dataframe tbody tr th:only-of-type {\n",
       "        vertical-align: middle;\n",
       "    }\n",
       "\n",
       "    .dataframe tbody tr th {\n",
       "        vertical-align: top;\n",
       "    }\n",
       "\n",
       "    .dataframe thead th {\n",
       "        text-align: right;\n",
       "    }\n",
       "</style>\n",
       "<table border=\"1\" class=\"dataframe\">\n",
       "  <thead>\n",
       "    <tr style=\"text-align: right;\">\n",
       "      <th></th>\n",
       "      <th>Cell_line_ID</th>\n",
       "      <th>LASP1_gexpr</th>\n",
       "      <th>HOXA11_gexpr</th>\n",
       "      <th>CREBBP_gexpr</th>\n",
       "      <th>ETV1_gexpr</th>\n",
       "      <th>GAS7_gexpr</th>\n",
       "      <th>CD79B_gexpr</th>\n",
       "      <th>PAX7_gexpr</th>\n",
       "      <th>BTK_gexpr</th>\n",
       "      <th>BRCA1_gexpr</th>\n",
       "      <th>...</th>\n",
       "      <th>NCKIPSD_gexpr</th>\n",
       "      <th>MTCP1_gexpr</th>\n",
       "      <th>DDX3X_gexpr</th>\n",
       "      <th>FANCG_gexpr</th>\n",
       "      <th>SSX2_gexpr</th>\n",
       "      <th>ETV5_gexpr</th>\n",
       "      <th>CEBPA_gexpr</th>\n",
       "      <th>LSM14A_gexpr</th>\n",
       "      <th>CUX1_gexpr</th>\n",
       "      <th>C15orf65_gexpr</th>\n",
       "    </tr>\n",
       "  </thead>\n",
       "  <tbody>\n",
       "    <tr>\n",
       "      <th>402</th>\n",
       "      <td>ACH-000008</td>\n",
       "      <td>6.312338</td>\n",
       "      <td>1.182692</td>\n",
       "      <td>3.440952</td>\n",
       "      <td>4.317594</td>\n",
       "      <td>7.650836</td>\n",
       "      <td>0.176323</td>\n",
       "      <td>0.0</td>\n",
       "      <td>0.263034</td>\n",
       "      <td>4.297925</td>\n",
       "      <td>...</td>\n",
       "      <td>3.950468</td>\n",
       "      <td>4.270529</td>\n",
       "      <td>7.454916</td>\n",
       "      <td>4.781884</td>\n",
       "      <td>5.821965</td>\n",
       "      <td>6.035404</td>\n",
       "      <td>0.0</td>\n",
       "      <td>6.181103</td>\n",
       "      <td>4.084915</td>\n",
       "      <td>1.443607</td>\n",
       "    </tr>\n",
       "  </tbody>\n",
       "</table>\n",
       "<p>1 rows × 698 columns</p>\n",
       "</div>"
      ],
      "text/plain": [
       "    Cell_line_ID  LASP1_gexpr  HOXA11_gexpr  CREBBP_gexpr  ETV1_gexpr  \\\n",
       "402   ACH-000008     6.312338      1.182692      3.440952    4.317594   \n",
       "\n",
       "     GAS7_gexpr  CD79B_gexpr  PAX7_gexpr  BTK_gexpr  BRCA1_gexpr  ...  \\\n",
       "402    7.650836     0.176323         0.0   0.263034     4.297925  ...   \n",
       "\n",
       "     NCKIPSD_gexpr  MTCP1_gexpr  DDX3X_gexpr  FANCG_gexpr  SSX2_gexpr  \\\n",
       "402       3.950468     4.270529     7.454916     4.781884    5.821965   \n",
       "\n",
       "     ETV5_gexpr  CEBPA_gexpr  LSM14A_gexpr  CUX1_gexpr  C15orf65_gexpr  \n",
       "402    6.035404          0.0      6.181103    4.084915        1.443607  \n",
       "\n",
       "[1 rows x 698 columns]"
      ]
     },
     "execution_count": 259,
     "metadata": {},
     "output_type": "execute_result"
    }
   ],
   "source": [
    "gexpr_feature_alt[gexpr_feature_alt['Cell_line_ID'] == 'ACH-000008']"
   ]
  },
  {
   "cell_type": "code",
   "execution_count": 260,
   "id": "ac6d36cb-f8f0-497b-97f2-8f8c3dba4081",
   "metadata": {},
   "outputs": [],
   "source": [
    "# Extract the columns in the final dataset that corresponds to the gene expression columns only - There's 697 gene expression columns\n",
    "ACH_000008_All_data_gexpr_columns = ACH_000008_All_data.iloc[:, 4:4+697]"
   ]
  },
  {
   "cell_type": "code",
   "execution_count": 261,
   "id": "a0d9680c-a1bc-42a1-bd49-fd4ac2d4243c",
   "metadata": {},
   "outputs": [
    {
     "data": {
      "text/plain": [
       "LASP1_gexpr       6.312338\n",
       "HOXA11_gexpr      1.182692\n",
       "CREBBP_gexpr      3.440952\n",
       "ETV1_gexpr        4.317594\n",
       "GAS7_gexpr        7.650836\n",
       "                    ...   \n",
       "ETV5_gexpr        6.035404\n",
       "CEBPA_gexpr       0.000000\n",
       "LSM14A_gexpr      6.181103\n",
       "CUX1_gexpr        4.084915\n",
       "C15orf65_gexpr    1.443607\n",
       "Length: 697, dtype: float64"
      ]
     },
     "execution_count": 261,
     "metadata": {},
     "output_type": "execute_result"
    }
   ],
   "source": [
    "# get the means of these columns and see if they match with above\n",
    "ACH_000008_All_data_gexpr_columns.mean()"
   ]
  },
  {
   "cell_type": "code",
   "execution_count": 233,
   "id": "105bcc89-d782-4c0c-9015-426108859ea8",
   "metadata": {},
   "outputs": [],
   "source": [
    "# They match"
   ]
  },
  {
   "cell_type": "code",
   "execution_count": 262,
   "id": "2040bb23-e6ea-4d9c-914b-12eab604fe30",
   "metadata": {},
   "outputs": [
    {
     "data": {
      "text/html": [
       "<div>\n",
       "<style scoped>\n",
       "    .dataframe tbody tr th:only-of-type {\n",
       "        vertical-align: middle;\n",
       "    }\n",
       "\n",
       "    .dataframe tbody tr th {\n",
       "        vertical-align: top;\n",
       "    }\n",
       "\n",
       "    .dataframe thead th {\n",
       "        text-align: right;\n",
       "    }\n",
       "</style>\n",
       "<table border=\"1\" class=\"dataframe\">\n",
       "  <thead>\n",
       "    <tr style=\"text-align: right;\">\n",
       "      <th></th>\n",
       "      <th>Cell_line_ID</th>\n",
       "      <th>SKI_1_2159133_2160133_methyl</th>\n",
       "      <th>TNFRSF14_1_2486803_2487803_methyl</th>\n",
       "      <th>PRDM16_1_2984741_2985741_methyl</th>\n",
       "      <th>RPL22_1_6259679_6260679_methyl</th>\n",
       "      <th>CAMTA1_1_6844383_6845383_methyl</th>\n",
       "      <th>MTOR_1_11322608_11323608_methyl</th>\n",
       "      <th>PRDM2_1_14025734_14026734_methyl</th>\n",
       "      <th>PRDM2_1_14074875_14075875_methyl</th>\n",
       "      <th>CASP9_1_15850940_15851940_methyl</th>\n",
       "      <th>...</th>\n",
       "      <th>BCORL1_X_129138163_129139163_methyl</th>\n",
       "      <th>ELF4_X_129244475_129245475_methyl</th>\n",
       "      <th>ELF4_X_129244688_129245688_methyl</th>\n",
       "      <th>GPC3_X_133119673_133120673_methyl</th>\n",
       "      <th>ATP2B3_X_152800579_152801579_methyl</th>\n",
       "      <th>FLNA_X_153603006_153604006_methyl</th>\n",
       "      <th>RPL10_X_153625405_153626405_methyl</th>\n",
       "      <th>RPL10_X_153625712_153626712_methyl</th>\n",
       "      <th>RPL10_X_153625837_153626837_methyl</th>\n",
       "      <th>MTCP1_X_154299547_154300547_methyl</th>\n",
       "    </tr>\n",
       "  </thead>\n",
       "  <tbody>\n",
       "    <tr>\n",
       "      <th>290</th>\n",
       "      <td>ACH-000008</td>\n",
       "      <td>0.00046</td>\n",
       "      <td>0.17509</td>\n",
       "      <td>0.06748</td>\n",
       "      <td>0.16667</td>\n",
       "      <td>0.0</td>\n",
       "      <td>0.29591</td>\n",
       "      <td>0.00943</td>\n",
       "      <td>0.0</td>\n",
       "      <td>0.00329</td>\n",
       "      <td>...</td>\n",
       "      <td>1.0</td>\n",
       "      <td>0.51415</td>\n",
       "      <td>0.60747</td>\n",
       "      <td>0.50376</td>\n",
       "      <td>0.63031</td>\n",
       "      <td>0.66341</td>\n",
       "      <td>0.06985</td>\n",
       "      <td>0.02669</td>\n",
       "      <td>0.02669</td>\n",
       "      <td>0.01551</td>\n",
       "    </tr>\n",
       "  </tbody>\n",
       "</table>\n",
       "<p>1 rows × 809 columns</p>\n",
       "</div>"
      ],
      "text/plain": [
       "    Cell_line_ID  SKI_1_2159133_2160133_methyl  \\\n",
       "290   ACH-000008                       0.00046   \n",
       "\n",
       "     TNFRSF14_1_2486803_2487803_methyl  PRDM16_1_2984741_2985741_methyl  \\\n",
       "290                            0.17509                          0.06748   \n",
       "\n",
       "     RPL22_1_6259679_6260679_methyl  CAMTA1_1_6844383_6845383_methyl  \\\n",
       "290                         0.16667                              0.0   \n",
       "\n",
       "     MTOR_1_11322608_11323608_methyl  PRDM2_1_14025734_14026734_methyl  \\\n",
       "290                          0.29591                           0.00943   \n",
       "\n",
       "     PRDM2_1_14074875_14075875_methyl  CASP9_1_15850940_15851940_methyl  ...  \\\n",
       "290                               0.0                           0.00329  ...   \n",
       "\n",
       "     BCORL1_X_129138163_129139163_methyl  ELF4_X_129244475_129245475_methyl  \\\n",
       "290                                  1.0                            0.51415   \n",
       "\n",
       "     ELF4_X_129244688_129245688_methyl  GPC3_X_133119673_133120673_methyl  \\\n",
       "290                            0.60747                            0.50376   \n",
       "\n",
       "     ATP2B3_X_152800579_152801579_methyl  FLNA_X_153603006_153604006_methyl  \\\n",
       "290                              0.63031                            0.66341   \n",
       "\n",
       "     RPL10_X_153625405_153626405_methyl  RPL10_X_153625712_153626712_methyl  \\\n",
       "290                             0.06985                             0.02669   \n",
       "\n",
       "     RPL10_X_153625837_153626837_methyl  MTCP1_X_154299547_154300547_methyl  \n",
       "290                             0.02669                             0.01551  \n",
       "\n",
       "[1 rows x 809 columns]"
      ]
     },
     "execution_count": 262,
     "metadata": {},
     "output_type": "execute_result"
    }
   ],
   "source": [
    "methylation_feature_alt[methylation_feature_alt['Cell_line_ID'] == 'ACH-000008']"
   ]
  },
  {
   "cell_type": "code",
   "execution_count": 263,
   "id": "1aefd22d-42b0-4ec2-942f-774c58612453",
   "metadata": {},
   "outputs": [],
   "source": [
    "# Extract the columns in the final dataset that corresponds to the methylation columns only - There's 808 methylation columns\n",
    "ACH_000008_All_data_methyl_columns = ACH_000008_All_data.iloc[:, 4+697: 4+697+808]"
   ]
  },
  {
   "cell_type": "code",
   "execution_count": 264,
   "id": "a5cc40c6-86d6-419b-a763-90fec92a23af",
   "metadata": {},
   "outputs": [
    {
     "data": {
      "text/plain": [
       "SKI_1_2159133_2160133_methyl          0.00046\n",
       "TNFRSF14_1_2486803_2487803_methyl     0.17509\n",
       "PRDM16_1_2984741_2985741_methyl       0.06748\n",
       "RPL22_1_6259679_6260679_methyl        0.16667\n",
       "CAMTA1_1_6844383_6845383_methyl       0.00000\n",
       "                                       ...   \n",
       "FLNA_X_153603006_153604006_methyl     0.66341\n",
       "RPL10_X_153625405_153626405_methyl    0.06985\n",
       "RPL10_X_153625712_153626712_methyl    0.02669\n",
       "RPL10_X_153625837_153626837_methyl    0.02669\n",
       "MTCP1_X_154299547_154300547_methyl    0.01551\n",
       "Length: 808, dtype: float64"
      ]
     },
     "execution_count": 264,
     "metadata": {},
     "output_type": "execute_result"
    }
   ],
   "source": [
    "ACH_000008_All_data_methyl_columns.mean()"
   ]
  },
  {
   "cell_type": "code",
   "execution_count": 239,
   "id": "609d7e6b-e6d4-48a5-bda5-973d4a4fb9d5",
   "metadata": {},
   "outputs": [],
   "source": [
    "# They match"
   ]
  },
  {
   "cell_type": "code",
   "execution_count": 266,
   "id": "da691714-92c6-400a-afc7-4e89c49a5f7b",
   "metadata": {},
   "outputs": [
    {
     "data": {
      "text/html": [
       "<div>\n",
       "<style scoped>\n",
       "    .dataframe tbody tr th:only-of-type {\n",
       "        vertical-align: middle;\n",
       "    }\n",
       "\n",
       "    .dataframe tbody tr th {\n",
       "        vertical-align: top;\n",
       "    }\n",
       "\n",
       "    .dataframe thead th {\n",
       "        text-align: right;\n",
       "    }\n",
       "</style>\n",
       "<table border=\"1\" class=\"dataframe\">\n",
       "  <thead>\n",
       "    <tr style=\"text-align: right;\">\n",
       "      <th></th>\n",
       "      <th>Cell_line_ID</th>\n",
       "      <th>TNFRSF14.1:2488170_mut</th>\n",
       "      <th>TNFRSF14.1:2489805_mut</th>\n",
       "      <th>TNFRSF14.1:2489824_mut</th>\n",
       "      <th>TNFRSF14.1:2489856_mut</th>\n",
       "      <th>TNFRSF14.1:2489868_mut</th>\n",
       "      <th>TNFRSF14.1:2491328_mut</th>\n",
       "      <th>TNFRSF14.1:2491335_mut</th>\n",
       "      <th>TNFRSF14.1:2491373_mut</th>\n",
       "      <th>TNFRSF14.1:2491403_mut</th>\n",
       "      <th>...</th>\n",
       "      <th>MTCP1.23:154293902_mut</th>\n",
       "      <th>MTCP1.23:154293909_mut</th>\n",
       "      <th>MTCP1.23:154293951_mut</th>\n",
       "      <th>MTCP1.23:154293978_mut</th>\n",
       "      <th>MTCP1.23:154294034_mut</th>\n",
       "      <th>MTCP1.23:154294203_mut</th>\n",
       "      <th>MTCP1.23:154294207_mut</th>\n",
       "      <th>MTCP1.23:154294278_mut</th>\n",
       "      <th>MTCP1.23:154294279_mut</th>\n",
       "      <th>MTCP1.23:154298967_mut</th>\n",
       "    </tr>\n",
       "  </thead>\n",
       "  <tbody>\n",
       "    <tr>\n",
       "      <th>402</th>\n",
       "      <td>ACH-000008</td>\n",
       "      <td>0</td>\n",
       "      <td>0</td>\n",
       "      <td>0</td>\n",
       "      <td>0</td>\n",
       "      <td>0</td>\n",
       "      <td>0</td>\n",
       "      <td>0</td>\n",
       "      <td>0</td>\n",
       "      <td>0</td>\n",
       "      <td>...</td>\n",
       "      <td>0</td>\n",
       "      <td>0</td>\n",
       "      <td>0</td>\n",
       "      <td>0</td>\n",
       "      <td>0</td>\n",
       "      <td>0</td>\n",
       "      <td>0</td>\n",
       "      <td>0</td>\n",
       "      <td>0</td>\n",
       "      <td>0</td>\n",
       "    </tr>\n",
       "  </tbody>\n",
       "</table>\n",
       "<p>1 rows × 34674 columns</p>\n",
       "</div>"
      ],
      "text/plain": [
       "    Cell_line_ID  TNFRSF14.1:2488170_mut  TNFRSF14.1:2489805_mut  \\\n",
       "402   ACH-000008                       0                       0   \n",
       "\n",
       "     TNFRSF14.1:2489824_mut  TNFRSF14.1:2489856_mut  TNFRSF14.1:2489868_mut  \\\n",
       "402                       0                       0                       0   \n",
       "\n",
       "     TNFRSF14.1:2491328_mut  TNFRSF14.1:2491335_mut  TNFRSF14.1:2491373_mut  \\\n",
       "402                       0                       0                       0   \n",
       "\n",
       "     TNFRSF14.1:2491403_mut  ...  MTCP1.23:154293902_mut  \\\n",
       "402                       0  ...                       0   \n",
       "\n",
       "     MTCP1.23:154293909_mut  MTCP1.23:154293951_mut  MTCP1.23:154293978_mut  \\\n",
       "402                       0                       0                       0   \n",
       "\n",
       "     MTCP1.23:154294034_mut  MTCP1.23:154294203_mut  MTCP1.23:154294207_mut  \\\n",
       "402                       0                       0                       0   \n",
       "\n",
       "     MTCP1.23:154294278_mut  MTCP1.23:154294279_mut  MTCP1.23:154298967_mut  \n",
       "402                       0                       0                       0  \n",
       "\n",
       "[1 rows x 34674 columns]"
      ]
     },
     "execution_count": 266,
     "metadata": {},
     "output_type": "execute_result"
    }
   ],
   "source": [
    "# Do the same with the mutation data\n",
    "mutation_feature_alt[mutation_feature_alt['Cell_line_ID'] == 'ACH-000008']"
   ]
  },
  {
   "cell_type": "code",
   "execution_count": 267,
   "id": "33c215fb-0879-4355-b230-e0d9e264e7ef",
   "metadata": {},
   "outputs": [
    {
     "data": {
      "text/plain": [
       "0.0005191359270902431"
      ]
     },
     "execution_count": 267,
     "metadata": {},
     "output_type": "execute_result"
    }
   ],
   "source": [
    "mutation_feature_alt[mutation_feature_alt['Cell_line_ID'] == 'ACH-000008'].values[:,1:].mean()"
   ]
  },
  {
   "cell_type": "code",
   "execution_count": 268,
   "id": "ba56c8f7-4000-415a-ae49-4d68ddbd605a",
   "metadata": {},
   "outputs": [],
   "source": [
    "# Extract the columns in the final dataset that corresponds to the mutation columns only - There's 34673 mutation columns\n",
    "ACH_000008_All_data_methyl_columns = ACH_000008_All_data.iloc[:, 4+697+808: 4+697+808+34673]"
   ]
  },
  {
   "cell_type": "code",
   "execution_count": 269,
   "id": "a732cc96-e7bd-4e28-8f18-ac9ab52a6b21",
   "metadata": {},
   "outputs": [
    {
     "data": {
      "text/plain": [
       "0.0005191359270902431"
      ]
     },
     "execution_count": 269,
     "metadata": {},
     "output_type": "execute_result"
    }
   ],
   "source": [
    "ACH_000008_All_data_methyl_columns.mean().mean()"
   ]
  },
  {
   "cell_type": "code",
   "execution_count": 271,
   "id": "d476f64a-67f9-4982-8194-f1f67d735e1b",
   "metadata": {},
   "outputs": [],
   "source": [
    "################### More sanity checks ######################"
   ]
  },
  {
   "cell_type": "code",
   "execution_count": 272,
   "id": "a904a9e4-1fdd-4761-8255-b2fbad12533a",
   "metadata": {},
   "outputs": [],
   "source": [
    "# ACH-000697"
   ]
  },
  {
   "cell_type": "code",
   "execution_count": 273,
   "id": "7969d615-a09c-4764-a82c-42417b12d767",
   "metadata": {},
   "outputs": [],
   "source": [
    "# More sanity checks - with different IDs\n",
    "ACH_000697_All_data = final_deepcdr_data[final_deepcdr_data['Cell_line_ID'] == 'ACH-000697']"
   ]
  },
  {
   "cell_type": "code",
   "execution_count": 274,
   "id": "ce01a6ae-3ac3-4efc-8807-321b1f896652",
   "metadata": {},
   "outputs": [
    {
     "data": {
      "text/html": [
       "<div>\n",
       "<style scoped>\n",
       "    .dataframe tbody tr th:only-of-type {\n",
       "        vertical-align: middle;\n",
       "    }\n",
       "\n",
       "    .dataframe tbody tr th {\n",
       "        vertical-align: top;\n",
       "    }\n",
       "\n",
       "    .dataframe thead th {\n",
       "        text-align: right;\n",
       "    }\n",
       "</style>\n",
       "<table border=\"1\" class=\"dataframe\">\n",
       "  <thead>\n",
       "    <tr style=\"text-align: right;\">\n",
       "      <th></th>\n",
       "      <th>Cell_line_ID</th>\n",
       "      <th>Pubchem_ID</th>\n",
       "      <th>Response</th>\n",
       "      <th>TCGA_cancer_type</th>\n",
       "      <th>LASP1_gexpr</th>\n",
       "      <th>HOXA11_gexpr</th>\n",
       "      <th>CREBBP_gexpr</th>\n",
       "      <th>ETV1_gexpr</th>\n",
       "      <th>GAS7_gexpr</th>\n",
       "      <th>CD79B_gexpr</th>\n",
       "      <th>...</th>\n",
       "      <th>MTCP1.23:154293902_mut</th>\n",
       "      <th>MTCP1.23:154293909_mut</th>\n",
       "      <th>MTCP1.23:154293951_mut</th>\n",
       "      <th>MTCP1.23:154293978_mut</th>\n",
       "      <th>MTCP1.23:154294034_mut</th>\n",
       "      <th>MTCP1.23:154294203_mut</th>\n",
       "      <th>MTCP1.23:154294207_mut</th>\n",
       "      <th>MTCP1.23:154294278_mut</th>\n",
       "      <th>MTCP1.23:154294279_mut</th>\n",
       "      <th>MTCP1.23:154298967_mut</th>\n",
       "    </tr>\n",
       "  </thead>\n",
       "  <tbody>\n",
       "    <tr>\n",
       "      <th>4</th>\n",
       "      <td>ACH-000697</td>\n",
       "      <td>176870</td>\n",
       "      <td>1.110250</td>\n",
       "      <td>DLBC</td>\n",
       "      <td>6.501917</td>\n",
       "      <td>0.0</td>\n",
       "      <td>3.341986</td>\n",
       "      <td>1.594549</td>\n",
       "      <td>0.084064</td>\n",
       "      <td>1.157044</td>\n",
       "      <td>...</td>\n",
       "      <td>0</td>\n",
       "      <td>0</td>\n",
       "      <td>0</td>\n",
       "      <td>0</td>\n",
       "      <td>0</td>\n",
       "      <td>0</td>\n",
       "      <td>0</td>\n",
       "      <td>0</td>\n",
       "      <td>0</td>\n",
       "      <td>0</td>\n",
       "    </tr>\n",
       "    <tr>\n",
       "      <th>174</th>\n",
       "      <td>ACH-000697</td>\n",
       "      <td>65110</td>\n",
       "      <td>5.644170</td>\n",
       "      <td>DLBC</td>\n",
       "      <td>6.501917</td>\n",
       "      <td>0.0</td>\n",
       "      <td>3.341986</td>\n",
       "      <td>1.594549</td>\n",
       "      <td>0.084064</td>\n",
       "      <td>1.157044</td>\n",
       "      <td>...</td>\n",
       "      <td>0</td>\n",
       "      <td>0</td>\n",
       "      <td>0</td>\n",
       "      <td>0</td>\n",
       "      <td>0</td>\n",
       "      <td>0</td>\n",
       "      <td>0</td>\n",
       "      <td>0</td>\n",
       "      <td>0</td>\n",
       "      <td>0</td>\n",
       "    </tr>\n",
       "    <tr>\n",
       "      <th>588</th>\n",
       "      <td>ACH-000697</td>\n",
       "      <td>6710780</td>\n",
       "      <td>-4.894291</td>\n",
       "      <td>DLBC</td>\n",
       "      <td>6.501917</td>\n",
       "      <td>0.0</td>\n",
       "      <td>3.341986</td>\n",
       "      <td>1.594549</td>\n",
       "      <td>0.084064</td>\n",
       "      <td>1.157044</td>\n",
       "      <td>...</td>\n",
       "      <td>0</td>\n",
       "      <td>0</td>\n",
       "      <td>0</td>\n",
       "      <td>0</td>\n",
       "      <td>0</td>\n",
       "      <td>0</td>\n",
       "      <td>0</td>\n",
       "      <td>0</td>\n",
       "      <td>0</td>\n",
       "      <td>0</td>\n",
       "    </tr>\n",
       "    <tr>\n",
       "      <th>1007</th>\n",
       "      <td>ACH-000697</td>\n",
       "      <td>84691</td>\n",
       "      <td>1.596278</td>\n",
       "      <td>DLBC</td>\n",
       "      <td>6.501917</td>\n",
       "      <td>0.0</td>\n",
       "      <td>3.341986</td>\n",
       "      <td>1.594549</td>\n",
       "      <td>0.084064</td>\n",
       "      <td>1.157044</td>\n",
       "      <td>...</td>\n",
       "      <td>0</td>\n",
       "      <td>0</td>\n",
       "      <td>0</td>\n",
       "      <td>0</td>\n",
       "      <td>0</td>\n",
       "      <td>0</td>\n",
       "      <td>0</td>\n",
       "      <td>0</td>\n",
       "      <td>0</td>\n",
       "      <td>0</td>\n",
       "    </tr>\n",
       "    <tr>\n",
       "      <th>1426</th>\n",
       "      <td>ACH-000697</td>\n",
       "      <td>6253</td>\n",
       "      <td>0.657903</td>\n",
       "      <td>DLBC</td>\n",
       "      <td>6.501917</td>\n",
       "      <td>0.0</td>\n",
       "      <td>3.341986</td>\n",
       "      <td>1.594549</td>\n",
       "      <td>0.084064</td>\n",
       "      <td>1.157044</td>\n",
       "      <td>...</td>\n",
       "      <td>0</td>\n",
       "      <td>0</td>\n",
       "      <td>0</td>\n",
       "      <td>0</td>\n",
       "      <td>0</td>\n",
       "      <td>0</td>\n",
       "      <td>0</td>\n",
       "      <td>0</td>\n",
       "      <td>0</td>\n",
       "      <td>0</td>\n",
       "    </tr>\n",
       "    <tr>\n",
       "      <th>...</th>\n",
       "      <td>...</td>\n",
       "      <td>...</td>\n",
       "      <td>...</td>\n",
       "      <td>...</td>\n",
       "      <td>...</td>\n",
       "      <td>...</td>\n",
       "      <td>...</td>\n",
       "      <td>...</td>\n",
       "      <td>...</td>\n",
       "      <td>...</td>\n",
       "      <td>...</td>\n",
       "      <td>...</td>\n",
       "      <td>...</td>\n",
       "      <td>...</td>\n",
       "      <td>...</td>\n",
       "      <td>...</td>\n",
       "      <td>...</td>\n",
       "      <td>...</td>\n",
       "      <td>...</td>\n",
       "      <td>...</td>\n",
       "      <td>...</td>\n",
       "    </tr>\n",
       "    <tr>\n",
       "      <th>93445</th>\n",
       "      <td>ACH-000697</td>\n",
       "      <td>4261</td>\n",
       "      <td>-1.465742</td>\n",
       "      <td>DLBC</td>\n",
       "      <td>6.501917</td>\n",
       "      <td>0.0</td>\n",
       "      <td>3.341986</td>\n",
       "      <td>1.594549</td>\n",
       "      <td>0.084064</td>\n",
       "      <td>1.157044</td>\n",
       "      <td>...</td>\n",
       "      <td>0</td>\n",
       "      <td>0</td>\n",
       "      <td>0</td>\n",
       "      <td>0</td>\n",
       "      <td>0</td>\n",
       "      <td>0</td>\n",
       "      <td>0</td>\n",
       "      <td>0</td>\n",
       "      <td>0</td>\n",
       "      <td>0</td>\n",
       "    </tr>\n",
       "    <tr>\n",
       "      <th>93619</th>\n",
       "      <td>ACH-000697</td>\n",
       "      <td>7251185</td>\n",
       "      <td>0.691604</td>\n",
       "      <td>DLBC</td>\n",
       "      <td>6.501917</td>\n",
       "      <td>0.0</td>\n",
       "      <td>3.341986</td>\n",
       "      <td>1.594549</td>\n",
       "      <td>0.084064</td>\n",
       "      <td>1.157044</td>\n",
       "      <td>...</td>\n",
       "      <td>0</td>\n",
       "      <td>0</td>\n",
       "      <td>0</td>\n",
       "      <td>0</td>\n",
       "      <td>0</td>\n",
       "      <td>0</td>\n",
       "      <td>0</td>\n",
       "      <td>0</td>\n",
       "      <td>0</td>\n",
       "      <td>0</td>\n",
       "    </tr>\n",
       "    <tr>\n",
       "      <th>93793</th>\n",
       "      <td>ACH-000697</td>\n",
       "      <td>462382</td>\n",
       "      <td>-0.603306</td>\n",
       "      <td>DLBC</td>\n",
       "      <td>6.501917</td>\n",
       "      <td>0.0</td>\n",
       "      <td>3.341986</td>\n",
       "      <td>1.594549</td>\n",
       "      <td>0.084064</td>\n",
       "      <td>1.157044</td>\n",
       "      <td>...</td>\n",
       "      <td>0</td>\n",
       "      <td>0</td>\n",
       "      <td>0</td>\n",
       "      <td>0</td>\n",
       "      <td>0</td>\n",
       "      <td>0</td>\n",
       "      <td>0</td>\n",
       "      <td>0</td>\n",
       "      <td>0</td>\n",
       "      <td>0</td>\n",
       "    </tr>\n",
       "    <tr>\n",
       "      <th>93968</th>\n",
       "      <td>ACH-000697</td>\n",
       "      <td>11626927</td>\n",
       "      <td>3.287177</td>\n",
       "      <td>DLBC</td>\n",
       "      <td>6.501917</td>\n",
       "      <td>0.0</td>\n",
       "      <td>3.341986</td>\n",
       "      <td>1.594549</td>\n",
       "      <td>0.084064</td>\n",
       "      <td>1.157044</td>\n",
       "      <td>...</td>\n",
       "      <td>0</td>\n",
       "      <td>0</td>\n",
       "      <td>0</td>\n",
       "      <td>0</td>\n",
       "      <td>0</td>\n",
       "      <td>0</td>\n",
       "      <td>0</td>\n",
       "      <td>0</td>\n",
       "      <td>0</td>\n",
       "      <td>0</td>\n",
       "    </tr>\n",
       "    <tr>\n",
       "      <th>94143</th>\n",
       "      <td>ACH-000697</td>\n",
       "      <td>9907093</td>\n",
       "      <td>4.077299</td>\n",
       "      <td>DLBC</td>\n",
       "      <td>6.501917</td>\n",
       "      <td>0.0</td>\n",
       "      <td>3.341986</td>\n",
       "      <td>1.594549</td>\n",
       "      <td>0.084064</td>\n",
       "      <td>1.157044</td>\n",
       "      <td>...</td>\n",
       "      <td>0</td>\n",
       "      <td>0</td>\n",
       "      <td>0</td>\n",
       "      <td>0</td>\n",
       "      <td>0</td>\n",
       "      <td>0</td>\n",
       "      <td>0</td>\n",
       "      <td>0</td>\n",
       "      <td>0</td>\n",
       "      <td>0</td>\n",
       "    </tr>\n",
       "  </tbody>\n",
       "</table>\n",
       "<p>237 rows × 36182 columns</p>\n",
       "</div>"
      ],
      "text/plain": [
       "      Cell_line_ID Pubchem_ID  Response TCGA_cancer_type  LASP1_gexpr  \\\n",
       "4       ACH-000697     176870  1.110250             DLBC     6.501917   \n",
       "174     ACH-000697      65110  5.644170             DLBC     6.501917   \n",
       "588     ACH-000697    6710780 -4.894291             DLBC     6.501917   \n",
       "1007    ACH-000697      84691  1.596278             DLBC     6.501917   \n",
       "1426    ACH-000697       6253  0.657903             DLBC     6.501917   \n",
       "...            ...        ...       ...              ...          ...   \n",
       "93445   ACH-000697       4261 -1.465742             DLBC     6.501917   \n",
       "93619   ACH-000697    7251185  0.691604             DLBC     6.501917   \n",
       "93793   ACH-000697     462382 -0.603306             DLBC     6.501917   \n",
       "93968   ACH-000697   11626927  3.287177             DLBC     6.501917   \n",
       "94143   ACH-000697    9907093  4.077299             DLBC     6.501917   \n",
       "\n",
       "       HOXA11_gexpr  CREBBP_gexpr  ETV1_gexpr  GAS7_gexpr  CD79B_gexpr  ...  \\\n",
       "4               0.0      3.341986    1.594549    0.084064     1.157044  ...   \n",
       "174             0.0      3.341986    1.594549    0.084064     1.157044  ...   \n",
       "588             0.0      3.341986    1.594549    0.084064     1.157044  ...   \n",
       "1007            0.0      3.341986    1.594549    0.084064     1.157044  ...   \n",
       "1426            0.0      3.341986    1.594549    0.084064     1.157044  ...   \n",
       "...             ...           ...         ...         ...          ...  ...   \n",
       "93445           0.0      3.341986    1.594549    0.084064     1.157044  ...   \n",
       "93619           0.0      3.341986    1.594549    0.084064     1.157044  ...   \n",
       "93793           0.0      3.341986    1.594549    0.084064     1.157044  ...   \n",
       "93968           0.0      3.341986    1.594549    0.084064     1.157044  ...   \n",
       "94143           0.0      3.341986    1.594549    0.084064     1.157044  ...   \n",
       "\n",
       "       MTCP1.23:154293902_mut  MTCP1.23:154293909_mut  MTCP1.23:154293951_mut  \\\n",
       "4                           0                       0                       0   \n",
       "174                         0                       0                       0   \n",
       "588                         0                       0                       0   \n",
       "1007                        0                       0                       0   \n",
       "1426                        0                       0                       0   \n",
       "...                       ...                     ...                     ...   \n",
       "93445                       0                       0                       0   \n",
       "93619                       0                       0                       0   \n",
       "93793                       0                       0                       0   \n",
       "93968                       0                       0                       0   \n",
       "94143                       0                       0                       0   \n",
       "\n",
       "       MTCP1.23:154293978_mut  MTCP1.23:154294034_mut  MTCP1.23:154294203_mut  \\\n",
       "4                           0                       0                       0   \n",
       "174                         0                       0                       0   \n",
       "588                         0                       0                       0   \n",
       "1007                        0                       0                       0   \n",
       "1426                        0                       0                       0   \n",
       "...                       ...                     ...                     ...   \n",
       "93445                       0                       0                       0   \n",
       "93619                       0                       0                       0   \n",
       "93793                       0                       0                       0   \n",
       "93968                       0                       0                       0   \n",
       "94143                       0                       0                       0   \n",
       "\n",
       "       MTCP1.23:154294207_mut  MTCP1.23:154294278_mut  MTCP1.23:154294279_mut  \\\n",
       "4                           0                       0                       0   \n",
       "174                         0                       0                       0   \n",
       "588                         0                       0                       0   \n",
       "1007                        0                       0                       0   \n",
       "1426                        0                       0                       0   \n",
       "...                       ...                     ...                     ...   \n",
       "93445                       0                       0                       0   \n",
       "93619                       0                       0                       0   \n",
       "93793                       0                       0                       0   \n",
       "93968                       0                       0                       0   \n",
       "94143                       0                       0                       0   \n",
       "\n",
       "       MTCP1.23:154298967_mut  \n",
       "4                           0  \n",
       "174                         0  \n",
       "588                         0  \n",
       "1007                        0  \n",
       "1426                        0  \n",
       "...                       ...  \n",
       "93445                       0  \n",
       "93619                       0  \n",
       "93793                       0  \n",
       "93968                       0  \n",
       "94143                       0  \n",
       "\n",
       "[237 rows x 36182 columns]"
      ]
     },
     "execution_count": 274,
     "metadata": {},
     "output_type": "execute_result"
    }
   ],
   "source": [
    "ACH_000697_All_data"
   ]
  },
  {
   "cell_type": "code",
   "execution_count": 275,
   "id": "bb5a63de-cf6c-4f53-afa6-6b3ede662825",
   "metadata": {},
   "outputs": [
    {
     "data": {
      "text/plain": [
       "LASP1_gexpr               6.501917\n",
       "HOXA11_gexpr              0.000000\n",
       "CREBBP_gexpr              3.341986\n",
       "ETV1_gexpr                1.594549\n",
       "GAS7_gexpr                0.084064\n",
       "                            ...   \n",
       "MTCP1.23:154294203_mut    0.000000\n",
       "MTCP1.23:154294207_mut    0.000000\n",
       "MTCP1.23:154294278_mut    0.000000\n",
       "MTCP1.23:154294279_mut    0.000000\n",
       "MTCP1.23:154298967_mut    0.000000\n",
       "Length: 36178, dtype: float64"
      ]
     },
     "execution_count": 275,
     "metadata": {},
     "output_type": "execute_result"
    }
   ],
   "source": [
    "ACH_000697_All_data.iloc[:, 4:].mean(axis = 0) # looks the same, should be okay"
   ]
  },
  {
   "cell_type": "code",
   "execution_count": 276,
   "id": "815fc9a4-60bd-4f80-b618-494739429615",
   "metadata": {},
   "outputs": [
    {
     "data": {
      "text/html": [
       "<div>\n",
       "<style scoped>\n",
       "    .dataframe tbody tr th:only-of-type {\n",
       "        vertical-align: middle;\n",
       "    }\n",
       "\n",
       "    .dataframe tbody tr th {\n",
       "        vertical-align: top;\n",
       "    }\n",
       "\n",
       "    .dataframe thead th {\n",
       "        text-align: right;\n",
       "    }\n",
       "</style>\n",
       "<table border=\"1\" class=\"dataframe\">\n",
       "  <thead>\n",
       "    <tr style=\"text-align: right;\">\n",
       "      <th></th>\n",
       "      <th>Cell_line_ID</th>\n",
       "      <th>Pubchem_ID</th>\n",
       "      <th>Response</th>\n",
       "      <th>TCGA_cancer_type</th>\n",
       "    </tr>\n",
       "  </thead>\n",
       "  <tbody>\n",
       "    <tr>\n",
       "      <th>4</th>\n",
       "      <td>ACH-000697</td>\n",
       "      <td>176870</td>\n",
       "      <td>1.110250</td>\n",
       "      <td>DLBC</td>\n",
       "    </tr>\n",
       "    <tr>\n",
       "      <th>174</th>\n",
       "      <td>ACH-000697</td>\n",
       "      <td>65110</td>\n",
       "      <td>5.644170</td>\n",
       "      <td>DLBC</td>\n",
       "    </tr>\n",
       "    <tr>\n",
       "      <th>588</th>\n",
       "      <td>ACH-000697</td>\n",
       "      <td>6710780</td>\n",
       "      <td>-4.894291</td>\n",
       "      <td>DLBC</td>\n",
       "    </tr>\n",
       "    <tr>\n",
       "      <th>1007</th>\n",
       "      <td>ACH-000697</td>\n",
       "      <td>84691</td>\n",
       "      <td>1.596278</td>\n",
       "      <td>DLBC</td>\n",
       "    </tr>\n",
       "    <tr>\n",
       "      <th>1426</th>\n",
       "      <td>ACH-000697</td>\n",
       "      <td>6253</td>\n",
       "      <td>0.657903</td>\n",
       "      <td>DLBC</td>\n",
       "    </tr>\n",
       "    <tr>\n",
       "      <th>...</th>\n",
       "      <td>...</td>\n",
       "      <td>...</td>\n",
       "      <td>...</td>\n",
       "      <td>...</td>\n",
       "    </tr>\n",
       "    <tr>\n",
       "      <th>93445</th>\n",
       "      <td>ACH-000697</td>\n",
       "      <td>4261</td>\n",
       "      <td>-1.465742</td>\n",
       "      <td>DLBC</td>\n",
       "    </tr>\n",
       "    <tr>\n",
       "      <th>93619</th>\n",
       "      <td>ACH-000697</td>\n",
       "      <td>7251185</td>\n",
       "      <td>0.691604</td>\n",
       "      <td>DLBC</td>\n",
       "    </tr>\n",
       "    <tr>\n",
       "      <th>93793</th>\n",
       "      <td>ACH-000697</td>\n",
       "      <td>462382</td>\n",
       "      <td>-0.603306</td>\n",
       "      <td>DLBC</td>\n",
       "    </tr>\n",
       "    <tr>\n",
       "      <th>93968</th>\n",
       "      <td>ACH-000697</td>\n",
       "      <td>11626927</td>\n",
       "      <td>3.287177</td>\n",
       "      <td>DLBC</td>\n",
       "    </tr>\n",
       "    <tr>\n",
       "      <th>94143</th>\n",
       "      <td>ACH-000697</td>\n",
       "      <td>9907093</td>\n",
       "      <td>4.077299</td>\n",
       "      <td>DLBC</td>\n",
       "    </tr>\n",
       "  </tbody>\n",
       "</table>\n",
       "<p>237 rows × 4 columns</p>\n",
       "</div>"
      ],
      "text/plain": [
       "      Cell_line_ID Pubchem_ID  Response TCGA_cancer_type\n",
       "4       ACH-000697     176870  1.110250             DLBC\n",
       "174     ACH-000697      65110  5.644170             DLBC\n",
       "588     ACH-000697    6710780 -4.894291             DLBC\n",
       "1007    ACH-000697      84691  1.596278             DLBC\n",
       "1426    ACH-000697       6253  0.657903             DLBC\n",
       "...            ...        ...       ...              ...\n",
       "93445   ACH-000697       4261 -1.465742             DLBC\n",
       "93619   ACH-000697    7251185  0.691604             DLBC\n",
       "93793   ACH-000697     462382 -0.603306             DLBC\n",
       "93968   ACH-000697   11626927  3.287177             DLBC\n",
       "94143   ACH-000697    9907093  4.077299             DLBC\n",
       "\n",
       "[237 rows x 4 columns]"
      ]
     },
     "execution_count": 276,
     "metadata": {},
     "output_type": "execute_result"
    }
   ],
   "source": [
    "# what about the response data? - looks like a match here\n",
    "DeepCDR_data[DeepCDR_data['Cell_line_ID'] == 'ACH-000697']"
   ]
  },
  {
   "cell_type": "code",
   "execution_count": 223,
   "id": "57ba13d3-4f4c-4d16-b48f-64ba56f160e5",
   "metadata": {},
   "outputs": [],
   "source": [
    "# Let's separately look at the gene expression, mutation and methylation data"
   ]
  },
  {
   "cell_type": "code",
   "execution_count": 277,
   "id": "e05a1801-15dc-47ed-a665-ba6aae08a38b",
   "metadata": {},
   "outputs": [
    {
     "data": {
      "text/html": [
       "<div>\n",
       "<style scoped>\n",
       "    .dataframe tbody tr th:only-of-type {\n",
       "        vertical-align: middle;\n",
       "    }\n",
       "\n",
       "    .dataframe tbody tr th {\n",
       "        vertical-align: top;\n",
       "    }\n",
       "\n",
       "    .dataframe thead th {\n",
       "        text-align: right;\n",
       "    }\n",
       "</style>\n",
       "<table border=\"1\" class=\"dataframe\">\n",
       "  <thead>\n",
       "    <tr style=\"text-align: right;\">\n",
       "      <th></th>\n",
       "      <th>Cell_line_ID</th>\n",
       "      <th>LASP1_gexpr</th>\n",
       "      <th>HOXA11_gexpr</th>\n",
       "      <th>CREBBP_gexpr</th>\n",
       "      <th>ETV1_gexpr</th>\n",
       "      <th>GAS7_gexpr</th>\n",
       "      <th>CD79B_gexpr</th>\n",
       "      <th>PAX7_gexpr</th>\n",
       "      <th>BTK_gexpr</th>\n",
       "      <th>BRCA1_gexpr</th>\n",
       "      <th>...</th>\n",
       "      <th>NCKIPSD_gexpr</th>\n",
       "      <th>MTCP1_gexpr</th>\n",
       "      <th>DDX3X_gexpr</th>\n",
       "      <th>FANCG_gexpr</th>\n",
       "      <th>SSX2_gexpr</th>\n",
       "      <th>ETV5_gexpr</th>\n",
       "      <th>CEBPA_gexpr</th>\n",
       "      <th>LSM14A_gexpr</th>\n",
       "      <th>CUX1_gexpr</th>\n",
       "      <th>C15orf65_gexpr</th>\n",
       "    </tr>\n",
       "  </thead>\n",
       "  <tbody>\n",
       "    <tr>\n",
       "      <th>435</th>\n",
       "      <td>ACH-000697</td>\n",
       "      <td>6.501917</td>\n",
       "      <td>0.0</td>\n",
       "      <td>3.341986</td>\n",
       "      <td>1.594549</td>\n",
       "      <td>0.084064</td>\n",
       "      <td>1.157044</td>\n",
       "      <td>0.0</td>\n",
       "      <td>0.555816</td>\n",
       "      <td>2.250962</td>\n",
       "      <td>...</td>\n",
       "      <td>3.532317</td>\n",
       "      <td>3.880686</td>\n",
       "      <td>7.581502</td>\n",
       "      <td>3.915521</td>\n",
       "      <td>3.24184</td>\n",
       "      <td>3.430285</td>\n",
       "      <td>0.31034</td>\n",
       "      <td>6.004726</td>\n",
       "      <td>1.641546</td>\n",
       "      <td>1.815575</td>\n",
       "    </tr>\n",
       "  </tbody>\n",
       "</table>\n",
       "<p>1 rows × 698 columns</p>\n",
       "</div>"
      ],
      "text/plain": [
       "    Cell_line_ID  LASP1_gexpr  HOXA11_gexpr  CREBBP_gexpr  ETV1_gexpr  \\\n",
       "435   ACH-000697     6.501917           0.0      3.341986    1.594549   \n",
       "\n",
       "     GAS7_gexpr  CD79B_gexpr  PAX7_gexpr  BTK_gexpr  BRCA1_gexpr  ...  \\\n",
       "435    0.084064     1.157044         0.0   0.555816     2.250962  ...   \n",
       "\n",
       "     NCKIPSD_gexpr  MTCP1_gexpr  DDX3X_gexpr  FANCG_gexpr  SSX2_gexpr  \\\n",
       "435       3.532317     3.880686     7.581502     3.915521     3.24184   \n",
       "\n",
       "     ETV5_gexpr  CEBPA_gexpr  LSM14A_gexpr  CUX1_gexpr  C15orf65_gexpr  \n",
       "435    3.430285      0.31034      6.004726    1.641546        1.815575  \n",
       "\n",
       "[1 rows x 698 columns]"
      ]
     },
     "execution_count": 277,
     "metadata": {},
     "output_type": "execute_result"
    }
   ],
   "source": [
    "gexpr_feature_alt[gexpr_feature_alt['Cell_line_ID'] == 'ACH-000697']"
   ]
  },
  {
   "cell_type": "code",
   "execution_count": 278,
   "id": "be1eaf68-de84-4045-994c-b73d01f65513",
   "metadata": {},
   "outputs": [],
   "source": [
    "# Extract the columns in the final dataset that corresponds to the gene expression columns only - There's 697 gene expression columns\n",
    "ACH_000697_All_data_gexpr_columns = ACH_000697_All_data.iloc[:, 4:4+697]"
   ]
  },
  {
   "cell_type": "code",
   "execution_count": 279,
   "id": "2d32f2b5-6c58-40e4-ad76-912026f48e8b",
   "metadata": {},
   "outputs": [
    {
     "data": {
      "text/plain": [
       "LASP1_gexpr       6.501917\n",
       "HOXA11_gexpr      0.000000\n",
       "CREBBP_gexpr      3.341986\n",
       "ETV1_gexpr        1.594549\n",
       "GAS7_gexpr        0.084064\n",
       "                    ...   \n",
       "ETV5_gexpr        3.430285\n",
       "CEBPA_gexpr       0.310340\n",
       "LSM14A_gexpr      6.004726\n",
       "CUX1_gexpr        1.641546\n",
       "C15orf65_gexpr    1.815575\n",
       "Length: 697, dtype: float64"
      ]
     },
     "execution_count": 279,
     "metadata": {},
     "output_type": "execute_result"
    }
   ],
   "source": [
    "# get the means of these columns and see if they match with above\n",
    "ACH_000697_All_data_gexpr_columns.mean()"
   ]
  },
  {
   "cell_type": "code",
   "execution_count": 233,
   "id": "6a47ef4a-0d29-41f8-baf7-aaac2081fbae",
   "metadata": {},
   "outputs": [],
   "source": [
    "# They match"
   ]
  },
  {
   "cell_type": "code",
   "execution_count": 280,
   "id": "04b449d1-0511-4ee4-9146-e6a8aa95bf1a",
   "metadata": {},
   "outputs": [
    {
     "data": {
      "text/html": [
       "<div>\n",
       "<style scoped>\n",
       "    .dataframe tbody tr th:only-of-type {\n",
       "        vertical-align: middle;\n",
       "    }\n",
       "\n",
       "    .dataframe tbody tr th {\n",
       "        vertical-align: top;\n",
       "    }\n",
       "\n",
       "    .dataframe thead th {\n",
       "        text-align: right;\n",
       "    }\n",
       "</style>\n",
       "<table border=\"1\" class=\"dataframe\">\n",
       "  <thead>\n",
       "    <tr style=\"text-align: right;\">\n",
       "      <th></th>\n",
       "      <th>Cell_line_ID</th>\n",
       "      <th>SKI_1_2159133_2160133_methyl</th>\n",
       "      <th>TNFRSF14_1_2486803_2487803_methyl</th>\n",
       "      <th>PRDM16_1_2984741_2985741_methyl</th>\n",
       "      <th>RPL22_1_6259679_6260679_methyl</th>\n",
       "      <th>CAMTA1_1_6844383_6845383_methyl</th>\n",
       "      <th>MTOR_1_11322608_11323608_methyl</th>\n",
       "      <th>PRDM2_1_14025734_14026734_methyl</th>\n",
       "      <th>PRDM2_1_14074875_14075875_methyl</th>\n",
       "      <th>CASP9_1_15850940_15851940_methyl</th>\n",
       "      <th>...</th>\n",
       "      <th>BCORL1_X_129138163_129139163_methyl</th>\n",
       "      <th>ELF4_X_129244475_129245475_methyl</th>\n",
       "      <th>ELF4_X_129244688_129245688_methyl</th>\n",
       "      <th>GPC3_X_133119673_133120673_methyl</th>\n",
       "      <th>ATP2B3_X_152800579_152801579_methyl</th>\n",
       "      <th>FLNA_X_153603006_153604006_methyl</th>\n",
       "      <th>RPL10_X_153625405_153626405_methyl</th>\n",
       "      <th>RPL10_X_153625712_153626712_methyl</th>\n",
       "      <th>RPL10_X_153625837_153626837_methyl</th>\n",
       "      <th>MTCP1_X_154299547_154300547_methyl</th>\n",
       "    </tr>\n",
       "  </thead>\n",
       "  <tbody>\n",
       "    <tr>\n",
       "      <th>126</th>\n",
       "      <td>ACH-000697</td>\n",
       "      <td>0.19392</td>\n",
       "      <td>0.13061</td>\n",
       "      <td>0.00331</td>\n",
       "      <td>0.16667</td>\n",
       "      <td>0.00177</td>\n",
       "      <td>0.10105</td>\n",
       "      <td>0.0105</td>\n",
       "      <td>0.00415</td>\n",
       "      <td>0.0</td>\n",
       "      <td>...</td>\n",
       "      <td>0.9444</td>\n",
       "      <td>0.12545</td>\n",
       "      <td>0.13132</td>\n",
       "      <td>0.48962</td>\n",
       "      <td>0.01402</td>\n",
       "      <td>0.47435</td>\n",
       "      <td>0.07883</td>\n",
       "      <td>0.07246</td>\n",
       "      <td>0.07246</td>\n",
       "      <td>0.00404</td>\n",
       "    </tr>\n",
       "  </tbody>\n",
       "</table>\n",
       "<p>1 rows × 809 columns</p>\n",
       "</div>"
      ],
      "text/plain": [
       "    Cell_line_ID  SKI_1_2159133_2160133_methyl  \\\n",
       "126   ACH-000697                       0.19392   \n",
       "\n",
       "     TNFRSF14_1_2486803_2487803_methyl  PRDM16_1_2984741_2985741_methyl  \\\n",
       "126                            0.13061                          0.00331   \n",
       "\n",
       "     RPL22_1_6259679_6260679_methyl  CAMTA1_1_6844383_6845383_methyl  \\\n",
       "126                         0.16667                          0.00177   \n",
       "\n",
       "     MTOR_1_11322608_11323608_methyl  PRDM2_1_14025734_14026734_methyl  \\\n",
       "126                          0.10105                            0.0105   \n",
       "\n",
       "     PRDM2_1_14074875_14075875_methyl  CASP9_1_15850940_15851940_methyl  ...  \\\n",
       "126                           0.00415                               0.0  ...   \n",
       "\n",
       "     BCORL1_X_129138163_129139163_methyl  ELF4_X_129244475_129245475_methyl  \\\n",
       "126                               0.9444                            0.12545   \n",
       "\n",
       "     ELF4_X_129244688_129245688_methyl  GPC3_X_133119673_133120673_methyl  \\\n",
       "126                            0.13132                            0.48962   \n",
       "\n",
       "     ATP2B3_X_152800579_152801579_methyl  FLNA_X_153603006_153604006_methyl  \\\n",
       "126                              0.01402                            0.47435   \n",
       "\n",
       "     RPL10_X_153625405_153626405_methyl  RPL10_X_153625712_153626712_methyl  \\\n",
       "126                             0.07883                             0.07246   \n",
       "\n",
       "     RPL10_X_153625837_153626837_methyl  MTCP1_X_154299547_154300547_methyl  \n",
       "126                             0.07246                             0.00404  \n",
       "\n",
       "[1 rows x 809 columns]"
      ]
     },
     "execution_count": 280,
     "metadata": {},
     "output_type": "execute_result"
    }
   ],
   "source": [
    "methylation_feature_alt[methylation_feature_alt['Cell_line_ID'] == 'ACH-000697']"
   ]
  },
  {
   "cell_type": "code",
   "execution_count": 281,
   "id": "6f962d98-4f88-47a7-ab6a-618d85af0207",
   "metadata": {},
   "outputs": [],
   "source": [
    "# Extract the columns in the final dataset that corresponds to the methylation columns only - There's 808 methylation columns\n",
    "ACH_000697_All_data_methyl_columns = ACH_000697_All_data.iloc[:, 4+697: 4+697+808]"
   ]
  },
  {
   "cell_type": "code",
   "execution_count": 282,
   "id": "aa2205b9-4b8c-4549-b617-8a5698c5c712",
   "metadata": {},
   "outputs": [
    {
     "data": {
      "text/plain": [
       "SKI_1_2159133_2160133_methyl          0.19392\n",
       "TNFRSF14_1_2486803_2487803_methyl     0.13061\n",
       "PRDM16_1_2984741_2985741_methyl       0.00331\n",
       "RPL22_1_6259679_6260679_methyl        0.16667\n",
       "CAMTA1_1_6844383_6845383_methyl       0.00177\n",
       "                                       ...   \n",
       "FLNA_X_153603006_153604006_methyl     0.47435\n",
       "RPL10_X_153625405_153626405_methyl    0.07883\n",
       "RPL10_X_153625712_153626712_methyl    0.07246\n",
       "RPL10_X_153625837_153626837_methyl    0.07246\n",
       "MTCP1_X_154299547_154300547_methyl    0.00404\n",
       "Length: 808, dtype: float64"
      ]
     },
     "execution_count": 282,
     "metadata": {},
     "output_type": "execute_result"
    }
   ],
   "source": [
    "ACH_000697_All_data_methyl_columns.mean()"
   ]
  },
  {
   "cell_type": "code",
   "execution_count": 283,
   "id": "65ea82ba-392f-4844-9a21-dbc09843be0a",
   "metadata": {},
   "outputs": [],
   "source": [
    "# They match"
   ]
  },
  {
   "cell_type": "code",
   "execution_count": 284,
   "id": "5ec2f07a-790d-4afd-af78-daf7d9a1562f",
   "metadata": {},
   "outputs": [
    {
     "data": {
      "text/html": [
       "<div>\n",
       "<style scoped>\n",
       "    .dataframe tbody tr th:only-of-type {\n",
       "        vertical-align: middle;\n",
       "    }\n",
       "\n",
       "    .dataframe tbody tr th {\n",
       "        vertical-align: top;\n",
       "    }\n",
       "\n",
       "    .dataframe thead th {\n",
       "        text-align: right;\n",
       "    }\n",
       "</style>\n",
       "<table border=\"1\" class=\"dataframe\">\n",
       "  <thead>\n",
       "    <tr style=\"text-align: right;\">\n",
       "      <th></th>\n",
       "      <th>Cell_line_ID</th>\n",
       "      <th>TNFRSF14.1:2488170_mut</th>\n",
       "      <th>TNFRSF14.1:2489805_mut</th>\n",
       "      <th>TNFRSF14.1:2489824_mut</th>\n",
       "      <th>TNFRSF14.1:2489856_mut</th>\n",
       "      <th>TNFRSF14.1:2489868_mut</th>\n",
       "      <th>TNFRSF14.1:2491328_mut</th>\n",
       "      <th>TNFRSF14.1:2491335_mut</th>\n",
       "      <th>TNFRSF14.1:2491373_mut</th>\n",
       "      <th>TNFRSF14.1:2491403_mut</th>\n",
       "      <th>...</th>\n",
       "      <th>MTCP1.23:154293902_mut</th>\n",
       "      <th>MTCP1.23:154293909_mut</th>\n",
       "      <th>MTCP1.23:154293951_mut</th>\n",
       "      <th>MTCP1.23:154293978_mut</th>\n",
       "      <th>MTCP1.23:154294034_mut</th>\n",
       "      <th>MTCP1.23:154294203_mut</th>\n",
       "      <th>MTCP1.23:154294207_mut</th>\n",
       "      <th>MTCP1.23:154294278_mut</th>\n",
       "      <th>MTCP1.23:154294279_mut</th>\n",
       "      <th>MTCP1.23:154298967_mut</th>\n",
       "    </tr>\n",
       "  </thead>\n",
       "  <tbody>\n",
       "    <tr>\n",
       "      <th>435</th>\n",
       "      <td>ACH-000697</td>\n",
       "      <td>0</td>\n",
       "      <td>0</td>\n",
       "      <td>0</td>\n",
       "      <td>0</td>\n",
       "      <td>0</td>\n",
       "      <td>0</td>\n",
       "      <td>0</td>\n",
       "      <td>0</td>\n",
       "      <td>0</td>\n",
       "      <td>...</td>\n",
       "      <td>0</td>\n",
       "      <td>0</td>\n",
       "      <td>0</td>\n",
       "      <td>0</td>\n",
       "      <td>0</td>\n",
       "      <td>0</td>\n",
       "      <td>0</td>\n",
       "      <td>0</td>\n",
       "      <td>0</td>\n",
       "      <td>0</td>\n",
       "    </tr>\n",
       "  </tbody>\n",
       "</table>\n",
       "<p>1 rows × 34674 columns</p>\n",
       "</div>"
      ],
      "text/plain": [
       "    Cell_line_ID  TNFRSF14.1:2488170_mut  TNFRSF14.1:2489805_mut  \\\n",
       "435   ACH-000697                       0                       0   \n",
       "\n",
       "     TNFRSF14.1:2489824_mut  TNFRSF14.1:2489856_mut  TNFRSF14.1:2489868_mut  \\\n",
       "435                       0                       0                       0   \n",
       "\n",
       "     TNFRSF14.1:2491328_mut  TNFRSF14.1:2491335_mut  TNFRSF14.1:2491373_mut  \\\n",
       "435                       0                       0                       0   \n",
       "\n",
       "     TNFRSF14.1:2491403_mut  ...  MTCP1.23:154293902_mut  \\\n",
       "435                       0  ...                       0   \n",
       "\n",
       "     MTCP1.23:154293909_mut  MTCP1.23:154293951_mut  MTCP1.23:154293978_mut  \\\n",
       "435                       0                       0                       0   \n",
       "\n",
       "     MTCP1.23:154294034_mut  MTCP1.23:154294203_mut  MTCP1.23:154294207_mut  \\\n",
       "435                       0                       0                       0   \n",
       "\n",
       "     MTCP1.23:154294278_mut  MTCP1.23:154294279_mut  MTCP1.23:154298967_mut  \n",
       "435                       0                       0                       0  \n",
       "\n",
       "[1 rows x 34674 columns]"
      ]
     },
     "execution_count": 284,
     "metadata": {},
     "output_type": "execute_result"
    }
   ],
   "source": [
    "# Do the same with the mutation data\n",
    "mutation_feature_alt[mutation_feature_alt['Cell_line_ID'] == 'ACH-000697']"
   ]
  },
  {
   "cell_type": "code",
   "execution_count": 285,
   "id": "c2f82da4-8212-4b63-a1fa-c67200950dc5",
   "metadata": {},
   "outputs": [
    {
     "data": {
      "text/plain": [
       "0.0016727713206241166"
      ]
     },
     "execution_count": 285,
     "metadata": {},
     "output_type": "execute_result"
    }
   ],
   "source": [
    "mutation_feature_alt[mutation_feature_alt['Cell_line_ID'] == 'ACH-000697'].values[:,1:].mean()"
   ]
  },
  {
   "cell_type": "code",
   "execution_count": 286,
   "id": "ad98eb09-09ae-4632-ae7e-843111af57b8",
   "metadata": {},
   "outputs": [],
   "source": [
    "# Extract the columns in the final dataset that corresponds to the mutation columns only - There's 34673 mutation columns\n",
    "ACH_000697_All_data_methyl_columns = ACH_000697_All_data.iloc[:, 4+697+808: 4+697+808+34673]"
   ]
  },
  {
   "cell_type": "code",
   "execution_count": 287,
   "id": "6185ad16-83cd-4497-b826-d2546a79b065",
   "metadata": {},
   "outputs": [
    {
     "data": {
      "text/plain": [
       "0.0016727713206241166"
      ]
     },
     "execution_count": 287,
     "metadata": {},
     "output_type": "execute_result"
    }
   ],
   "source": [
    "ACH_000697_All_data_methyl_columns.mean().mean()"
   ]
  },
  {
   "cell_type": "code",
   "execution_count": 224,
   "id": "50742d4c-7f77-45c1-a56d-e2dcb0f000d9",
   "metadata": {},
   "outputs": [],
   "source": [
    "# We need to save all the datasets: the final dataset with all features combined, and the individual mutation methylation, and gene expression data"
   ]
  },
  {
   "cell_type": "code",
   "execution_count": null,
   "id": "338ae791-d623-4f5c-ab08-e1f95167db67",
   "metadata": {},
   "outputs": [],
   "source": []
  },
  {
   "cell_type": "code",
   "execution_count": null,
   "id": "d3621e25-ad73-4b80-9e83-e65243635c2d",
   "metadata": {},
   "outputs": [],
   "source": []
  }
 ],
 "metadata": {
  "kernelspec": {
   "display_name": "Python (cdr_env_2025)",
   "language": "python",
   "name": "cdr_env_2025"
  },
  "language_info": {
   "codemirror_mode": {
    "name": "ipython",
    "version": 3
   },
   "file_extension": ".py",
   "mimetype": "text/x-python",
   "name": "python",
   "nbconvert_exporter": "python",
   "pygments_lexer": "ipython3",
   "version": "3.8.16"
  }
 },
 "nbformat": 4,
 "nbformat_minor": 5
}
