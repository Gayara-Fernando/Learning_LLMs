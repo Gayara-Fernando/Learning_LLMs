{
 "cells": [
  {
   "cell_type": "markdown",
   "id": "d70d3ef8-453a-4a9d-af85-554fa63d89ad",
   "metadata": {},
   "source": [
    "##### Creating an automatc grader: With langchain"
   ]
  },
  {
   "cell_type": "code",
   "execution_count": 1,
   "id": "39f5e6ae-7541-46a7-9a84-d818c98135f5",
   "metadata": {},
   "outputs": [],
   "source": [
    "from langchain.chat_models import ChatOpenAI\n",
    "from langchain.prompts import PromptTemplate\n",
    "from langchain.chains import LLMChain\n",
    "from langchain.schema import BaseOutputParser"
   ]
  },
  {
   "cell_type": "code",
   "execution_count": null,
   "id": "b2e07a37-38b9-4e69-8e0c-591299554c72",
   "metadata": {},
   "outputs": [],
   "source": [
    "# import sk - need a .py file named sk.py that contains the OpenAI access token assigned to the variable my_sk\n",
    "from sk import my_sk"
   ]
  },
  {
   "cell_type": "code",
   "execution_count": null,
   "id": "a2dfa963-6000-488a-83ab-bf43ae0fcef8",
   "metadata": {},
   "outputs": [],
   "source": [
    "# define the chatbot\n",
    "chat_model = ChatOpenAI(openai_api_key=my_sk, temperature=0)"
   ]
  },
  {
   "cell_type": "code",
   "execution_count": null,
   "id": "52d347f3-00bf-4c74-8a1d-40846313ba8a",
   "metadata": {},
   "outputs": [],
   "source": [
    "# define the prompt template\n",
    "\n",
    "prompt_template_text = \"\"\"You are a high school history teacher grading homework assignments. \\\n",
    "Based on the homework question indicated by “**Q:**” and the correct answer indicated by “**A:**”, your task is to determine whether the student's answer is correct. \\\n",
    "Grading is binary; therefore, student answers can be correct or wrong. \\\n",
    "Simple misspellings are okay.\n",
    "\n",
    "**Q:** {question}\n",
    "**A:** {correct_answer}\n",
    "\n",
    "**Student's Answer:** {student_answer}\n",
    "\"\"\"\n",
    "\n",
    "prompt = PromptTemplate(input_variables=[\"question\", \"correct_answer\", \"student_answer\"], template = prompt_template_text)"
   ]
  },
  {
   "cell_type": "code",
   "execution_count": null,
   "id": "70eabf9a-da70-44de-8adf-62358592376f",
   "metadata": {},
   "outputs": [],
   "source": [
    "# define chain\n",
    "chain = LLMChain(\n",
    "    llm=chat_model,\n",
    "    prompt=prompt,\n",
    ")"
   ]
  },
  {
   "cell_type": "code",
   "execution_count": null,
   "id": "f2b20c0c-fc16-4b24-9dd2-7b75161f95eb",
   "metadata": {},
   "outputs": [],
   "source": [
    "# use the defined chain\n",
    "\n",
    "# define inputs\n",
    "question = \"Who was the 35th president of the United States of America?\"\n",
    "correct_answer = \"John F. Kennedy\"\n",
    "student_answer =  \"JFK\"\n",
    "\n",
    "# run chain\n",
    "chain.run({'question':question, 'correct_answer':correct_answer, 'student_answer':student_answer})"
   ]
  },
  {
   "cell_type": "code",
   "execution_count": null,
   "id": "a70e5a07-d45d-4f88-ac1e-c0c33e17bfa8",
   "metadata": {},
   "outputs": [],
   "source": [
    "# run chain in for loop if there are multiple student answers\n",
    "student_answer_list = [\"John F. Kennedy\", \"JFK\", \"FDR\", \"John F. Kenedy\", \"John Kennedy\", \"Jack Kennedy\", \"Jacqueline Kennedy\", \"Robert F. Kenedy\"]\n",
    "\n",
    "for student_answer in student_answer_list:\n",
    "    print(student_answer + \" - \" + str(chain.run({'question':question, 'correct_answer':correct_answer, 'student_answer':student_answer})))\n",
    "    print('\\n')\n",
    "\n",
    "# output\n",
    "\n",
    "# John F. Kennedy - Correct\n",
    "\n",
    "\n",
    "# JFK - Correct\n",
    "\n",
    "\n",
    "# FDR - Student's Answer is wrong.\n",
    "\n",
    "\n",
    "# John F. Kenedy - Correct\n",
    "\n",
    "\n",
    "# John Kennedy - Correct\n",
    "\n",
    "\n",
    "# Jack Kennedy - Grade: Correct\n",
    "\n",
    "# The student's answer, \"Jack Kennedy,\" is a simple misspelling of the correct answer, \"John F. Kennedy.\" However, the student's answer still accurately identifies the 35th president of the United States of America.\n",
    "\n",
    "\n",
    "# Jacqueline Kennedy - Student's Answer: Jacqueline Kennedy\n",
    "\n",
    "# Grade: Wrong\n",
    "\n",
    "# Explanation: The student's answer is incorrect. The 35th president of the United States of America was John F. Kennedy, not Jacqueline Kennedy.\n",
    "\n",
    "\n",
    "# Robert F. Kenedy - Student's Answer is wrong."
   ]
  },
  {
   "cell_type": "code",
   "execution_count": null,
   "id": "35396d03-23a3-464d-ae20-3b2fffd084d8",
   "metadata": {},
   "outputs": [],
   "source": [
    "# Now, suppose we need the output in a different form, maybe to add a point if the answers is right, we need something a little more elaborate than this. Let's define a toy output parser as follows."
   ]
  },
  {
   "cell_type": "code",
   "execution_count": null,
   "id": "b6b736b1-be5f-4fc3-a348-f36b2ff6efde",
   "metadata": {},
   "outputs": [],
   "source": [
    "# define output parser\n",
    "class GradeOutputParser(BaseOutputParser):\n",
    "    \"\"\"Determine whether grade was correct or wrong\"\"\"\n",
    "\n",
    "    def parse(self, text: str):\n",
    "        \"\"\"Parse the output of an LLM call.\"\"\"\n",
    "        return \"wrong\" not in text.lower()"
   ]
  },
  {
   "cell_type": "code",
   "execution_count": null,
   "id": "cbda495b-4e27-42aa-b2f8-bfc59eb93786",
   "metadata": {},
   "outputs": [],
   "source": [
    "# update chain\n",
    "chain = LLMChain(\n",
    "    llm=chat_model,\n",
    "    prompt=prompt,\n",
    "    output_parser=GradeOutputParser()\n",
    ")"
   ]
  },
  {
   "cell_type": "code",
   "execution_count": null,
   "id": "c3490e72-8594-4042-8dcc-07f545715e3d",
   "metadata": {},
   "outputs": [],
   "source": [
    "# grade student answers\n",
    "for student_answer in student_answer_list:\n",
    "    print(student_answer + \" - \" + str(chain.run({'question':question, 'correct_answer':correct_answer, 'student_answer':student_answer})))\n",
    "\n",
    "# Output:\n",
    "\n",
    "# John F. Kennedy - True\n",
    "# JFK - True\n",
    "# FDR - False\n",
    "# John F. Kenedy - True\n",
    "# John Kennedy - True\n",
    "# Jack Kennedy - True\n",
    "# Jacqueline Kennedy - False\n",
    "# Robert F. Kenedy - False"
   ]
  }
 ],
 "metadata": {
  "kernelspec": {
   "display_name": "Python (tf_llm_env)",
   "language": "python",
   "name": "tf_llm_env"
  },
  "language_info": {
   "codemirror_mode": {
    "name": "ipython",
    "version": 3
   },
   "file_extension": ".py",
   "mimetype": "text/x-python",
   "name": "python",
   "nbconvert_exporter": "python",
   "pygments_lexer": "ipython3",
   "version": "3.11.8"
  }
 },
 "nbformat": 4,
 "nbformat_minor": 5
}
