{
 "cells": [
  {
   "cell_type": "markdown",
   "id": "0b04800d-2554-4da1-a74d-3a980f220d90",
   "metadata": {},
   "source": [
    "##### Sentiment analysis with pipeline function"
   ]
  },
  {
   "cell_type": "code",
   "execution_count": 1,
   "id": "dc8d7420-ff55-4662-b3c6-1cf30912c583",
   "metadata": {},
   "outputs": [
    {
     "name": "stderr",
     "output_type": "stream",
     "text": [
      "2025-02-17 08:55:32.558830: I tensorflow/core/util/port.cc:113] oneDNN custom operations are on. You may see slightly different numerical results due to floating-point round-off errors from different computation orders. To turn them off, set the environment variable `TF_ENABLE_ONEDNN_OPTS=0`.\n",
      "2025-02-17 08:55:32.846406: E external/local_xla/xla/stream_executor/cuda/cuda_dnn.cc:9261] Unable to register cuDNN factory: Attempting to register factory for plugin cuDNN when one has already been registered\n",
      "2025-02-17 08:55:32.846465: E external/local_xla/xla/stream_executor/cuda/cuda_fft.cc:607] Unable to register cuFFT factory: Attempting to register factory for plugin cuFFT when one has already been registered\n",
      "2025-02-17 08:55:32.912524: E external/local_xla/xla/stream_executor/cuda/cuda_blas.cc:1515] Unable to register cuBLAS factory: Attempting to register factory for plugin cuBLAS when one has already been registered\n",
      "2025-02-17 08:55:33.010030: I tensorflow/core/platform/cpu_feature_guard.cc:182] This TensorFlow binary is optimized to use available CPU instructions in performance-critical operations.\n",
      "To enable the following instructions: SSE4.1 SSE4.2 AVX AVX2 AVX512F AVX512_VNNI FMA, in other operations, rebuild TensorFlow with the appropriate compiler flags.\n"
     ]
    }
   ],
   "source": [
    "from transformers import pipeline"
   ]
  },
  {
   "cell_type": "code",
   "execution_count": 2,
   "id": "844e13e2-712b-4dce-b789-963fe3c14393",
   "metadata": {},
   "outputs": [
    {
     "name": "stderr",
     "output_type": "stream",
     "text": [
      "No model was supplied, defaulted to distilbert/distilbert-base-uncased-finetuned-sst-2-english and revision 714eb0f (https://huggingface.co/distilbert/distilbert-base-uncased-finetuned-sst-2-english).\n",
      "Using a pipeline without specifying a model name and revision in production is not recommended.\n",
      "Hardware accelerator e.g. GPU is available in the environment, but no `device` argument is passed to the `Pipeline` object. Model will be on CPU.\n"
     ]
    },
    {
     "data": {
      "text/plain": [
       "[{'label': 'POSITIVE', 'score': 0.9998745918273926}]"
      ]
     },
     "execution_count": 2,
     "metadata": {},
     "output_type": "execute_result"
    }
   ],
   "source": [
    "# do a toy example with this function\n",
    "\n",
    "pipeline(task = \"sentiment-analysis\")(\"Love this!\")"
   ]
  },
  {
   "cell_type": "code",
   "execution_count": 3,
   "id": "18f0cb06-c631-40e4-b2fb-72a6a6ba932b",
   "metadata": {},
   "outputs": [
    {
     "name": "stderr",
     "output_type": "stream",
     "text": [
      "No model was supplied, defaulted to distilbert/distilbert-base-uncased-finetuned-sst-2-english and revision 714eb0f (https://huggingface.co/distilbert/distilbert-base-uncased-finetuned-sst-2-english).\n",
      "Using a pipeline without specifying a model name and revision in production is not recommended.\n",
      "Hardware accelerator e.g. GPU is available in the environment, but no `device` argument is passed to the `Pipeline` object. Model will be on CPU.\n"
     ]
    },
    {
     "data": {
      "text/plain": [
       "[{'label': 'NEGATIVE', 'score': 0.9980992674827576}]"
      ]
     },
     "execution_count": 3,
     "metadata": {},
     "output_type": "execute_result"
    }
   ],
   "source": [
    "# Do some more?\n",
    "pipeline(task = \"sentiment-analysis\")(\"No way!\")"
   ]
  },
  {
   "cell_type": "code",
   "execution_count": 4,
   "id": "c2929747-9c4d-4267-9f5d-7084b9974371",
   "metadata": {},
   "outputs": [
    {
     "name": "stderr",
     "output_type": "stream",
     "text": [
      "No model was supplied, defaulted to distilbert/distilbert-base-uncased-finetuned-sst-2-english and revision 714eb0f (https://huggingface.co/distilbert/distilbert-base-uncased-finetuned-sst-2-english).\n",
      "Using a pipeline without specifying a model name and revision in production is not recommended.\n",
      "Hardware accelerator e.g. GPU is available in the environment, but no `device` argument is passed to the `Pipeline` object. Model will be on CPU.\n"
     ]
    },
    {
     "data": {
      "text/plain": [
       "[{'label': 'POSITIVE', 'score': 0.9998427629470825}]"
      ]
     },
     "execution_count": 4,
     "metadata": {},
     "output_type": "execute_result"
    }
   ],
   "source": [
    "pipeline(task = \"sentiment-analysis\")(\"This is going good.\")"
   ]
  },
  {
   "cell_type": "code",
   "execution_count": 5,
   "id": "e5af349e-60af-4177-8330-32a8efba4305",
   "metadata": {},
   "outputs": [
    {
     "name": "stderr",
     "output_type": "stream",
     "text": [
      "No model was supplied, defaulted to distilbert/distilbert-base-uncased-finetuned-sst-2-english and revision 714eb0f (https://huggingface.co/distilbert/distilbert-base-uncased-finetuned-sst-2-english).\n",
      "Using a pipeline without specifying a model name and revision in production is not recommended.\n",
      "Hardware accelerator e.g. GPU is available in the environment, but no `device` argument is passed to the `Pipeline` object. Model will be on CPU.\n"
     ]
    },
    {
     "data": {
      "text/plain": [
       "[{'label': 'NEGATIVE', 'score': 0.9994474053382874}]"
      ]
     },
     "execution_count": 5,
     "metadata": {},
     "output_type": "execute_result"
    }
   ],
   "source": [
    "pipeline(task = \"sentiment-analysis\")(\"I'm not sure what is going on\")"
   ]
  },
  {
   "cell_type": "code",
   "execution_count": 6,
   "id": "a2cbfa1e-0ea5-450f-9bc2-feddef0ca995",
   "metadata": {},
   "outputs": [
    {
     "name": "stderr",
     "output_type": "stream",
     "text": [
      "Hardware accelerator e.g. GPU is available in the environment, but no `device` argument is passed to the `Pipeline` object. Model will be on CPU.\n"
     ]
    },
    {
     "data": {
      "text/plain": [
       "[{'label': 'NEGATIVE', 'score': 0.9994474053382874}]"
      ]
     },
     "execution_count": 6,
     "metadata": {},
     "output_type": "execute_result"
    }
   ],
   "source": [
    "# Notice that over here we used the default model in the pipelien function. We can specify the model as follows\n",
    "pipeline(task = \"sentiment-analysis\", model = \"distilbert/distilbert-base-uncased-finetuned-sst-2-english\")(\"I'm not sure what is going on\")"
   ]
  },
  {
   "cell_type": "code",
   "execution_count": 7,
   "id": "95ebc95e-4902-4a5f-a0bb-a0f3fbfb9381",
   "metadata": {},
   "outputs": [],
   "source": [
    "# Note that in the above cell, we are specifying the default model, that's why the scores are the same from with and without specifying the model."
   ]
  },
  {
   "cell_type": "code",
   "execution_count": 8,
   "id": "12ff20ae-34d9-4c96-8897-849d81423ec2",
   "metadata": {},
   "outputs": [
    {
     "data": {
      "text/plain": [
       "[{'label': 'NEGATIVE', 'score': 0.9994474053382874}]"
      ]
     },
     "execution_count": 8,
     "metadata": {},
     "output_type": "execute_result"
    }
   ],
   "source": [
    "# Notice that the task is run on the CPU, let's run this on the GPU\n",
    "pipeline(task = \"sentiment-analysis\", model = \"distilbert/distilbert-base-uncased-finetuned-sst-2-english\", device = 0)(\"I'm not sure what is going on\")"
   ]
  },
  {
   "cell_type": "code",
   "execution_count": 9,
   "id": "3c0f88ce-5060-4208-94e7-df18952fc9e7",
   "metadata": {},
   "outputs": [],
   "source": [
    "# let's use the pipeline function and create an object to do the sentiment analysis task. Note that we can do a list of strings to get the sentiment."
   ]
  },
  {
   "cell_type": "code",
   "execution_count": 10,
   "id": "a2bdc47c-4361-4e02-849f-439eb9ee9c17",
   "metadata": {},
   "outputs": [],
   "source": [
    "classifier = pipeline(task = \"sentiment-analysis\", model = \"distilbert/distilbert-base-uncased-finetuned-sst-2-english\", device = 0)"
   ]
  },
  {
   "cell_type": "code",
   "execution_count": 11,
   "id": "67bcc491-e408-4aee-a9a4-44a44ee96001",
   "metadata": {},
   "outputs": [
    {
     "data": {
      "text/plain": [
       "[{'label': 'NEGATIVE', 'score': 0.9995765089988708}]"
      ]
     },
     "execution_count": 11,
     "metadata": {},
     "output_type": "execute_result"
    }
   ],
   "source": [
    "classifier(\"I hate this!\")"
   ]
  },
  {
   "cell_type": "code",
   "execution_count": 12,
   "id": "6ec99546-ac7a-435c-a0c0-17c24d9687c0",
   "metadata": {},
   "outputs": [
    {
     "data": {
      "text/plain": [
       "[{'label': 'NEGATIVE', 'score': 0.9995765089988708},\n",
       " {'label': 'POSITIVE', 'score': 0.9997418522834778},\n",
       " {'label': 'POSITIVE', 'score': 0.9680057168006897}]"
      ]
     },
     "execution_count": 12,
     "metadata": {},
     "output_type": "execute_result"
    }
   ],
   "source": [
    "classifier([\"I hate this!\", \"Thanks for everything\", \"Thanks for nothing\"])\n",
    "\n",
    "# This is called batch prediction"
   ]
  },
  {
   "cell_type": "code",
   "execution_count": 13,
   "id": "f1ecb3a2-7694-4e7a-bbab-6f4693173db8",
   "metadata": {},
   "outputs": [],
   "source": [
    "# Let's use a different model - This model has multiple labels instead of 2.\n",
    "classifier_alt = pipeline(task = \"sentiment-analysis\", model = \"SamLowe/roberta-base-go_emotions\", device = 0)"
   ]
  },
  {
   "cell_type": "code",
   "execution_count": 14,
   "id": "96d58a27-e183-4bed-8bfd-4c23da220aea",
   "metadata": {},
   "outputs": [
    {
     "data": {
      "text/plain": [
       "[{'label': 'anger', 'score': 0.8251901268959045}]"
      ]
     },
     "execution_count": 14,
     "metadata": {},
     "output_type": "execute_result"
    }
   ],
   "source": [
    "classifier_alt(\"I hate this!\")"
   ]
  },
  {
   "cell_type": "code",
   "execution_count": 15,
   "id": "ec991e53-a808-4192-b1a4-469b7cd794bc",
   "metadata": {},
   "outputs": [],
   "source": [
    "classifier_alt = pipeline(task = \"sentiment-analysis\", model = \"SamLowe/roberta-base-go_emotions\", device = 0, top_k = None)"
   ]
  },
  {
   "cell_type": "code",
   "execution_count": 16,
   "id": "ec458a2d-bce8-492c-9b11-d868234fac8e",
   "metadata": {},
   "outputs": [
    {
     "data": {
      "text/plain": [
       "[[{'label': 'anger', 'score': 0.8251901268959045},\n",
       "  {'label': 'annoyance', 'score': 0.1419263780117035},\n",
       "  {'label': 'disapproval', 'score': 0.06777692586183548},\n",
       "  {'label': 'neutral', 'score': 0.03862481191754341},\n",
       "  {'label': 'disgust', 'score': 0.030981015413999557},\n",
       "  {'label': 'sadness', 'score': 0.013641703873872757},\n",
       "  {'label': 'disappointment', 'score': 0.010606891475617886},\n",
       "  {'label': 'curiosity', 'score': 0.007302332203835249},\n",
       "  {'label': 'confusion', 'score': 0.007207600399851799},\n",
       "  {'label': 'approval', 'score': 0.005974756553769112},\n",
       "  {'label': 'admiration', 'score': 0.00590805197134614},\n",
       "  {'label': 'love', 'score': 0.004466386511921883},\n",
       "  {'label': 'caring', 'score': 0.004102112725377083},\n",
       "  {'label': 'gratitude', 'score': 0.003977550193667412},\n",
       "  {'label': 'fear', 'score': 0.0036959948483854532},\n",
       "  {'label': 'realization', 'score': 0.0036867528688162565},\n",
       "  {'label': 'optimism', 'score': 0.0032723769545555115},\n",
       "  {'label': 'embarrassment', 'score': 0.0027732974849641323},\n",
       "  {'label': 'joy', 'score': 0.002688943175598979},\n",
       "  {'label': 'amusement', 'score': 0.0026788192335516214},\n",
       "  {'label': 'surprise', 'score': 0.002484348602592945},\n",
       "  {'label': 'excitement', 'score': 0.002003379864618182},\n",
       "  {'label': 'remorse', 'score': 0.0019748941995203495},\n",
       "  {'label': 'desire', 'score': 0.0018894224194809794},\n",
       "  {'label': 'grief', 'score': 0.0013405355857685208},\n",
       "  {'label': 'nervousness', 'score': 0.0006737059447914362},\n",
       "  {'label': 'pride', 'score': 0.0005827788845635951},\n",
       "  {'label': 'relief', 'score': 0.0003565866209100932}]]"
      ]
     },
     "execution_count": 16,
     "metadata": {},
     "output_type": "execute_result"
    }
   ],
   "source": [
    "classifier_alt(\"I hate this!\")"
   ]
  },
  {
   "cell_type": "markdown",
   "id": "38f07ccc-a181-41de-87ad-c93cd18caac1",
   "metadata": {},
   "source": [
    "We can do multiple other tasks such as creating a chatbot. Maybe we will get into these later."
   ]
  }
 ],
 "metadata": {
  "kernelspec": {
   "display_name": "Python (tf_llm_env)",
   "language": "python",
   "name": "tf_llm_env"
  },
  "language_info": {
   "codemirror_mode": {
    "name": "ipython",
    "version": 3
   },
   "file_extension": ".py",
   "mimetype": "text/x-python",
   "name": "python",
   "nbconvert_exporter": "python",
   "pygments_lexer": "ipython3",
   "version": "3.11.8"
  }
 },
 "nbformat": 4,
 "nbformat_minor": 5
}
