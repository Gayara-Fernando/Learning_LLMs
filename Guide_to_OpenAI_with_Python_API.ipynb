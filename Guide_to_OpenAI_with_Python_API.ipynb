{
 "cells": [
  {
   "cell_type": "markdown",
   "id": "5e4495b8-4584-4508-aaaf-2710745f106b",
   "metadata": {},
   "source": [
    "This notebook gives a general overview of working with OpenAI with python. The contents follow the informative youtube video by Shaw Talebi."
   ]
  },
  {
   "cell_type": "markdown",
   "id": "5b59ce74-61f8-43fa-a8a1-a025f5fec7a1",
   "metadata": {},
   "source": [
    "##### Getting started with OpenAI"
   ]
  },
  {
   "cell_type": "markdown",
   "id": "f8e0fd08-f7ab-4c97-b4d7-238bb7bd665e",
   "metadata": {},
   "source": [
    "We first need to setup an account at https://openai.com/. Once you have the account, you need an OpenAI access token (A secret key) to access the LLMs by OpenAI. To set up an access toke, use the link here: https://platform.openai.com/settings/organization/api-keys. You need to copy and paste this link at a safe location so that you can use it when you call these LLMs. And since these models are not open-sourced, we also need to set up a payment method inorder to use them. The charge on a per-token basis. The payment method can be set up using the link at https://platform.openai.com/settings/organization/billing/overview and going to add a payment method. The good thing is, you can set up a hard and a soft limit for the amount you want to spend on a monthly basis. The limits can be set here: https://platform.openai.com/settings/organization/limits. Let's run through a few examples Shaw use in his demo. "
   ]
  },
  {
   "cell_type": "markdown",
   "id": "4ff5c3ad-97f1-4b90-a136-deefcb64426e",
   "metadata": {},
   "source": []
  },
  {
   "cell_type": "code",
   "execution_count": null,
   "id": "188e5b11-7eb3-4d1c-afec-c40de019e4c8",
   "metadata": {},
   "outputs": [],
   "source": []
  },
  {
   "cell_type": "code",
   "execution_count": null,
   "id": "de5d49e0-9167-4c96-94b7-be687e05a93c",
   "metadata": {},
   "outputs": [],
   "source": []
  }
 ],
 "metadata": {
  "kernelspec": {
   "display_name": "Python (tf_llm_env)",
   "language": "python",
   "name": "tf_llm_env"
  },
  "language_info": {
   "codemirror_mode": {
    "name": "ipython",
    "version": 3
   },
   "file_extension": ".py",
   "mimetype": "text/x-python",
   "name": "python",
   "nbconvert_exporter": "python",
   "pygments_lexer": "ipython3",
   "version": "3.11.8"
  }
 },
 "nbformat": 4,
 "nbformat_minor": 5
}
